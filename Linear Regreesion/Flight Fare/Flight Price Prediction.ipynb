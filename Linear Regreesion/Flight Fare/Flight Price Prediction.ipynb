{
 "cells": [
  {
   "cell_type": "markdown",
   "id": "6cbf7284-4862-44a4-8402-e603c9481492",
   "metadata": {},
   "source": [
    "<div style=\"color:white;\n",
    "            display:fill;\n",
    "            border-radius:15px;\n",
    "            background-color:skyblue;\n",
    "            font-size:100%;\n",
    "            font-family:Verdana;\n",
    "            letter-spacing:1px\">\n",
    "    <h2 style='padding: 20px;\n",
    "              color:black;\n",
    "              text-align:center;'>\n",
    "        FLIGHT FARE PREDICTION\n",
    "    </h2>\n",
    "    </div>"
   ]
  },
  {
   "cell_type": "markdown",
   "id": "49fc996f-1dbe-48b9-aba7-19017c9717c9",
   "metadata": {},
   "source": [
    "**An airline company provides air transport services for traveling passengers.\n",
    "Airlines assign prices to their services in an attempt to maximize profitability. The pricing of airline tickets has become increasingly complicated over the years.**\n",
    "\n",
    "**The price of an Airline Ticket is affected by a number of factors, such as flight duration, days left for departure, arrival time and departure time, arrival cities etc.\n",
    "The goal is to build a model that accurately predicts flight prices to help travelers save time and money.**\n"
   ]
  },
  {
   "cell_type": "markdown",
   "id": "270d246f-7b17-41e4-9eae-4a4c1708625a",
   "metadata": {},
   "source": [
    "## About Dataset\n",
    "\n",
    "We have 2 datasets here — training set and test set.\n",
    "\n",
    "The training set contains the features, along with the prices of the flights. It contains 10683 records, 10 input features and 1 output column — ‘Price’.\n",
    "\n",
    "The test set contains 2671 records and 10 input features. The output ‘Price’ column needs to be predicted in this set. \n",
    "\n",
    "We will use Regression techniques here, since the predicted output will be a continuous value.\n",
    "\n",
    "### Features Information\n",
    "\n",
    "Airline: The name of the airline.\n",
    "\n",
    "Date_of_Journey: The date of the journey\n",
    "\n",
    "Source: The source from which the service begins.\n",
    "\n",
    "Destination: The destination where the service ends.\n",
    "\n",
    "Route: The route taken by the flight to reach the destination.\n",
    "\n",
    "Dep_Time: The time when the journey starts from the source.\n",
    "\n",
    "Arrival_Time: Time of arrival at the destination.\n",
    "\n",
    "Duration: Total duration of the flight.\n",
    "\n",
    "Total_Stops: Total stops between the source and destination.\n",
    "\n",
    "Additional_Info: Additional information about the flight\n",
    "\n",
    "Price: The price of the ticket"
   ]
  },
  {
   "cell_type": "markdown",
   "id": "31bdab23-14b9-40d7-8bc2-9ce92be45fe7",
   "metadata": {},
   "source": [
    "### Importing the Necessary Libraries"
   ]
  },
  {
   "cell_type": "code",
   "execution_count": 3,
   "id": "a37dd042-57dc-4ac1-b625-6ce537397597",
   "metadata": {},
   "outputs": [],
   "source": [
    "import numpy as np\n",
    "import pandas as pd\n",
    "import matplotlib.pyplot as plt\n",
    "import seaborn as sns"
   ]
  },
  {
   "cell_type": "code",
   "execution_count": 5,
   "id": "c0e24145-65f2-4175-8a60-042d77bcb1ad",
   "metadata": {},
   "outputs": [
    {
     "data": {
      "text/html": [
       "<div>\n",
       "<style scoped>\n",
       "    .dataframe tbody tr th:only-of-type {\n",
       "        vertical-align: middle;\n",
       "    }\n",
       "\n",
       "    .dataframe tbody tr th {\n",
       "        vertical-align: top;\n",
       "    }\n",
       "\n",
       "    .dataframe thead th {\n",
       "        text-align: right;\n",
       "    }\n",
       "</style>\n",
       "<table border=\"1\" class=\"dataframe\">\n",
       "  <thead>\n",
       "    <tr style=\"text-align: right;\">\n",
       "      <th></th>\n",
       "      <th>Airline</th>\n",
       "      <th>Date_of_Journey</th>\n",
       "      <th>Source</th>\n",
       "      <th>Destination</th>\n",
       "      <th>Route</th>\n",
       "      <th>Dep_Time</th>\n",
       "      <th>Arrival_Time</th>\n",
       "      <th>Duration</th>\n",
       "      <th>Total_Stops</th>\n",
       "      <th>Additional_Info</th>\n",
       "      <th>Price</th>\n",
       "    </tr>\n",
       "  </thead>\n",
       "  <tbody>\n",
       "    <tr>\n",
       "      <th>0</th>\n",
       "      <td>IndiGo</td>\n",
       "      <td>24/03/2019</td>\n",
       "      <td>Banglore</td>\n",
       "      <td>New Delhi</td>\n",
       "      <td>BLR → DEL</td>\n",
       "      <td>22:20</td>\n",
       "      <td>01:10 22 Mar</td>\n",
       "      <td>2h 50m</td>\n",
       "      <td>non-stop</td>\n",
       "      <td>No info</td>\n",
       "      <td>3897</td>\n",
       "    </tr>\n",
       "    <tr>\n",
       "      <th>1</th>\n",
       "      <td>Air India</td>\n",
       "      <td>1/05/2019</td>\n",
       "      <td>Kolkata</td>\n",
       "      <td>Banglore</td>\n",
       "      <td>CCU → IXR → BBI → BLR</td>\n",
       "      <td>05:50</td>\n",
       "      <td>13:15</td>\n",
       "      <td>7h 25m</td>\n",
       "      <td>2 stops</td>\n",
       "      <td>No info</td>\n",
       "      <td>7662</td>\n",
       "    </tr>\n",
       "    <tr>\n",
       "      <th>2</th>\n",
       "      <td>Jet Airways</td>\n",
       "      <td>9/06/2019</td>\n",
       "      <td>Delhi</td>\n",
       "      <td>Cochin</td>\n",
       "      <td>DEL → LKO → BOM → COK</td>\n",
       "      <td>09:25</td>\n",
       "      <td>04:25 10 Jun</td>\n",
       "      <td>19h</td>\n",
       "      <td>2 stops</td>\n",
       "      <td>No info</td>\n",
       "      <td>13882</td>\n",
       "    </tr>\n",
       "    <tr>\n",
       "      <th>3</th>\n",
       "      <td>IndiGo</td>\n",
       "      <td>12/05/2019</td>\n",
       "      <td>Kolkata</td>\n",
       "      <td>Banglore</td>\n",
       "      <td>CCU → NAG → BLR</td>\n",
       "      <td>18:05</td>\n",
       "      <td>23:30</td>\n",
       "      <td>5h 25m</td>\n",
       "      <td>1 stop</td>\n",
       "      <td>No info</td>\n",
       "      <td>6218</td>\n",
       "    </tr>\n",
       "    <tr>\n",
       "      <th>4</th>\n",
       "      <td>IndiGo</td>\n",
       "      <td>01/03/2019</td>\n",
       "      <td>Banglore</td>\n",
       "      <td>New Delhi</td>\n",
       "      <td>BLR → NAG → DEL</td>\n",
       "      <td>16:50</td>\n",
       "      <td>21:35</td>\n",
       "      <td>4h 45m</td>\n",
       "      <td>1 stop</td>\n",
       "      <td>No info</td>\n",
       "      <td>13302</td>\n",
       "    </tr>\n",
       "  </tbody>\n",
       "</table>\n",
       "</div>"
      ],
      "text/plain": [
       "       Airline Date_of_Journey    Source Destination                  Route  \\\n",
       "0       IndiGo      24/03/2019  Banglore   New Delhi              BLR → DEL   \n",
       "1    Air India       1/05/2019   Kolkata    Banglore  CCU → IXR → BBI → BLR   \n",
       "2  Jet Airways       9/06/2019     Delhi      Cochin  DEL → LKO → BOM → COK   \n",
       "3       IndiGo      12/05/2019   Kolkata    Banglore        CCU → NAG → BLR   \n",
       "4       IndiGo      01/03/2019  Banglore   New Delhi        BLR → NAG → DEL   \n",
       "\n",
       "  Dep_Time  Arrival_Time Duration Total_Stops Additional_Info  Price  \n",
       "0    22:20  01:10 22 Mar   2h 50m    non-stop         No info   3897  \n",
       "1    05:50         13:15   7h 25m     2 stops         No info   7662  \n",
       "2    09:25  04:25 10 Jun      19h     2 stops         No info  13882  \n",
       "3    18:05         23:30   5h 25m      1 stop         No info   6218  \n",
       "4    16:50         21:35   4h 45m      1 stop         No info  13302  "
      ]
     },
     "execution_count": 5,
     "metadata": {},
     "output_type": "execute_result"
    }
   ],
   "source": [
    "train_data = pd.read_excel('Data_Train.xlsx')\n",
    "train_data.head()"
   ]
  },
  {
   "cell_type": "code",
   "execution_count": 7,
   "id": "ee359c25-0696-4529-a9cf-4f2c4cedbc1b",
   "metadata": {},
   "outputs": [
    {
     "data": {
      "text/plain": [
       "(10683, 11)"
      ]
     },
     "execution_count": 7,
     "metadata": {},
     "output_type": "execute_result"
    }
   ],
   "source": [
    "train_data.shape"
   ]
  },
  {
   "cell_type": "code",
   "execution_count": 6,
   "id": "afb290df-04c4-42af-b438-78c44213d119",
   "metadata": {},
   "outputs": [
    {
     "data": {
      "text/html": [
       "<div>\n",
       "<style scoped>\n",
       "    .dataframe tbody tr th:only-of-type {\n",
       "        vertical-align: middle;\n",
       "    }\n",
       "\n",
       "    .dataframe tbody tr th {\n",
       "        vertical-align: top;\n",
       "    }\n",
       "\n",
       "    .dataframe thead th {\n",
       "        text-align: right;\n",
       "    }\n",
       "</style>\n",
       "<table border=\"1\" class=\"dataframe\">\n",
       "  <thead>\n",
       "    <tr style=\"text-align: right;\">\n",
       "      <th></th>\n",
       "      <th>Airline</th>\n",
       "      <th>Date_of_Journey</th>\n",
       "      <th>Source</th>\n",
       "      <th>Destination</th>\n",
       "      <th>Route</th>\n",
       "      <th>Dep_Time</th>\n",
       "      <th>Arrival_Time</th>\n",
       "      <th>Duration</th>\n",
       "      <th>Total_Stops</th>\n",
       "      <th>Additional_Info</th>\n",
       "    </tr>\n",
       "  </thead>\n",
       "  <tbody>\n",
       "    <tr>\n",
       "      <th>0</th>\n",
       "      <td>Jet Airways</td>\n",
       "      <td>6/06/2019</td>\n",
       "      <td>Delhi</td>\n",
       "      <td>Cochin</td>\n",
       "      <td>DEL → BOM → COK</td>\n",
       "      <td>17:30</td>\n",
       "      <td>04:25 07 Jun</td>\n",
       "      <td>10h 55m</td>\n",
       "      <td>1 stop</td>\n",
       "      <td>No info</td>\n",
       "    </tr>\n",
       "    <tr>\n",
       "      <th>1</th>\n",
       "      <td>IndiGo</td>\n",
       "      <td>12/05/2019</td>\n",
       "      <td>Kolkata</td>\n",
       "      <td>Banglore</td>\n",
       "      <td>CCU → MAA → BLR</td>\n",
       "      <td>06:20</td>\n",
       "      <td>10:20</td>\n",
       "      <td>4h</td>\n",
       "      <td>1 stop</td>\n",
       "      <td>No info</td>\n",
       "    </tr>\n",
       "    <tr>\n",
       "      <th>2</th>\n",
       "      <td>Jet Airways</td>\n",
       "      <td>21/05/2019</td>\n",
       "      <td>Delhi</td>\n",
       "      <td>Cochin</td>\n",
       "      <td>DEL → BOM → COK</td>\n",
       "      <td>19:15</td>\n",
       "      <td>19:00 22 May</td>\n",
       "      <td>23h 45m</td>\n",
       "      <td>1 stop</td>\n",
       "      <td>In-flight meal not included</td>\n",
       "    </tr>\n",
       "    <tr>\n",
       "      <th>3</th>\n",
       "      <td>Multiple carriers</td>\n",
       "      <td>21/05/2019</td>\n",
       "      <td>Delhi</td>\n",
       "      <td>Cochin</td>\n",
       "      <td>DEL → BOM → COK</td>\n",
       "      <td>08:00</td>\n",
       "      <td>21:00</td>\n",
       "      <td>13h</td>\n",
       "      <td>1 stop</td>\n",
       "      <td>No info</td>\n",
       "    </tr>\n",
       "    <tr>\n",
       "      <th>4</th>\n",
       "      <td>Air Asia</td>\n",
       "      <td>24/06/2019</td>\n",
       "      <td>Banglore</td>\n",
       "      <td>Delhi</td>\n",
       "      <td>BLR → DEL</td>\n",
       "      <td>23:55</td>\n",
       "      <td>02:45 25 Jun</td>\n",
       "      <td>2h 50m</td>\n",
       "      <td>non-stop</td>\n",
       "      <td>No info</td>\n",
       "    </tr>\n",
       "  </tbody>\n",
       "</table>\n",
       "</div>"
      ],
      "text/plain": [
       "             Airline Date_of_Journey    Source Destination            Route  \\\n",
       "0        Jet Airways       6/06/2019     Delhi      Cochin  DEL → BOM → COK   \n",
       "1             IndiGo      12/05/2019   Kolkata    Banglore  CCU → MAA → BLR   \n",
       "2        Jet Airways      21/05/2019     Delhi      Cochin  DEL → BOM → COK   \n",
       "3  Multiple carriers      21/05/2019     Delhi      Cochin  DEL → BOM → COK   \n",
       "4           Air Asia      24/06/2019  Banglore       Delhi        BLR → DEL   \n",
       "\n",
       "  Dep_Time  Arrival_Time Duration Total_Stops              Additional_Info  \n",
       "0    17:30  04:25 07 Jun  10h 55m      1 stop                      No info  \n",
       "1    06:20         10:20       4h      1 stop                      No info  \n",
       "2    19:15  19:00 22 May  23h 45m      1 stop  In-flight meal not included  \n",
       "3    08:00         21:00      13h      1 stop                      No info  \n",
       "4    23:55  02:45 25 Jun   2h 50m    non-stop                      No info  "
      ]
     },
     "execution_count": 6,
     "metadata": {},
     "output_type": "execute_result"
    }
   ],
   "source": [
    "test_data = pd.read_excel('Test_set.xlsx')\n",
    "test_data.head()"
   ]
  },
  {
   "cell_type": "code",
   "execution_count": 8,
   "id": "4cae5d05-a51c-4b27-b561-24ffc0ca6837",
   "metadata": {},
   "outputs": [
    {
     "data": {
      "text/plain": [
       "(2671, 10)"
      ]
     },
     "execution_count": 8,
     "metadata": {},
     "output_type": "execute_result"
    }
   ],
   "source": [
    "test_data.shape"
   ]
  },
  {
   "cell_type": "markdown",
   "id": "60476f66-9e6a-4f33-abba-8bc341616ac6",
   "metadata": {},
   "source": [
    "### Duplicates Information"
   ]
  },
  {
   "cell_type": "code",
   "execution_count": 11,
   "id": "f2a89e05-e386-4311-9382-3b7721d278ae",
   "metadata": {},
   "outputs": [
    {
     "data": {
      "text/html": [
       "<div>\n",
       "<style scoped>\n",
       "    .dataframe tbody tr th:only-of-type {\n",
       "        vertical-align: middle;\n",
       "    }\n",
       "\n",
       "    .dataframe tbody tr th {\n",
       "        vertical-align: top;\n",
       "    }\n",
       "\n",
       "    .dataframe thead th {\n",
       "        text-align: right;\n",
       "    }\n",
       "</style>\n",
       "<table border=\"1\" class=\"dataframe\">\n",
       "  <thead>\n",
       "    <tr style=\"text-align: right;\">\n",
       "      <th></th>\n",
       "      <th>Airline</th>\n",
       "      <th>Date_of_Journey</th>\n",
       "      <th>Source</th>\n",
       "      <th>Destination</th>\n",
       "      <th>Route</th>\n",
       "      <th>Dep_Time</th>\n",
       "      <th>Arrival_Time</th>\n",
       "      <th>Duration</th>\n",
       "      <th>Total_Stops</th>\n",
       "      <th>Additional_Info</th>\n",
       "      <th>Price</th>\n",
       "    </tr>\n",
       "  </thead>\n",
       "  <tbody>\n",
       "    <tr>\n",
       "      <th>683</th>\n",
       "      <td>Jet Airways</td>\n",
       "      <td>1/06/2019</td>\n",
       "      <td>Delhi</td>\n",
       "      <td>Cochin</td>\n",
       "      <td>DEL → NAG → BOM → COK</td>\n",
       "      <td>14:35</td>\n",
       "      <td>04:25 02 Jun</td>\n",
       "      <td>13h 50m</td>\n",
       "      <td>2 stops</td>\n",
       "      <td>No info</td>\n",
       "      <td>13376</td>\n",
       "    </tr>\n",
       "    <tr>\n",
       "      <th>1061</th>\n",
       "      <td>Air India</td>\n",
       "      <td>21/05/2019</td>\n",
       "      <td>Delhi</td>\n",
       "      <td>Cochin</td>\n",
       "      <td>DEL → GOI → BOM → COK</td>\n",
       "      <td>22:00</td>\n",
       "      <td>19:15 22 May</td>\n",
       "      <td>21h 15m</td>\n",
       "      <td>2 stops</td>\n",
       "      <td>No info</td>\n",
       "      <td>10231</td>\n",
       "    </tr>\n",
       "    <tr>\n",
       "      <th>1348</th>\n",
       "      <td>Air India</td>\n",
       "      <td>18/05/2019</td>\n",
       "      <td>Delhi</td>\n",
       "      <td>Cochin</td>\n",
       "      <td>DEL → HYD → BOM → COK</td>\n",
       "      <td>17:15</td>\n",
       "      <td>19:15 19 May</td>\n",
       "      <td>26h</td>\n",
       "      <td>2 stops</td>\n",
       "      <td>No info</td>\n",
       "      <td>12392</td>\n",
       "    </tr>\n",
       "    <tr>\n",
       "      <th>1418</th>\n",
       "      <td>Jet Airways</td>\n",
       "      <td>6/06/2019</td>\n",
       "      <td>Delhi</td>\n",
       "      <td>Cochin</td>\n",
       "      <td>DEL → JAI → BOM → COK</td>\n",
       "      <td>05:30</td>\n",
       "      <td>04:25 07 Jun</td>\n",
       "      <td>22h 55m</td>\n",
       "      <td>2 stops</td>\n",
       "      <td>In-flight meal not included</td>\n",
       "      <td>10368</td>\n",
       "    </tr>\n",
       "    <tr>\n",
       "      <th>1674</th>\n",
       "      <td>IndiGo</td>\n",
       "      <td>24/03/2019</td>\n",
       "      <td>Banglore</td>\n",
       "      <td>New Delhi</td>\n",
       "      <td>BLR → DEL</td>\n",
       "      <td>18:25</td>\n",
       "      <td>21:20</td>\n",
       "      <td>2h 55m</td>\n",
       "      <td>non-stop</td>\n",
       "      <td>No info</td>\n",
       "      <td>7303</td>\n",
       "    </tr>\n",
       "    <tr>\n",
       "      <th>...</th>\n",
       "      <td>...</td>\n",
       "      <td>...</td>\n",
       "      <td>...</td>\n",
       "      <td>...</td>\n",
       "      <td>...</td>\n",
       "      <td>...</td>\n",
       "      <td>...</td>\n",
       "      <td>...</td>\n",
       "      <td>...</td>\n",
       "      <td>...</td>\n",
       "      <td>...</td>\n",
       "    </tr>\n",
       "    <tr>\n",
       "      <th>10594</th>\n",
       "      <td>Jet Airways</td>\n",
       "      <td>27/06/2019</td>\n",
       "      <td>Delhi</td>\n",
       "      <td>Cochin</td>\n",
       "      <td>DEL → AMD → BOM → COK</td>\n",
       "      <td>23:05</td>\n",
       "      <td>12:35 28 Jun</td>\n",
       "      <td>13h 30m</td>\n",
       "      <td>2 stops</td>\n",
       "      <td>No info</td>\n",
       "      <td>12819</td>\n",
       "    </tr>\n",
       "    <tr>\n",
       "      <th>10616</th>\n",
       "      <td>Jet Airways</td>\n",
       "      <td>1/06/2019</td>\n",
       "      <td>Delhi</td>\n",
       "      <td>Cochin</td>\n",
       "      <td>DEL → JAI → BOM → COK</td>\n",
       "      <td>09:40</td>\n",
       "      <td>12:35 02 Jun</td>\n",
       "      <td>26h 55m</td>\n",
       "      <td>2 stops</td>\n",
       "      <td>No info</td>\n",
       "      <td>13014</td>\n",
       "    </tr>\n",
       "    <tr>\n",
       "      <th>10634</th>\n",
       "      <td>Jet Airways</td>\n",
       "      <td>6/06/2019</td>\n",
       "      <td>Delhi</td>\n",
       "      <td>Cochin</td>\n",
       "      <td>DEL → JAI → BOM → COK</td>\n",
       "      <td>09:40</td>\n",
       "      <td>12:35 07 Jun</td>\n",
       "      <td>26h 55m</td>\n",
       "      <td>2 stops</td>\n",
       "      <td>In-flight meal not included</td>\n",
       "      <td>11733</td>\n",
       "    </tr>\n",
       "    <tr>\n",
       "      <th>10672</th>\n",
       "      <td>Jet Airways</td>\n",
       "      <td>27/06/2019</td>\n",
       "      <td>Delhi</td>\n",
       "      <td>Cochin</td>\n",
       "      <td>DEL → AMD → BOM → COK</td>\n",
       "      <td>23:05</td>\n",
       "      <td>19:00 28 Jun</td>\n",
       "      <td>19h 55m</td>\n",
       "      <td>2 stops</td>\n",
       "      <td>In-flight meal not included</td>\n",
       "      <td>11150</td>\n",
       "    </tr>\n",
       "    <tr>\n",
       "      <th>10673</th>\n",
       "      <td>Jet Airways</td>\n",
       "      <td>27/05/2019</td>\n",
       "      <td>Delhi</td>\n",
       "      <td>Cochin</td>\n",
       "      <td>DEL → AMD → BOM → COK</td>\n",
       "      <td>13:25</td>\n",
       "      <td>04:25 28 May</td>\n",
       "      <td>15h</td>\n",
       "      <td>2 stops</td>\n",
       "      <td>No info</td>\n",
       "      <td>16704</td>\n",
       "    </tr>\n",
       "  </tbody>\n",
       "</table>\n",
       "<p>220 rows × 11 columns</p>\n",
       "</div>"
      ],
      "text/plain": [
       "           Airline Date_of_Journey    Source Destination  \\\n",
       "683    Jet Airways       1/06/2019     Delhi      Cochin   \n",
       "1061     Air India      21/05/2019     Delhi      Cochin   \n",
       "1348     Air India      18/05/2019     Delhi      Cochin   \n",
       "1418   Jet Airways       6/06/2019     Delhi      Cochin   \n",
       "1674        IndiGo      24/03/2019  Banglore   New Delhi   \n",
       "...            ...             ...       ...         ...   \n",
       "10594  Jet Airways      27/06/2019     Delhi      Cochin   \n",
       "10616  Jet Airways       1/06/2019     Delhi      Cochin   \n",
       "10634  Jet Airways       6/06/2019     Delhi      Cochin   \n",
       "10672  Jet Airways      27/06/2019     Delhi      Cochin   \n",
       "10673  Jet Airways      27/05/2019     Delhi      Cochin   \n",
       "\n",
       "                       Route Dep_Time  Arrival_Time Duration Total_Stops  \\\n",
       "683    DEL → NAG → BOM → COK    14:35  04:25 02 Jun  13h 50m     2 stops   \n",
       "1061   DEL → GOI → BOM → COK    22:00  19:15 22 May  21h 15m     2 stops   \n",
       "1348   DEL → HYD → BOM → COK    17:15  19:15 19 May      26h     2 stops   \n",
       "1418   DEL → JAI → BOM → COK    05:30  04:25 07 Jun  22h 55m     2 stops   \n",
       "1674               BLR → DEL    18:25         21:20   2h 55m    non-stop   \n",
       "...                      ...      ...           ...      ...         ...   \n",
       "10594  DEL → AMD → BOM → COK    23:05  12:35 28 Jun  13h 30m     2 stops   \n",
       "10616  DEL → JAI → BOM → COK    09:40  12:35 02 Jun  26h 55m     2 stops   \n",
       "10634  DEL → JAI → BOM → COK    09:40  12:35 07 Jun  26h 55m     2 stops   \n",
       "10672  DEL → AMD → BOM → COK    23:05  19:00 28 Jun  19h 55m     2 stops   \n",
       "10673  DEL → AMD → BOM → COK    13:25  04:25 28 May      15h     2 stops   \n",
       "\n",
       "                   Additional_Info  Price  \n",
       "683                        No info  13376  \n",
       "1061                       No info  10231  \n",
       "1348                       No info  12392  \n",
       "1418   In-flight meal not included  10368  \n",
       "1674                       No info   7303  \n",
       "...                            ...    ...  \n",
       "10594                      No info  12819  \n",
       "10616                      No info  13014  \n",
       "10634  In-flight meal not included  11733  \n",
       "10672  In-flight meal not included  11150  \n",
       "10673                      No info  16704  \n",
       "\n",
       "[220 rows x 11 columns]"
      ]
     },
     "execution_count": 11,
     "metadata": {},
     "output_type": "execute_result"
    }
   ],
   "source": [
    "train_data[train_data.duplicated()]"
   ]
  },
  {
   "cell_type": "code",
   "execution_count": 12,
   "id": "f8445839-a6f7-4ec6-b022-086e353990ca",
   "metadata": {},
   "outputs": [],
   "source": [
    "train_data_copy = train_data.copy(deep= True)"
   ]
  },
  {
   "cell_type": "code",
   "execution_count": 14,
   "id": "be0a8918-0fc6-4ebb-8db7-87fe12da3c2e",
   "metadata": {},
   "outputs": [],
   "source": [
    "train_data.drop_duplicates(inplace=True)"
   ]
  },
  {
   "cell_type": "code",
   "execution_count": 17,
   "id": "e9b97cba-1b31-4dce-bcc2-5199697b3079",
   "metadata": {},
   "outputs": [],
   "source": [
    "train_data.reset_index(inplace = True,drop = True)"
   ]
  },
  {
   "cell_type": "code",
   "execution_count": 18,
   "id": "8475b6d5-a9dd-4be3-b96f-3f4e5ae12681",
   "metadata": {},
   "outputs": [
    {
     "data": {
      "text/plain": [
       "(10463, 11)"
      ]
     },
     "execution_count": 18,
     "metadata": {},
     "output_type": "execute_result"
    }
   ],
   "source": [
    "train_data.shape"
   ]
  },
  {
   "cell_type": "markdown",
   "id": "57fb44a3-7f2f-4f09-9427-0513029e57a4",
   "metadata": {},
   "source": [
    "### EDA"
   ]
  },
  {
   "cell_type": "code",
   "execution_count": 20,
   "id": "cbcc697f-1d91-4462-b6d2-8a2d464a8bdb",
   "metadata": {},
   "outputs": [
    {
     "data": {
      "text/plain": [
       "Route          1\n",
       "Total_Stops    1\n",
       "dtype: int64"
      ]
     },
     "execution_count": 20,
     "metadata": {},
     "output_type": "execute_result"
    }
   ],
   "source": [
    "null_counts = train_data.isnull().sum()\n",
    "null_counts[null_counts>0]"
   ]
  },
  {
   "cell_type": "code",
   "execution_count": 23,
   "id": "ae3cd916-1a38-4ee5-9879-7bc6b52c7587",
   "metadata": {},
   "outputs": [
    {
     "data": {
      "text/html": [
       "<div>\n",
       "<style scoped>\n",
       "    .dataframe tbody tr th:only-of-type {\n",
       "        vertical-align: middle;\n",
       "    }\n",
       "\n",
       "    .dataframe tbody tr th {\n",
       "        vertical-align: top;\n",
       "    }\n",
       "\n",
       "    .dataframe thead th {\n",
       "        text-align: right;\n",
       "    }\n",
       "</style>\n",
       "<table border=\"1\" class=\"dataframe\">\n",
       "  <thead>\n",
       "    <tr style=\"text-align: right;\">\n",
       "      <th></th>\n",
       "      <th>Airline</th>\n",
       "      <th>Date_of_Journey</th>\n",
       "      <th>Source</th>\n",
       "      <th>Destination</th>\n",
       "      <th>Route</th>\n",
       "      <th>Dep_Time</th>\n",
       "      <th>Arrival_Time</th>\n",
       "      <th>Duration</th>\n",
       "      <th>Total_Stops</th>\n",
       "      <th>Additional_Info</th>\n",
       "      <th>Price</th>\n",
       "    </tr>\n",
       "  </thead>\n",
       "  <tbody>\n",
       "    <tr>\n",
       "      <th>8893</th>\n",
       "      <td>Air India</td>\n",
       "      <td>6/05/2019</td>\n",
       "      <td>Delhi</td>\n",
       "      <td>Cochin</td>\n",
       "      <td>NaN</td>\n",
       "      <td>09:45</td>\n",
       "      <td>09:25 07 May</td>\n",
       "      <td>23h 40m</td>\n",
       "      <td>NaN</td>\n",
       "      <td>No info</td>\n",
       "      <td>7480</td>\n",
       "    </tr>\n",
       "  </tbody>\n",
       "</table>\n",
       "</div>"
      ],
      "text/plain": [
       "        Airline Date_of_Journey Source Destination Route Dep_Time  \\\n",
       "8893  Air India       6/05/2019  Delhi      Cochin   NaN    09:45   \n",
       "\n",
       "      Arrival_Time Duration Total_Stops Additional_Info  Price  \n",
       "8893  09:25 07 May  23h 40m         NaN         No info   7480  "
      ]
     },
     "execution_count": 23,
     "metadata": {},
     "output_type": "execute_result"
    }
   ],
   "source": [
    "train_data[(train_data['Route'].isnull()) | (train_data['Total_Stops'].isnull())]"
   ]
  },
  {
   "cell_type": "code",
   "execution_count": 25,
   "id": "fe23b811-173c-4e99-b4ee-2d1ee4efc58d",
   "metadata": {},
   "outputs": [],
   "source": [
    "train_data.dropna(inplace = True)"
   ]
  },
  {
   "cell_type": "code",
   "execution_count": 26,
   "id": "59b60a67-6ad1-462e-ace9-9227aad51ee9",
   "metadata": {},
   "outputs": [],
   "source": [
    "train_data.reset_index(inplace = True,drop = True)"
   ]
  },
  {
   "cell_type": "code",
   "execution_count": 29,
   "id": "911e6623-4e1e-47fe-8d36-e61fe117dbca",
   "metadata": {},
   "outputs": [
    {
     "data": {
      "text/plain": [
       "(10462, 11)"
      ]
     },
     "execution_count": 29,
     "metadata": {},
     "output_type": "execute_result"
    }
   ],
   "source": [
    "train_data.shape"
   ]
  },
  {
   "cell_type": "code",
   "execution_count": 30,
   "id": "5fc46a49-cd63-4c2b-a19b-2010da1bb630",
   "metadata": {},
   "outputs": [
    {
     "data": {
      "text/plain": [
       "(10683, 11)"
      ]
     },
     "execution_count": 30,
     "metadata": {},
     "output_type": "execute_result"
    }
   ],
   "source": [
    "train_data_copy.shape"
   ]
  },
  {
   "cell_type": "markdown",
   "id": "c482fa8e-5d26-460a-b5ec-2bbebe675afa",
   "metadata": {},
   "source": [
    "After removing all the unwanted records we are left with 10462 out of 10683"
   ]
  },
  {
   "cell_type": "code",
   "execution_count": 31,
   "id": "0d947068-794f-4122-be14-375aaed18e25",
   "metadata": {},
   "outputs": [
    {
     "name": "stdout",
     "output_type": "stream",
     "text": [
      "<class 'pandas.core.frame.DataFrame'>\n",
      "RangeIndex: 10462 entries, 0 to 10461\n",
      "Data columns (total 11 columns):\n",
      " #   Column           Non-Null Count  Dtype \n",
      "---  ------           --------------  ----- \n",
      " 0   Airline          10462 non-null  object\n",
      " 1   Date_of_Journey  10462 non-null  object\n",
      " 2   Source           10462 non-null  object\n",
      " 3   Destination      10462 non-null  object\n",
      " 4   Route            10462 non-null  object\n",
      " 5   Dep_Time         10462 non-null  object\n",
      " 6   Arrival_Time     10462 non-null  object\n",
      " 7   Duration         10462 non-null  object\n",
      " 8   Total_Stops      10462 non-null  object\n",
      " 9   Additional_Info  10462 non-null  object\n",
      " 10  Price            10462 non-null  int64 \n",
      "dtypes: int64(1), object(10)\n",
      "memory usage: 899.2+ KB\n"
     ]
    }
   ],
   "source": [
    "train_data.info()"
   ]
  },
  {
   "cell_type": "code",
   "execution_count": 34,
   "id": "1449c94b-d990-4052-a499-ddb7a41abe56",
   "metadata": {},
   "outputs": [],
   "source": [
    "from warnings import filterwarnings\n",
    "filterwarnings('ignore')"
   ]
  },
  {
   "cell_type": "code",
   "execution_count": 43,
   "id": "cc0a5d94-b71f-4c28-a90b-49fff4454b96",
   "metadata": {},
   "outputs": [],
   "source": [
    "train_data['Date_of_Journey'] = pd.to_datetime(train_data['Date_of_Journey'])"
   ]
  },
  {
   "cell_type": "code",
   "execution_count": 42,
   "id": "789c1643-5374-4cc5-98b3-75210a1459ee",
   "metadata": {},
   "outputs": [],
   "source": [
    "train_data.drop('DOJ',axis = 1,inplace = True)"
   ]
  },
  {
   "cell_type": "code",
   "execution_count": 44,
   "id": "72152e7d-a958-4c28-8956-14dd29531e01",
   "metadata": {},
   "outputs": [
    {
     "data": {
      "text/html": [
       "<div>\n",
       "<style scoped>\n",
       "    .dataframe tbody tr th:only-of-type {\n",
       "        vertical-align: middle;\n",
       "    }\n",
       "\n",
       "    .dataframe tbody tr th {\n",
       "        vertical-align: top;\n",
       "    }\n",
       "\n",
       "    .dataframe thead th {\n",
       "        text-align: right;\n",
       "    }\n",
       "</style>\n",
       "<table border=\"1\" class=\"dataframe\">\n",
       "  <thead>\n",
       "    <tr style=\"text-align: right;\">\n",
       "      <th></th>\n",
       "      <th>Airline</th>\n",
       "      <th>Date_of_Journey</th>\n",
       "      <th>Source</th>\n",
       "      <th>Destination</th>\n",
       "      <th>Route</th>\n",
       "      <th>Dep_Time</th>\n",
       "      <th>Arrival_Time</th>\n",
       "      <th>Duration</th>\n",
       "      <th>Total_Stops</th>\n",
       "      <th>Additional_Info</th>\n",
       "      <th>Price</th>\n",
       "    </tr>\n",
       "  </thead>\n",
       "  <tbody>\n",
       "    <tr>\n",
       "      <th>0</th>\n",
       "      <td>IndiGo</td>\n",
       "      <td>2019-03-24</td>\n",
       "      <td>Banglore</td>\n",
       "      <td>New Delhi</td>\n",
       "      <td>BLR → DEL</td>\n",
       "      <td>22:20</td>\n",
       "      <td>01:10 22 Mar</td>\n",
       "      <td>2h 50m</td>\n",
       "      <td>non-stop</td>\n",
       "      <td>No info</td>\n",
       "      <td>3897</td>\n",
       "    </tr>\n",
       "    <tr>\n",
       "      <th>1</th>\n",
       "      <td>Air India</td>\n",
       "      <td>2019-05-01</td>\n",
       "      <td>Kolkata</td>\n",
       "      <td>Banglore</td>\n",
       "      <td>CCU → IXR → BBI → BLR</td>\n",
       "      <td>05:50</td>\n",
       "      <td>13:15</td>\n",
       "      <td>7h 25m</td>\n",
       "      <td>2 stops</td>\n",
       "      <td>No info</td>\n",
       "      <td>7662</td>\n",
       "    </tr>\n",
       "    <tr>\n",
       "      <th>2</th>\n",
       "      <td>Jet Airways</td>\n",
       "      <td>2019-06-09</td>\n",
       "      <td>Delhi</td>\n",
       "      <td>Cochin</td>\n",
       "      <td>DEL → LKO → BOM → COK</td>\n",
       "      <td>09:25</td>\n",
       "      <td>04:25 10 Jun</td>\n",
       "      <td>19h</td>\n",
       "      <td>2 stops</td>\n",
       "      <td>No info</td>\n",
       "      <td>13882</td>\n",
       "    </tr>\n",
       "    <tr>\n",
       "      <th>3</th>\n",
       "      <td>IndiGo</td>\n",
       "      <td>2019-05-12</td>\n",
       "      <td>Kolkata</td>\n",
       "      <td>Banglore</td>\n",
       "      <td>CCU → NAG → BLR</td>\n",
       "      <td>18:05</td>\n",
       "      <td>23:30</td>\n",
       "      <td>5h 25m</td>\n",
       "      <td>1 stop</td>\n",
       "      <td>No info</td>\n",
       "      <td>6218</td>\n",
       "    </tr>\n",
       "    <tr>\n",
       "      <th>4</th>\n",
       "      <td>IndiGo</td>\n",
       "      <td>2019-03-01</td>\n",
       "      <td>Banglore</td>\n",
       "      <td>New Delhi</td>\n",
       "      <td>BLR → NAG → DEL</td>\n",
       "      <td>16:50</td>\n",
       "      <td>21:35</td>\n",
       "      <td>4h 45m</td>\n",
       "      <td>1 stop</td>\n",
       "      <td>No info</td>\n",
       "      <td>13302</td>\n",
       "    </tr>\n",
       "    <tr>\n",
       "      <th>...</th>\n",
       "      <td>...</td>\n",
       "      <td>...</td>\n",
       "      <td>...</td>\n",
       "      <td>...</td>\n",
       "      <td>...</td>\n",
       "      <td>...</td>\n",
       "      <td>...</td>\n",
       "      <td>...</td>\n",
       "      <td>...</td>\n",
       "      <td>...</td>\n",
       "      <td>...</td>\n",
       "    </tr>\n",
       "    <tr>\n",
       "      <th>10457</th>\n",
       "      <td>Air Asia</td>\n",
       "      <td>2019-04-09</td>\n",
       "      <td>Kolkata</td>\n",
       "      <td>Banglore</td>\n",
       "      <td>CCU → BLR</td>\n",
       "      <td>19:55</td>\n",
       "      <td>22:25</td>\n",
       "      <td>2h 30m</td>\n",
       "      <td>non-stop</td>\n",
       "      <td>No info</td>\n",
       "      <td>4107</td>\n",
       "    </tr>\n",
       "    <tr>\n",
       "      <th>10458</th>\n",
       "      <td>Air India</td>\n",
       "      <td>2019-04-27</td>\n",
       "      <td>Kolkata</td>\n",
       "      <td>Banglore</td>\n",
       "      <td>CCU → BLR</td>\n",
       "      <td>20:45</td>\n",
       "      <td>23:20</td>\n",
       "      <td>2h 35m</td>\n",
       "      <td>non-stop</td>\n",
       "      <td>No info</td>\n",
       "      <td>4145</td>\n",
       "    </tr>\n",
       "    <tr>\n",
       "      <th>10459</th>\n",
       "      <td>Jet Airways</td>\n",
       "      <td>2019-04-27</td>\n",
       "      <td>Banglore</td>\n",
       "      <td>Delhi</td>\n",
       "      <td>BLR → DEL</td>\n",
       "      <td>08:20</td>\n",
       "      <td>11:20</td>\n",
       "      <td>3h</td>\n",
       "      <td>non-stop</td>\n",
       "      <td>No info</td>\n",
       "      <td>7229</td>\n",
       "    </tr>\n",
       "    <tr>\n",
       "      <th>10460</th>\n",
       "      <td>Vistara</td>\n",
       "      <td>2019-03-01</td>\n",
       "      <td>Banglore</td>\n",
       "      <td>New Delhi</td>\n",
       "      <td>BLR → DEL</td>\n",
       "      <td>11:30</td>\n",
       "      <td>14:10</td>\n",
       "      <td>2h 40m</td>\n",
       "      <td>non-stop</td>\n",
       "      <td>No info</td>\n",
       "      <td>12648</td>\n",
       "    </tr>\n",
       "    <tr>\n",
       "      <th>10461</th>\n",
       "      <td>Air India</td>\n",
       "      <td>2019-05-09</td>\n",
       "      <td>Delhi</td>\n",
       "      <td>Cochin</td>\n",
       "      <td>DEL → GOI → BOM → COK</td>\n",
       "      <td>10:55</td>\n",
       "      <td>19:15</td>\n",
       "      <td>8h 20m</td>\n",
       "      <td>2 stops</td>\n",
       "      <td>No info</td>\n",
       "      <td>11753</td>\n",
       "    </tr>\n",
       "  </tbody>\n",
       "</table>\n",
       "<p>10462 rows × 11 columns</p>\n",
       "</div>"
      ],
      "text/plain": [
       "           Airline Date_of_Journey    Source Destination  \\\n",
       "0           IndiGo      2019-03-24  Banglore   New Delhi   \n",
       "1        Air India      2019-05-01   Kolkata    Banglore   \n",
       "2      Jet Airways      2019-06-09     Delhi      Cochin   \n",
       "3           IndiGo      2019-05-12   Kolkata    Banglore   \n",
       "4           IndiGo      2019-03-01  Banglore   New Delhi   \n",
       "...            ...             ...       ...         ...   \n",
       "10457     Air Asia      2019-04-09   Kolkata    Banglore   \n",
       "10458    Air India      2019-04-27   Kolkata    Banglore   \n",
       "10459  Jet Airways      2019-04-27  Banglore       Delhi   \n",
       "10460      Vistara      2019-03-01  Banglore   New Delhi   \n",
       "10461    Air India      2019-05-09     Delhi      Cochin   \n",
       "\n",
       "                       Route Dep_Time  Arrival_Time Duration Total_Stops  \\\n",
       "0                  BLR → DEL    22:20  01:10 22 Mar   2h 50m    non-stop   \n",
       "1      CCU → IXR → BBI → BLR    05:50         13:15   7h 25m     2 stops   \n",
       "2      DEL → LKO → BOM → COK    09:25  04:25 10 Jun      19h     2 stops   \n",
       "3            CCU → NAG → BLR    18:05         23:30   5h 25m      1 stop   \n",
       "4            BLR → NAG → DEL    16:50         21:35   4h 45m      1 stop   \n",
       "...                      ...      ...           ...      ...         ...   \n",
       "10457              CCU → BLR    19:55         22:25   2h 30m    non-stop   \n",
       "10458              CCU → BLR    20:45         23:20   2h 35m    non-stop   \n",
       "10459              BLR → DEL    08:20         11:20       3h    non-stop   \n",
       "10460              BLR → DEL    11:30         14:10   2h 40m    non-stop   \n",
       "10461  DEL → GOI → BOM → COK    10:55         19:15   8h 20m     2 stops   \n",
       "\n",
       "      Additional_Info  Price  \n",
       "0             No info   3897  \n",
       "1             No info   7662  \n",
       "2             No info  13882  \n",
       "3             No info   6218  \n",
       "4             No info  13302  \n",
       "...               ...    ...  \n",
       "10457         No info   4107  \n",
       "10458         No info   4145  \n",
       "10459         No info   7229  \n",
       "10460         No info  12648  \n",
       "10461         No info  11753  \n",
       "\n",
       "[10462 rows x 11 columns]"
      ]
     },
     "execution_count": 44,
     "metadata": {},
     "output_type": "execute_result"
    }
   ],
   "source": [
    "train_data"
   ]
  },
  {
   "cell_type": "code",
   "execution_count": 45,
   "id": "54fd844a-a4fa-4355-9ceb-293f8480bf2e",
   "metadata": {},
   "outputs": [
    {
     "name": "stdout",
     "output_type": "stream",
     "text": [
      "<class 'pandas.core.frame.DataFrame'>\n",
      "RangeIndex: 10462 entries, 0 to 10461\n",
      "Data columns (total 11 columns):\n",
      " #   Column           Non-Null Count  Dtype         \n",
      "---  ------           --------------  -----         \n",
      " 0   Airline          10462 non-null  object        \n",
      " 1   Date_of_Journey  10462 non-null  datetime64[ns]\n",
      " 2   Source           10462 non-null  object        \n",
      " 3   Destination      10462 non-null  object        \n",
      " 4   Route            10462 non-null  object        \n",
      " 5   Dep_Time         10462 non-null  object        \n",
      " 6   Arrival_Time     10462 non-null  object        \n",
      " 7   Duration         10462 non-null  object        \n",
      " 8   Total_Stops      10462 non-null  object        \n",
      " 9   Additional_Info  10462 non-null  object        \n",
      " 10  Price            10462 non-null  int64         \n",
      "dtypes: datetime64[ns](1), int64(1), object(9)\n",
      "memory usage: 899.2+ KB\n"
     ]
    }
   ],
   "source": [
    "train_data.info()"
   ]
  },
  {
   "cell_type": "code",
   "execution_count": 47,
   "id": "c563ca53-9db6-47fe-a9d8-cb005330732c",
   "metadata": {},
   "outputs": [],
   "source": [
    "train_data['Year'] = train_data['Date_of_Journey'].dt.year"
   ]
  },
  {
   "cell_type": "code",
   "execution_count": 48,
   "id": "159071a7-7d03-4afc-a205-941715e30154",
   "metadata": {},
   "outputs": [],
   "source": [
    "train_data['Month'] = train_data['Date_of_Journey'].dt.month"
   ]
  },
  {
   "cell_type": "code",
   "execution_count": 50,
   "id": "4211c41e-ef64-43dc-aea0-93ffaf2e2a54",
   "metadata": {},
   "outputs": [],
   "source": [
    "train_data['Date'] = train_data['Date_of_Journey'].dt.day"
   ]
  },
  {
   "cell_type": "code",
   "execution_count": 52,
   "id": "b7a4626a-8dcb-400f-a8bd-c01bc8621328",
   "metadata": {},
   "outputs": [
    {
     "data": {
      "text/html": [
       "<div>\n",
       "<style scoped>\n",
       "    .dataframe tbody tr th:only-of-type {\n",
       "        vertical-align: middle;\n",
       "    }\n",
       "\n",
       "    .dataframe tbody tr th {\n",
       "        vertical-align: top;\n",
       "    }\n",
       "\n",
       "    .dataframe thead th {\n",
       "        text-align: right;\n",
       "    }\n",
       "</style>\n",
       "<table border=\"1\" class=\"dataframe\">\n",
       "  <thead>\n",
       "    <tr style=\"text-align: right;\">\n",
       "      <th></th>\n",
       "      <th>Airline</th>\n",
       "      <th>Date_of_Journey</th>\n",
       "      <th>Source</th>\n",
       "      <th>Destination</th>\n",
       "      <th>Route</th>\n",
       "      <th>Dep_Time</th>\n",
       "      <th>Arrival_Time</th>\n",
       "      <th>Duration</th>\n",
       "      <th>Total_Stops</th>\n",
       "      <th>Additional_Info</th>\n",
       "      <th>Price</th>\n",
       "      <th>Year</th>\n",
       "      <th>Month</th>\n",
       "      <th>Date</th>\n",
       "    </tr>\n",
       "  </thead>\n",
       "  <tbody>\n",
       "    <tr>\n",
       "      <th>0</th>\n",
       "      <td>IndiGo</td>\n",
       "      <td>2019-03-24</td>\n",
       "      <td>Banglore</td>\n",
       "      <td>New Delhi</td>\n",
       "      <td>BLR → DEL</td>\n",
       "      <td>22:20</td>\n",
       "      <td>01:10 22 Mar</td>\n",
       "      <td>2h 50m</td>\n",
       "      <td>non-stop</td>\n",
       "      <td>No info</td>\n",
       "      <td>3897</td>\n",
       "      <td>2019</td>\n",
       "      <td>3</td>\n",
       "      <td>24</td>\n",
       "    </tr>\n",
       "    <tr>\n",
       "      <th>1</th>\n",
       "      <td>Air India</td>\n",
       "      <td>2019-05-01</td>\n",
       "      <td>Kolkata</td>\n",
       "      <td>Banglore</td>\n",
       "      <td>CCU → IXR → BBI → BLR</td>\n",
       "      <td>05:50</td>\n",
       "      <td>13:15</td>\n",
       "      <td>7h 25m</td>\n",
       "      <td>2 stops</td>\n",
       "      <td>No info</td>\n",
       "      <td>7662</td>\n",
       "      <td>2019</td>\n",
       "      <td>5</td>\n",
       "      <td>1</td>\n",
       "    </tr>\n",
       "  </tbody>\n",
       "</table>\n",
       "</div>"
      ],
      "text/plain": [
       "     Airline Date_of_Journey    Source Destination                  Route  \\\n",
       "0     IndiGo      2019-03-24  Banglore   New Delhi              BLR → DEL   \n",
       "1  Air India      2019-05-01   Kolkata    Banglore  CCU → IXR → BBI → BLR   \n",
       "\n",
       "  Dep_Time  Arrival_Time Duration Total_Stops Additional_Info  Price  Year  \\\n",
       "0    22:20  01:10 22 Mar   2h 50m    non-stop         No info   3897  2019   \n",
       "1    05:50         13:15   7h 25m     2 stops         No info   7662  2019   \n",
       "\n",
       "   Month  Date  \n",
       "0      3    24  \n",
       "1      5     1  "
      ]
     },
     "execution_count": 52,
     "metadata": {},
     "output_type": "execute_result"
    }
   ],
   "source": [
    "train_data.head(2)"
   ]
  },
  {
   "cell_type": "code",
   "execution_count": 53,
   "id": "5099084c-0bf3-4415-b37c-03d9eb3ef9b1",
   "metadata": {},
   "outputs": [],
   "source": [
    "train_data.drop('Date_of_Journey',axis = 1,inplace = True)"
   ]
  },
  {
   "cell_type": "code",
   "execution_count": 54,
   "id": "1a38d9c5-99c8-45ba-bda2-642e028d6072",
   "metadata": {},
   "outputs": [
    {
     "name": "stdout",
     "output_type": "stream",
     "text": [
      "<class 'pandas.core.frame.DataFrame'>\n",
      "RangeIndex: 10462 entries, 0 to 10461\n",
      "Data columns (total 13 columns):\n",
      " #   Column           Non-Null Count  Dtype \n",
      "---  ------           --------------  ----- \n",
      " 0   Airline          10462 non-null  object\n",
      " 1   Source           10462 non-null  object\n",
      " 2   Destination      10462 non-null  object\n",
      " 3   Route            10462 non-null  object\n",
      " 4   Dep_Time         10462 non-null  object\n",
      " 5   Arrival_Time     10462 non-null  object\n",
      " 6   Duration         10462 non-null  object\n",
      " 7   Total_Stops      10462 non-null  object\n",
      " 8   Additional_Info  10462 non-null  object\n",
      " 9   Price            10462 non-null  int64 \n",
      " 10  Year             10462 non-null  int32 \n",
      " 11  Month            10462 non-null  int32 \n",
      " 12  Date             10462 non-null  int32 \n",
      "dtypes: int32(3), int64(1), object(9)\n",
      "memory usage: 940.1+ KB\n"
     ]
    }
   ],
   "source": [
    "train_data.info()"
   ]
  },
  {
   "cell_type": "markdown",
   "id": "2eaa6db9-5dca-4ea9-a6c0-5d7d7dc30744",
   "metadata": {},
   "source": [
    "#### Dep_Time    \n",
    "Similarly now will extract hours and minutes from Dep_Time"
   ]
  },
  {
   "cell_type": "code",
   "execution_count": 55,
   "id": "77b59b16-260e-4419-b51d-8128bdc4fe22",
   "metadata": {},
   "outputs": [
    {
     "data": {
      "text/plain": [
       "dtype('O')"
      ]
     },
     "execution_count": 55,
     "metadata": {},
     "output_type": "execute_result"
    }
   ],
   "source": [
    "train_data.Dep_Time.dtype"
   ]
  },
  {
   "cell_type": "code",
   "execution_count": 59,
   "id": "3f9ed95c-2bec-4485-a9d6-ed0c471094f8",
   "metadata": {},
   "outputs": [
    {
     "data": {
      "text/html": [
       "<div>\n",
       "<style scoped>\n",
       "    .dataframe tbody tr th:only-of-type {\n",
       "        vertical-align: middle;\n",
       "    }\n",
       "\n",
       "    .dataframe tbody tr th {\n",
       "        vertical-align: top;\n",
       "    }\n",
       "\n",
       "    .dataframe thead th {\n",
       "        text-align: right;\n",
       "    }\n",
       "</style>\n",
       "<table border=\"1\" class=\"dataframe\">\n",
       "  <thead>\n",
       "    <tr style=\"text-align: right;\">\n",
       "      <th></th>\n",
       "      <th>Airline</th>\n",
       "      <th>Source</th>\n",
       "      <th>Destination</th>\n",
       "      <th>Route</th>\n",
       "      <th>Dep_Time</th>\n",
       "      <th>Arrival_Time</th>\n",
       "      <th>Duration</th>\n",
       "      <th>Total_Stops</th>\n",
       "      <th>Additional_Info</th>\n",
       "      <th>Price</th>\n",
       "      <th>Year</th>\n",
       "      <th>Month</th>\n",
       "      <th>Date</th>\n",
       "    </tr>\n",
       "  </thead>\n",
       "  <tbody>\n",
       "    <tr>\n",
       "      <th>0</th>\n",
       "      <td>IndiGo</td>\n",
       "      <td>Banglore</td>\n",
       "      <td>New Delhi</td>\n",
       "      <td>BLR → DEL</td>\n",
       "      <td>22:20</td>\n",
       "      <td>01:10 22 Mar</td>\n",
       "      <td>2h 50m</td>\n",
       "      <td>non-stop</td>\n",
       "      <td>No info</td>\n",
       "      <td>3897</td>\n",
       "      <td>2019</td>\n",
       "      <td>3</td>\n",
       "      <td>24</td>\n",
       "    </tr>\n",
       "    <tr>\n",
       "      <th>1</th>\n",
       "      <td>Air India</td>\n",
       "      <td>Kolkata</td>\n",
       "      <td>Banglore</td>\n",
       "      <td>CCU → IXR → BBI → BLR</td>\n",
       "      <td>05:50</td>\n",
       "      <td>13:15</td>\n",
       "      <td>7h 25m</td>\n",
       "      <td>2 stops</td>\n",
       "      <td>No info</td>\n",
       "      <td>7662</td>\n",
       "      <td>2019</td>\n",
       "      <td>5</td>\n",
       "      <td>1</td>\n",
       "    </tr>\n",
       "  </tbody>\n",
       "</table>\n",
       "</div>"
      ],
      "text/plain": [
       "     Airline    Source Destination                  Route Dep_Time  \\\n",
       "0     IndiGo  Banglore   New Delhi              BLR → DEL    22:20   \n",
       "1  Air India   Kolkata    Banglore  CCU → IXR → BBI → BLR    05:50   \n",
       "\n",
       "   Arrival_Time Duration Total_Stops Additional_Info  Price  Year  Month  Date  \n",
       "0  01:10 22 Mar   2h 50m    non-stop         No info   3897  2019      3    24  \n",
       "1         13:15   7h 25m     2 stops         No info   7662  2019      5     1  "
      ]
     },
     "execution_count": 59,
     "metadata": {},
     "output_type": "execute_result"
    }
   ],
   "source": [
    "train_data.head(2)"
   ]
  },
  {
   "cell_type": "code",
   "execution_count": 60,
   "id": "de5d3580-c6f6-499e-a803-9029bb306be5",
   "metadata": {},
   "outputs": [],
   "source": [
    "train_data['Dep_hrs'] = pd.to_datetime(train_data.Dep_Time).dt.hour"
   ]
  },
  {
   "cell_type": "code",
   "execution_count": 61,
   "id": "3862033c-bd0e-4af6-a2e0-df8402bcef02",
   "metadata": {},
   "outputs": [],
   "source": [
    "train_data['Dep_mins'] = pd.to_datetime(train_data.Dep_Time).dt.minute"
   ]
  },
  {
   "cell_type": "code",
   "execution_count": 62,
   "id": "c62ffa8d-40eb-455f-a240-42a58e4b154b",
   "metadata": {},
   "outputs": [
    {
     "data": {
      "text/html": [
       "<div>\n",
       "<style scoped>\n",
       "    .dataframe tbody tr th:only-of-type {\n",
       "        vertical-align: middle;\n",
       "    }\n",
       "\n",
       "    .dataframe tbody tr th {\n",
       "        vertical-align: top;\n",
       "    }\n",
       "\n",
       "    .dataframe thead th {\n",
       "        text-align: right;\n",
       "    }\n",
       "</style>\n",
       "<table border=\"1\" class=\"dataframe\">\n",
       "  <thead>\n",
       "    <tr style=\"text-align: right;\">\n",
       "      <th></th>\n",
       "      <th>Airline</th>\n",
       "      <th>Source</th>\n",
       "      <th>Destination</th>\n",
       "      <th>Route</th>\n",
       "      <th>Dep_Time</th>\n",
       "      <th>Arrival_Time</th>\n",
       "      <th>Duration</th>\n",
       "      <th>Total_Stops</th>\n",
       "      <th>Additional_Info</th>\n",
       "      <th>Price</th>\n",
       "      <th>Year</th>\n",
       "      <th>Month</th>\n",
       "      <th>Date</th>\n",
       "      <th>Dep_hrs</th>\n",
       "      <th>Dep_mins</th>\n",
       "    </tr>\n",
       "  </thead>\n",
       "  <tbody>\n",
       "    <tr>\n",
       "      <th>0</th>\n",
       "      <td>IndiGo</td>\n",
       "      <td>Banglore</td>\n",
       "      <td>New Delhi</td>\n",
       "      <td>BLR → DEL</td>\n",
       "      <td>22:20</td>\n",
       "      <td>01:10 22 Mar</td>\n",
       "      <td>2h 50m</td>\n",
       "      <td>non-stop</td>\n",
       "      <td>No info</td>\n",
       "      <td>3897</td>\n",
       "      <td>2019</td>\n",
       "      <td>3</td>\n",
       "      <td>24</td>\n",
       "      <td>22</td>\n",
       "      <td>20</td>\n",
       "    </tr>\n",
       "    <tr>\n",
       "      <th>1</th>\n",
       "      <td>Air India</td>\n",
       "      <td>Kolkata</td>\n",
       "      <td>Banglore</td>\n",
       "      <td>CCU → IXR → BBI → BLR</td>\n",
       "      <td>05:50</td>\n",
       "      <td>13:15</td>\n",
       "      <td>7h 25m</td>\n",
       "      <td>2 stops</td>\n",
       "      <td>No info</td>\n",
       "      <td>7662</td>\n",
       "      <td>2019</td>\n",
       "      <td>5</td>\n",
       "      <td>1</td>\n",
       "      <td>5</td>\n",
       "      <td>50</td>\n",
       "    </tr>\n",
       "    <tr>\n",
       "      <th>2</th>\n",
       "      <td>Jet Airways</td>\n",
       "      <td>Delhi</td>\n",
       "      <td>Cochin</td>\n",
       "      <td>DEL → LKO → BOM → COK</td>\n",
       "      <td>09:25</td>\n",
       "      <td>04:25 10 Jun</td>\n",
       "      <td>19h</td>\n",
       "      <td>2 stops</td>\n",
       "      <td>No info</td>\n",
       "      <td>13882</td>\n",
       "      <td>2019</td>\n",
       "      <td>6</td>\n",
       "      <td>9</td>\n",
       "      <td>9</td>\n",
       "      <td>25</td>\n",
       "    </tr>\n",
       "  </tbody>\n",
       "</table>\n",
       "</div>"
      ],
      "text/plain": [
       "       Airline    Source Destination                  Route Dep_Time  \\\n",
       "0       IndiGo  Banglore   New Delhi              BLR → DEL    22:20   \n",
       "1    Air India   Kolkata    Banglore  CCU → IXR → BBI → BLR    05:50   \n",
       "2  Jet Airways     Delhi      Cochin  DEL → LKO → BOM → COK    09:25   \n",
       "\n",
       "   Arrival_Time Duration Total_Stops Additional_Info  Price  Year  Month  \\\n",
       "0  01:10 22 Mar   2h 50m    non-stop         No info   3897  2019      3   \n",
       "1         13:15   7h 25m     2 stops         No info   7662  2019      5   \n",
       "2  04:25 10 Jun      19h     2 stops         No info  13882  2019      6   \n",
       "\n",
       "   Date  Dep_hrs  Dep_mins  \n",
       "0    24       22        20  \n",
       "1     1        5        50  \n",
       "2     9        9        25  "
      ]
     },
     "execution_count": 62,
     "metadata": {},
     "output_type": "execute_result"
    }
   ],
   "source": [
    "train_data.head(3)"
   ]
  },
  {
   "cell_type": "code",
   "execution_count": 63,
   "id": "66031583-e720-44da-a4de-74cea728be84",
   "metadata": {},
   "outputs": [],
   "source": [
    "train_data.drop('Dep_Time',axis = 1,inplace = True)"
   ]
  },
  {
   "cell_type": "markdown",
   "id": "0928f3b3-65d3-4729-aad0-f515d68c2cb9",
   "metadata": {},
   "source": [
    "### Arrival_Time"
   ]
  },
  {
   "cell_type": "code",
   "execution_count": 67,
   "id": "718c3192-5676-42de-8700-1e1c8293311d",
   "metadata": {},
   "outputs": [],
   "source": [
    "train_data['Arrival_hrs'] = pd.to_datetime(train_data['Arrival_Time']).dt.hour"
   ]
  },
  {
   "cell_type": "code",
   "execution_count": 68,
   "id": "573cc240-e3ae-4923-aac7-e4b8214c624f",
   "metadata": {},
   "outputs": [],
   "source": [
    "train_data['Arrival_mins'] = pd.to_datetime(train_data['Arrival_Time']).dt.minute"
   ]
  },
  {
   "cell_type": "code",
   "execution_count": 69,
   "id": "09620c75-3309-4660-806d-f3bffd359f03",
   "metadata": {},
   "outputs": [],
   "source": [
    "train_data.drop('Arrival_Time',axis = 1,inplace = True)"
   ]
  },
  {
   "cell_type": "code",
   "execution_count": 70,
   "id": "3a911f83-74ca-4fd9-aac4-a642cdb1f58d",
   "metadata": {},
   "outputs": [
    {
     "data": {
      "text/html": [
       "<div>\n",
       "<style scoped>\n",
       "    .dataframe tbody tr th:only-of-type {\n",
       "        vertical-align: middle;\n",
       "    }\n",
       "\n",
       "    .dataframe tbody tr th {\n",
       "        vertical-align: top;\n",
       "    }\n",
       "\n",
       "    .dataframe thead th {\n",
       "        text-align: right;\n",
       "    }\n",
       "</style>\n",
       "<table border=\"1\" class=\"dataframe\">\n",
       "  <thead>\n",
       "    <tr style=\"text-align: right;\">\n",
       "      <th></th>\n",
       "      <th>Airline</th>\n",
       "      <th>Source</th>\n",
       "      <th>Destination</th>\n",
       "      <th>Route</th>\n",
       "      <th>Duration</th>\n",
       "      <th>Total_Stops</th>\n",
       "      <th>Additional_Info</th>\n",
       "      <th>Price</th>\n",
       "      <th>Year</th>\n",
       "      <th>Month</th>\n",
       "      <th>Date</th>\n",
       "      <th>Dep_hrs</th>\n",
       "      <th>Dep_mins</th>\n",
       "      <th>Arrival_hrs</th>\n",
       "      <th>Arrival_mins</th>\n",
       "    </tr>\n",
       "  </thead>\n",
       "  <tbody>\n",
       "    <tr>\n",
       "      <th>0</th>\n",
       "      <td>IndiGo</td>\n",
       "      <td>Banglore</td>\n",
       "      <td>New Delhi</td>\n",
       "      <td>BLR → DEL</td>\n",
       "      <td>2h 50m</td>\n",
       "      <td>non-stop</td>\n",
       "      <td>No info</td>\n",
       "      <td>3897</td>\n",
       "      <td>2019</td>\n",
       "      <td>3</td>\n",
       "      <td>24</td>\n",
       "      <td>22</td>\n",
       "      <td>20</td>\n",
       "      <td>1</td>\n",
       "      <td>10</td>\n",
       "    </tr>\n",
       "    <tr>\n",
       "      <th>1</th>\n",
       "      <td>Air India</td>\n",
       "      <td>Kolkata</td>\n",
       "      <td>Banglore</td>\n",
       "      <td>CCU → IXR → BBI → BLR</td>\n",
       "      <td>7h 25m</td>\n",
       "      <td>2 stops</td>\n",
       "      <td>No info</td>\n",
       "      <td>7662</td>\n",
       "      <td>2019</td>\n",
       "      <td>5</td>\n",
       "      <td>1</td>\n",
       "      <td>5</td>\n",
       "      <td>50</td>\n",
       "      <td>13</td>\n",
       "      <td>15</td>\n",
       "    </tr>\n",
       "  </tbody>\n",
       "</table>\n",
       "</div>"
      ],
      "text/plain": [
       "     Airline    Source Destination                  Route Duration  \\\n",
       "0     IndiGo  Banglore   New Delhi              BLR → DEL   2h 50m   \n",
       "1  Air India   Kolkata    Banglore  CCU → IXR → BBI → BLR   7h 25m   \n",
       "\n",
       "  Total_Stops Additional_Info  Price  Year  Month  Date  Dep_hrs  Dep_mins  \\\n",
       "0    non-stop         No info   3897  2019      3    24       22        20   \n",
       "1     2 stops         No info   7662  2019      5     1        5        50   \n",
       "\n",
       "   Arrival_hrs  Arrival_mins  \n",
       "0            1            10  \n",
       "1           13            15  "
      ]
     },
     "execution_count": 70,
     "metadata": {},
     "output_type": "execute_result"
    }
   ],
   "source": [
    "train_data.head(2)"
   ]
  },
  {
   "cell_type": "code",
   "execution_count": 71,
   "id": "7235b374-93a1-4ad2-96ad-4c9fce96d01a",
   "metadata": {},
   "outputs": [
    {
     "data": {
      "text/plain": [
       "(10462, 15)"
      ]
     },
     "execution_count": 71,
     "metadata": {},
     "output_type": "execute_result"
    }
   ],
   "source": [
    "train_data.shape"
   ]
  },
  {
   "cell_type": "markdown",
   "id": "7ad9029d-0c9d-4be3-a4a9-4a4421c1467b",
   "metadata": {},
   "source": [
    "### Duration"
   ]
  },
  {
   "cell_type": "code",
   "execution_count": 73,
   "id": "c1de2f57-3615-4d06-aab1-86614361b406",
   "metadata": {},
   "outputs": [
    {
     "data": {
      "text/plain": [
       "170"
      ]
     },
     "execution_count": 73,
     "metadata": {},
     "output_type": "execute_result"
    }
   ],
   "source": [
    "2 * 60 + 50"
   ]
  },
  {
   "cell_type": "code",
   "execution_count": 76,
   "id": "278e51f4-222b-4768-84a1-9078c2574741",
   "metadata": {},
   "outputs": [
    {
     "data": {
      "text/plain": [
       "str"
      ]
     },
     "execution_count": 76,
     "metadata": {},
     "output_type": "execute_result"
    }
   ],
   "source": [
    "type(train_data['Duration'][0])"
   ]
  },
  {
   "cell_type": "code",
   "execution_count": 117,
   "id": "5edc232b-30f9-4b85-b1b9-f3ac8bd3b9f5",
   "metadata": {},
   "outputs": [
    {
     "data": {
      "text/plain": [
       "['2h', '50m']"
      ]
     },
     "execution_count": 117,
     "metadata": {},
     "output_type": "execute_result"
    }
   ],
   "source": [
    "train_data['Duration'][0].split()"
   ]
  },
  {
   "cell_type": "code",
   "execution_count": 88,
   "id": "df44c5b8-3442-4462-b107-b366bf8ff423",
   "metadata": {},
   "outputs": [
    {
     "data": {
      "text/plain": [
       "'2'"
      ]
     },
     "execution_count": 88,
     "metadata": {},
     "output_type": "execute_result"
    }
   ],
   "source": [
    "train_data['Duration'][0].split()[0].split('h')[0]"
   ]
  },
  {
   "cell_type": "code",
   "execution_count": 90,
   "id": "a0795143-72cc-4809-a96c-7c7ebbe354cd",
   "metadata": {},
   "outputs": [
    {
     "data": {
      "text/plain": [
       "'50'"
      ]
     },
     "execution_count": 90,
     "metadata": {},
     "output_type": "execute_result"
    }
   ],
   "source": [
    "train_data['Duration'][0].split()[1].split('m')[0]"
   ]
  },
  {
   "cell_type": "code",
   "execution_count": null,
   "id": "11a49908-d7f5-4e2f-958a-67bb1c55f687",
   "metadata": {},
   "outputs": [],
   "source": []
  },
  {
   "cell_type": "code",
   "execution_count": 93,
   "id": "23511d3e-eed8-4dee-901d-4ecd275797de",
   "metadata": {},
   "outputs": [
    {
     "data": {
      "text/plain": [
       "str"
      ]
     },
     "execution_count": 93,
     "metadata": {},
     "output_type": "execute_result"
    }
   ],
   "source": [
    "type(train_data.Duration[0])"
   ]
  },
  {
   "cell_type": "code",
   "execution_count": 92,
   "id": "7160f9d9-1d0b-44f4-849d-e9cf6b5646e4",
   "metadata": {},
   "outputs": [
    {
     "data": {
      "text/plain": [
       "'2h 50m'"
      ]
     },
     "execution_count": 92,
     "metadata": {},
     "output_type": "execute_result"
    }
   ],
   "source": [
    "train_data.Duration[0]"
   ]
  },
  {
   "cell_type": "code",
   "execution_count": 115,
   "id": "ff85a83f-f015-4a02-93e0-21f8c50cfd63",
   "metadata": {},
   "outputs": [
    {
     "data": {
      "text/plain": [
       "['2h', '50m']"
      ]
     },
     "execution_count": 115,
     "metadata": {},
     "output_type": "execute_result"
    }
   ],
   "source": [
    "train_data.Duration[0].split(' ')"
   ]
  },
  {
   "cell_type": "code",
   "execution_count": 95,
   "id": "d1cf8000-bcf5-421c-a50d-f2f601725f13",
   "metadata": {},
   "outputs": [
    {
     "data": {
      "text/plain": [
       "'2h'"
      ]
     },
     "execution_count": 95,
     "metadata": {},
     "output_type": "execute_result"
    }
   ],
   "source": [
    "train_data.Duration[0].split(' ')[0]"
   ]
  },
  {
   "cell_type": "code",
   "execution_count": 96,
   "id": "5b1af946-fcf2-455d-b851-6623ae25a0ab",
   "metadata": {},
   "outputs": [
    {
     "data": {
      "text/plain": [
       "['2', '']"
      ]
     },
     "execution_count": 96,
     "metadata": {},
     "output_type": "execute_result"
    }
   ],
   "source": [
    "train_data.Duration[0].split(' ')[0].split('h')"
   ]
  },
  {
   "cell_type": "code",
   "execution_count": 97,
   "id": "5fa99667-5233-4547-bf21-d15d77bc2c30",
   "metadata": {},
   "outputs": [
    {
     "data": {
      "text/plain": [
       "'2'"
      ]
     },
     "execution_count": 97,
     "metadata": {},
     "output_type": "execute_result"
    }
   ],
   "source": [
    "train_data.Duration[0].split(' ')[0].split('h')[0]"
   ]
  },
  {
   "cell_type": "code",
   "execution_count": 100,
   "id": "cb898ffe-2c51-4a6f-866d-3bcc704adf45",
   "metadata": {},
   "outputs": [
    {
     "data": {
      "text/plain": [
       "'50'"
      ]
     },
     "execution_count": 100,
     "metadata": {},
     "output_type": "execute_result"
    }
   ],
   "source": [
    "train_data.Duration[0].split(' ')[1].split('m')[0]"
   ]
  },
  {
   "cell_type": "code",
   "execution_count": 120,
   "id": "e16d0a96-308b-42a1-8fb6-bd2153ba0ed5",
   "metadata": {},
   "outputs": [],
   "source": [
    "duration = list(train_data['Duration'])\n",
    "\n",
    "duration_hrs = []\n",
    "duration_mins = []\n",
    "\n",
    "for i in range(len(duration)):\n",
    "    if len(duration[i].split()) != 2:\n",
    "        if 'h' in duration[i]:\n",
    "            duration[i] = duration[i].strip() + ' 0m'\n",
    "        else:\n",
    "            duration[i] = '0h ' + duration[i]\n",
    "\n",
    "\n",
    "for i in range(len(duration)):\n",
    "    duration_hrs.append(int(duration[i].split(' ')[0].split('h')[0]))\n",
    "    duration_mins.append(int(duration[i].split(' ')[1].split('m')[0]))"
   ]
  },
  {
   "cell_type": "code",
   "execution_count": null,
   "id": "29320933-dfb6-445c-a8cd-414049906b2d",
   "metadata": {},
   "outputs": [],
   "source": [
    "duration = list(train_data['Duration'])\n",
    "\n",
    "duration_hrs = []\n",
    "duration_mins = []\n",
    "\n",
    "for i in range(len(duration)):\n",
    "    if len(duration[i].split()) != 2:\n",
    "        if 'h' in duration[i]:\n",
    "            duration[i] = duration[i].strip() + ' 0m'\n",
    "        else:\n",
    "            duration[i] = '0h ' + duration[i]\n",
    "\n",
    "\n",
    "for i in range(len(duration)):\n",
    "    duration_hrs.append(int(duration[i].split(' ')[0].split('h')[0]))\n",
    "    duration_mins.append(int(duration[i].split('m')[0].split()[-1]))"
   ]
  },
  {
   "cell_type": "code",
   "execution_count": 136,
   "id": "48642289-425d-428e-8b1f-ad3205205ced",
   "metadata": {},
   "outputs": [],
   "source": [
    "duration_hm = []\n",
    "for i in duration_hrs:\n",
    "    duration_hm.append(i*60)"
   ]
  },
  {
   "cell_type": "code",
   "execution_count": 142,
   "id": "61807c45-9105-45cf-ad3f-4014ebf90f78",
   "metadata": {},
   "outputs": [
    {
     "name": "stdout",
     "output_type": "stream",
     "text": [
      "[120, 420, 1140, 300, 240, 120, 900, 1260, 1500, 420, 780, 120, 120, 720, 120, 1560, 240, 1320, 1380, 1200, 300, 900, 120, 120, 780, 900, 300, 300, 120, 120, 120, 780, 120, 1320, 300, 600, 300, 120, 360, 660, 660, 480, 1320, 120, 720, 120, 120, 120, 960, 1140, 180, 1500, 120, 180, 120, 960, 900, 120, 360, 1500, 720, 1620, 600, 600, 120, 600, 120, 60, 780, 120, 60, 1560, 420, 780, 300, 120, 120, 60, 1140, 120, 840, 120, 1320, 540, 600, 1260, 300, 1080, 720, 1080, 540, 660, 1020, 780, 120, 120, 120, 180, 60, 960, 720, 720, 420, 1440, 120, 480, 420, 840, 1800, 1140, 900, 120, 720, 600, 300, 900, 960, 600, 120, 660, 120, 60, 840, 1200, 120, 1380, 1080, 960, 120, 120, 480, 960, 180, 120, 840, 1380, 1260, 1260, 120, 600, 480, 480, 300, 480, 660, 1620, 480, 1200, 240, 480, 120, 1440, 120, 720, 720, 1380, 960, 120, 1500, 1560, 1680, 120, 1500, 540, 240, 900, 60, 120, 540, 120, 1320, 180, 660, 540, 720, 1020, 300, 1500, 1200, 780, 1080, 60, 540, 960, 120, 240, 300, 1440, 120, 120, 240, 1500, 360, 180, 1080, 120, 720, 1140, 120, 480, 540, 120, 180, 120, 720, 120, 540, 120, 540, 1740, 120, 300, 540, 600, 240, 60, 660, 120, 120, 600, 120, 600, 60, 540, 1320, 1680, 2220, 120, 60, 60, 1500, 120, 360, 1020, 300, 120, 1500, 780, 120, 600, 480, 300, 720, 120, 120, 120, 540, 600, 120, 240, 180, 1380, 1620, 720, 1440, 60, 120, 180, 660, 780, 120, 120, 120, 660, 840, 780, 840, 900, 120, 900, 720, 540, 720, 420, 1620, 60, 60, 300, 660, 180, 1440, 1620, 120, 1020, 120, 480, 180, 1620, 420, 1320, 480, 1740, 1320, 60, 120, 180, 720, 120, 660, 120, 60, 120, 120, 1320, 840, 900, 420, 1200, 1200, 120, 1380, 1620, 300, 660, 120, 1440, 120, 360, 1200, 120, 120, 300, 120, 840, 720, 1500, 300, 660, 120, 300, 240, 480, 120, 120, 120, 900, 1380, 420, 120, 420, 180, 420, 1500, 600, 1800, 120, 540, 900, 1680, 180, 120, 240, 120, 1320, 600, 120, 240, 660, 180, 1320, 180, 120, 120, 1260, 660, 1500, 900, 120, 180, 120, 180, 660, 120, 120, 60, 660, 480, 1200, 1200, 960, 720, 1020, 180, 900, 660, 120, 1380, 60, 120, 1440, 1260, 300, 720, 480, 300, 120, 360, 120, 120, 720, 900, 1620, 1560, 120, 1440, 480, 1500, 120, 360, 600, 1560, 1020, 1260, 300, 120, 1500, 720, 1020, 480, 1380, 540, 420, 60, 120, 120, 600, 120, 420, 120, 1560, 120, 660, 1140, 120, 120, 1380, 540, 180, 360, 480, 120, 720, 300, 240, 540, 120, 1560, 120, 540, 1440, 660, 480, 1020, 120, 420, 1260, 300, 120, 300, 900, 660, 180, 240, 120, 120, 540, 120, 360, 300, 120, 2040, 900, 540, 360, 120, 300, 120, 1620, 180, 300, 960, 420, 480, 540, 120, 120, 360, 240, 120, 660, 960, 780, 1500, 780, 300, 1140, 420, 540, 1440, 1080, 120, 60, 1260, 360, 840, 60, 720, 120, 1320, 1320, 300, 60, 420, 720, 1200, 1260, 120, 600, 840, 120, 960, 300, 780, 120, 420, 1620, 1620, 300, 120, 120, 900, 300, 600, 1620, 540, 1680, 840, 120, 120, 120, 240, 120, 660, 420, 480, 60, 900, 120, 120, 780, 240, 1080, 120, 2280, 180, 1500, 180, 120, 660, 360, 1620, 120, 420, 180, 540, 720, 660, 180, 120, 60, 1560, 240, 120, 480, 420, 120, 1440, 120, 660, 540, 120, 180, 120, 780, 60, 420, 120, 720, 1740, 300, 480, 180, 180, 120, 720, 120, 420, 1740, 1560, 720, 420, 120, 660, 1380, 780, 720, 540, 120, 1260, 1560, 120, 1200, 1200, 600, 120, 1260, 120, 1200, 120, 360, 1800, 780, 120, 1080, 480, 480, 720, 780, 360, 420, 1140, 120, 720, 180, 120, 60, 1380, 120, 1320, 120, 300, 120, 540, 480, 1020, 120, 1260, 720, 60, 120, 180, 120, 420, 1020, 60, 60, 1800, 300, 660, 120, 1140, 360, 420, 120, 120, 720, 120, 1560, 720, 60, 480, 840, 1380, 1740, 1320, 240, 120, 780, 780, 120, 660, 300, 660, 180, 360, 120, 600, 120, 120, 60, 420, 1560, 240, 1260, 480, 480, 120, 720, 480, 1500, 120, 1740, 120, 120, 120, 420, 1200, 660, 120, 780, 60, 1440, 1200, 120, 240, 120, 660, 60, 720, 1440, 660, 240, 660, 300, 120, 300, 600, 1560, 420, 480, 120, 300, 120, 60, 240, 120, 120, 780, 1140, 1320, 840, 900, 420, 60, 120, 480, 120, 840, 60, 960, 120, 300, 1320, 300, 480, 900, 1260, 780, 120, 360, 60, 480, 60, 120, 120, 960, 1380, 1620, 960, 900, 120, 480, 780, 120, 120, 180, 120, 1680, 120, 120, 540, 960, 360, 1620, 840, 720, 420, 120, 1140, 1200, 180, 300, 120, 1740, 240, 180, 720, 720, 1560, 780, 120, 720, 960, 120, 480, 720, 120, 660, 120, 780, 480, 720, 120, 120, 120, 1440, 180, 720, 1500, 120, 1020, 1740, 480, 180, 540, 600, 960, 120, 1560, 780, 600, 420, 660, 120, 1500, 360, 60, 1200, 660, 120, 300, 1620, 120, 60, 600, 1440, 120, 1200, 300, 120, 360, 120, 300, 360, 120, 1140, 120, 660, 840, 120, 180, 840, 720, 300, 1560, 180, 60, 420, 360, 480, 720, 720, 540, 900, 660, 120, 240, 120, 120, 1440, 1680, 60, 600, 660, 120, 780, 360, 720, 240, 780, 1440, 960, 480, 180, 540, 1680, 780, 1020, 1200, 1680, 900, 720, 600, 720, 420, 120, 240, 660, 120, 1560, 120, 120, 840, 120, 1320, 360, 480, 1080, 2100, 120, 120, 120, 120, 420, 2100, 1560, 660, 1560, 180, 60, 120, 840, 960, 720, 1740, 1200, 480, 780, 600, 1140, 1680, 120, 1020, 120, 120, 780, 720, 540, 1260, 900, 120, 840, 120, 360, 1320, 840, 120, 1380, 780, 60, 300, 60, 1320, 60, 120, 2220, 120, 120, 2160, 540, 60, 300, 120, 900, 1500, 300, 420, 1020, 120, 480, 180, 300, 120, 1020, 780, 120, 1260, 540, 480, 600, 2100, 840, 180, 1500, 120, 480, 600, 660, 420, 420, 120, 420, 480, 300, 1380, 360, 180, 1140, 120, 240, 60, 120, 1560, 720, 840, 120, 180, 60, 480, 1140, 120, 540, 180, 1560, 1260, 120, 120, 960, 60, 1500, 60, 540, 660, 360, 1680, 1620, 720, 1320, 120, 120, 60, 1560, 480, 1080, 840, 420, 1140, 420, 660, 480, 660, 840, 240, 420, 660, 180, 60, 600, 120, 300, 660, 1200, 300, 60, 120, 2820, 180, 1260, 780, 120, 120, 300, 1260, 300, 180, 120, 720, 1560, 120, 360, 120, 1380, 720, 1560, 600, 60, 1020, 60, 120, 1680, 120, 60, 120, 420, 840, 1500, 540, 960, 120, 300, 960, 120, 660, 540, 720, 600, 600, 420, 900, 120, 60, 2280, 120, 1260, 120, 120, 1500, 120, 60, 960, 120, 780, 420, 120, 300, 1020, 660, 1320, 180, 120, 300, 540, 420, 1200, 840, 360, 240, 840, 1620, 1440, 1020, 960, 120, 420, 360, 120, 1560, 840, 120, 660, 60, 900, 1140, 660, 120, 120, 120, 600, 120, 360, 420, 300, 120, 60, 780, 120, 240, 300, 1380, 960, 300, 840, 780, 720, 300, 1620, 120, 1020, 1260, 780, 120, 540, 120, 660, 120, 60, 240, 420, 960, 1440, 180, 720, 720, 720, 420, 1800, 420, 840, 120, 360, 900, 1080, 1140, 120, 780, 480, 60, 840, 120, 240, 780, 720, 120, 1440, 300, 960, 1560, 300, 600, 120, 60, 120, 780, 360, 780, 480, 900, 600, 120, 180, 360, 1620, 300, 120, 120, 420, 840, 300, 120, 540, 60, 300, 900, 1260, 420, 300, 840, 420, 360, 1500, 600, 1800, 1320, 900, 1500, 480, 900, 660, 120, 1260, 300, 120, 120, 840, 660, 720, 1440, 120, 600, 660, 420, 720, 120, 960, 180, 1320, 840, 1560, 180, 360, 120, 420, 1320, 300, 300, 480, 360, 480, 120, 480, 120, 120, 1560, 120, 960, 960, 300, 600, 720, 60, 660, 1260, 120, 120, 120, 1620, 600, 120, 180, 420, 1740, 60, 720, 660, 900, 480, 2100, 1260, 240, 1200, 60, 300, 180, 120, 420, 240, 60, 420, 60, 120, 1080, 120, 120, 60, 1380, 120, 120, 480, 420, 360, 1380, 1260, 120, 840, 2220, 360, 840, 420, 960, 420, 1680, 300, 480, 1380, 840, 240, 120, 1320, 300, 1740, 120, 120, 1020, 120, 480, 600, 480, 360, 780, 180, 1140, 480, 120, 120, 360, 120, 120, 1140, 180, 240, 720, 420, 120, 1500, 360, 120, 540, 1080, 300, 420, 840, 120, 1140, 300, 960, 120, 240, 720, 540, 120, 120, 60, 120, 120, 300, 600, 480, 120, 240, 480, 240, 180, 600, 60, 780, 300, 120, 120, 120, 120, 1560, 1500, 60, 120, 60, 120, 120, 240, 180, 900, 120, 540, 900, 240, 540, 240, 1800, 120, 2220, 1560, 1200, 1500, 660, 1380, 600, 120, 1200, 840, 120, 540, 420, 420, 1320, 120, 1200, 120, 1320, 1500, 300, 120, 720, 660, 1260, 540, 780, 480, 480, 600, 60, 120, 60, 180, 1380, 60, 360, 540, 1200, 1140, 780, 120, 420, 180, 180, 120, 420, 120, 420, 120, 1680, 480, 540, 900, 2220, 120, 660, 120, 900, 600, 960, 120, 120, 540, 120, 1380, 480, 1980, 840, 1620, 120, 60, 420, 60, 240, 360, 600, 660, 1260, 960, 1500, 1440, 120, 900, 840, 720, 600, 780, 120, 180, 120, 1260, 120, 120, 540, 480, 1680, 480, 720, 120, 60, 780, 120, 660, 360, 120, 300, 120, 660, 2220, 120, 1260, 120, 360, 900, 420, 240, 300, 180, 1320, 1800, 300, 120, 1260, 1680, 720, 60, 840, 120, 1500, 120, 540, 180, 540, 420, 840, 720, 1620, 60, 780, 780, 720, 1380, 1620, 240, 180, 540, 420, 60, 1320, 120, 1320, 240, 720, 480, 120, 960, 540, 480, 1200, 480, 420, 540, 960, 780, 480, 1260, 180, 1560, 1680, 120, 60, 1620, 240, 1380, 120, 120, 180, 180, 120, 120, 300, 180, 1200, 1140, 1680, 1740, 1500, 120, 120, 1080, 480, 1140, 120, 120, 120, 900, 1740, 60, 120, 900, 1440, 780, 120, 1380, 540, 120, 360, 900, 900, 60, 120, 720, 420, 840, 2280, 720, 120, 540, 120, 360, 360, 1500, 1800, 180, 780, 1020, 120, 120, 120, 780, 540, 720, 1440, 300, 900, 1380, 120, 600, 780, 840, 420, 780, 480, 720, 840, 1620, 840, 540, 900, 120, 180, 240, 240, 120, 60, 600, 720, 360, 120, 420, 120, 120, 1740, 420, 120, 180, 960, 1080, 1680, 1380, 1320, 120, 60, 120, 240, 1680, 1620, 1020, 360, 960, 540, 1320, 120, 300, 900, 780, 1020, 1020, 300, 300, 840, 120, 900, 1320, 120, 60, 900, 180, 1560, 120, 360, 1380, 120, 600, 660, 1620, 360, 120, 480, 180, 1200, 120, 120, 420, 120, 720, 660, 120, 120, 240, 1080, 480, 780, 600, 780, 780, 120, 120, 720, 420, 360, 120, 120, 840, 300, 120, 480, 60, 1980, 360, 1380, 120, 1560, 420, 60, 2160, 1680, 720, 360, 1020, 60, 600, 480, 780, 1020, 300, 300, 840, 2280, 660, 420, 120, 180, 780, 120, 480, 360, 1380, 300, 120, 1440, 480, 120, 120, 1500, 480, 720, 840, 480, 120, 180, 1440, 960, 840, 120, 840, 540, 660, 600, 120, 1380, 720, 300, 1620, 180, 1380, 540, 60, 120, 1020, 1320, 660, 120, 1680, 1740, 720, 60, 1560, 60, 120, 120, 960, 600, 900, 840, 1380, 1140, 600, 120, 1440, 840, 540, 1200, 180, 1320, 120, 540, 1140, 1560, 1200, 60, 120, 1560, 900, 120, 780, 600, 120, 180, 1320, 120, 1440, 660, 1380, 420, 120, 480, 540, 120, 600, 540, 420, 420, 1380, 300, 120, 120, 960, 240, 360, 420, 180, 120, 1440, 360, 720, 660, 780, 120, 960, 900, 360, 180, 720, 1020, 120, 1320, 540, 120, 540, 120, 1380, 780, 900, 780, 900, 360, 1320, 840, 1680, 1440, 660, 900, 780, 60, 120, 1440, 900, 60, 60, 420, 240, 360, 1560, 120, 1200, 1500, 120, 1740, 600, 120, 120, 180, 180, 600, 480, 420, 840, 240, 660, 1140, 420, 540, 600, 1440, 1620, 120, 120, 420, 840, 120, 1500, 60, 120, 780, 1680, 120, 1560, 480, 180, 60, 840, 60, 480, 60, 180, 720, 660, 1560, 420, 480, 180, 120, 720, 240, 780, 900, 120, 360, 360, 720, 600, 1260, 1560, 1260, 180, 660, 540, 960, 720, 540, 1500, 600, 480, 480, 720, 60, 1440, 1140, 660, 120, 1560, 420, 600, 1440, 1320, 660, 1500, 300, 900, 1260, 1500, 120, 360, 120, 420, 60, 660, 180, 1200, 120, 120, 1080, 720, 60, 1440, 60, 420, 960, 420, 1560, 660, 1260, 1680, 480, 600, 900, 60, 120, 1200, 840, 420, 120, 840, 480, 540, 660, 120, 180, 1200, 1680, 180, 480, 60, 720, 120, 360, 1680, 60, 1200, 1380, 120, 780, 660, 1320, 1260, 840, 660, 300, 60, 120, 60, 540, 180, 120, 360, 1500, 420, 120, 780, 720, 420, 120, 120, 120, 360, 360, 1140, 420, 1380, 240, 300, 540, 1440, 1380, 360, 1440, 120, 120, 180, 300, 60, 180, 780, 600, 720, 840, 1440, 720, 120, 60, 240, 1800, 120, 60, 120, 420, 180, 120, 1440, 240, 540, 1320, 1740, 420, 300, 180, 60, 120, 120, 240, 420, 60, 1380, 960, 60, 120, 180, 180, 540, 1380, 2280, 540, 360, 540, 720, 180, 240, 1380, 180, 780, 120, 1500, 120, 300, 300, 300, 540, 120, 420, 1080, 60, 1440, 120, 240, 660, 420, 360, 60, 60, 120, 1680, 120, 780, 300, 600, 720, 60, 960, 120, 1080, 240, 300, 120, 540, 60, 600, 600, 540, 120, 480, 1200, 180, 780, 180, 300, 780, 480, 1140, 780, 840, 1200, 720, 900, 420, 900, 120, 360, 1440, 1380, 1380, 840, 1680, 180, 1620, 420, 240, 660, 900, 1380, 1080, 1320, 60, 1320, 120, 1440, 1320, 420, 300, 1380, 300, 840, 480, 1020, 120, 120, 780, 600, 120, 120, 120, 780, 120, 720, 480, 1620, 1020, 120, 180, 900, 120, 720, 1320, 720, 120, 600, 1380, 360, 180, 420, 1680, 300, 420, 720, 540, 900, 120, 480, 420, 900, 540, 60, 960, 120, 900, 120, 840, 120, 540, 1080, 1320, 60, 120, 900, 900, 180, 420, 600, 600, 600, 1020, 720, 480, 660, 120, 60, 600, 120, 1440, 120, 60, 780, 240, 780, 960, 1020, 720, 540, 600, 60, 480, 300, 1380, 1440, 420, 1560, 720, 360, 840, 300, 60, 120, 1080, 540, 1080, 120, 120, 480, 780, 1740, 1380, 300, 600, 600, 120, 420, 720, 540, 120, 780, 540, 600, 600, 1680, 300, 180, 1440, 780, 300, 720, 1140, 1620, 240, 600, 120, 60, 360, 120, 720, 120, 660, 540, 120, 60, 660, 360, 180, 1560, 420, 1620, 720, 720, 540, 1560, 1020, 1440, 780, 900, 120, 660, 1140, 120, 720, 1380, 60, 480, 120, 240, 120, 120, 180, 120, 120, 1020, 120, 60, 540, 60, 780, 900, 1620, 180, 1380, 540, 780, 480, 240, 420, 660, 120, 60, 720, 120, 900, 780, 60, 1320, 660, 420, 900, 660, 540, 120, 1320, 120, 840, 120, 120, 480, 120, 120, 1500, 120, 420, 60, 120, 60, 420, 1380, 540, 1320, 180, 300, 1620, 120, 1200, 840, 1140, 1620, 300, 1380, 840, 300, 60, 60, 1020, 120, 1500, 1200, 120, 60, 420, 1320, 540, 840, 120, 720, 120, 600, 1020, 120, 300, 660, 120, 600, 840, 120, 60, 600, 120, 1620, 1380, 840, 1020, 120, 120, 600, 480, 360, 780, 1320, 120, 1500, 120, 660, 120, 1320, 120, 420, 120, 1620, 480, 1080, 360, 120, 660, 540, 1560, 1560, 1440, 60, 600, 600, 120, 120, 480, 540, 300, 1320, 120, 720, 2220, 1380, 1320, 1020, 180, 600, 720, 540, 180, 720, 540, 840, 1140, 900, 900, 1260, 120, 120, 2040, 60, 720, 720, 960, 1320, 1500, 420, 1080, 720, 120, 900, 660, 1560, 1080, 420, 120, 1260, 1380, 120, 1200, 120, 300, 720, 960, 1500, 120, 660, 180, 720, 120, 120, 1560, 120, 1380, 240, 1740, 300, 180, 1560, 780, 780, 120, 120, 120, 1260, 360, 480, 1560, 720, 120, 1740, 120, 1560, 120, 780, 120, 840, 120, 420, 120, 540, 120, 540, 480, 600, 660, 120, 1740, 2220, 600, 480, 1200, 120, 1740, 720, 540, 120, 120, 120, 540, 900, 2280, 120, 720, 120, 1320, 1440, 1620, 1380, 120, 840, 960, 1620, 120, 1200, 120, 300, 1080, 420, 300, 1080, 120, 780, 1620, 1260, 1620, 60, 1260, 120, 120, 900, 720, 480, 660, 180, 960, 1560, 120, 360, 180, 420, 60, 300, 1680, 1140, 780, 1500, 1620, 120, 1260, 300, 120, 420, 480, 120, 60, 1140, 120, 180, 360, 960, 120, 2280, 660, 1320, 360, 60, 1200, 60, 360, 300, 420, 660, 60, 840, 480, 1620, 120, 120, 540, 120, 840, 720, 540, 120, 660, 360, 660, 720, 120, 600, 720, 1260, 540, 480, 540, 1260, 1380, 540, 1380, 540, 300, 120, 540, 480, 120, 1500, 120, 180, 180, 120, 960, 1560, 960, 360, 960, 120, 120, 660, 120, 1380, 1620, 180, 660, 120, 120, 600, 300, 1380, 120, 720, 540, 480, 120, 60, 1080, 120, 120, 360, 780, 660, 1560, 300, 420, 360, 120, 720, 420, 660, 120, 720, 120, 60, 1080, 120, 720, 900, 60, 1440, 60, 780, 120, 120, 1200, 720, 720, 1440, 480, 60, 180, 120, 120, 780, 900, 300, 120, 120, 720, 120, 840, 540, 720, 1500, 720, 720, 720, 720, 120, 120, 300, 540, 180, 600, 600, 1560, 720, 1380, 120, 1020, 120, 960, 660, 600, 780, 420, 960, 480, 1620, 480, 120, 660, 120, 120, 1500, 60, 1620, 1440, 720, 1560, 180, 180, 120, 1260, 1020, 1260, 1500, 840, 960, 180, 720, 60, 180, 120, 120, 1440, 120, 480, 840, 120, 60, 120, 840, 1500, 1200, 480, 540, 60, 1620, 900, 300, 420, 120, 1140, 120, 840, 480, 900, 1680, 60, 780, 1380, 600, 60, 1080, 1440, 300, 60, 900, 1620, 720, 1380, 120, 120, 120, 120, 360, 120, 120, 1380, 1500, 120, 840, 420, 1320, 120, 240, 600, 420, 420, 1320, 420, 60, 120, 420, 720, 780, 1020, 1020, 120, 120, 300, 300, 540, 120, 1020, 480, 960, 900, 1560, 120, 300, 180, 60, 660, 120, 480, 1440, 120, 720, 1260, 2040, 120, 840, 180, 360, 1380, 120, 600, 120, 240, 360, 120, 840, 120, 1620, 600, 1320, 840, 900, 900, 960, 120, 900, 60, 120, 360, 780, 240, 120, 540, 60, 180, 1440, 120, 720, 900, 120, 60, 1440, 420, 1080, 360, 660, 540, 780, 840, 360, 120, 300, 840, 780, 360, 1320, 660, 420, 120, 120, 360, 120, 600, 720, 120, 420, 1020, 480, 120, 420, 1080, 780, 660, 120, 720, 720, 180, 600, 120, 420, 600, 900, 180, 120, 120, 660, 780, 120, 840, 1380, 120, 300, 1020, 420, 1560, 960, 120, 1680, 840, 540, 120, 840, 180, 180, 300, 480, 600, 60, 1200, 840, 1560, 1140, 1080, 900, 300, 540, 840, 1260, 540, 840, 300, 60, 120, 1200, 1680, 240, 1740, 720, 300, 1080, 1320, 240, 540, 600, 960, 300, 120, 120, 660, 600, 900, 540, 780, 1380, 120, 1500, 120, 120, 780, 120, 480, 840, 480, 120, 1740, 60, 300, 120, 120, 120, 480, 300, 660, 120, 120, 480, 180, 1380, 780, 60, 1560, 2040, 480, 840, 900, 120, 540, 120, 120, 120, 1680, 60, 1500, 840, 1320, 420, 60, 1080, 420, 1020, 480, 120, 1200, 1200, 480, 1020, 540, 120, 480, 780, 120, 360, 1080, 840, 1320, 1500, 60, 120, 900, 120, 1560, 180, 120, 780, 1080, 180, 660, 660, 60, 1320, 1620, 900, 120, 1440, 60, 300, 300, 780, 480, 60, 180, 600, 180, 120, 720, 1320, 1320, 180, 360, 1440, 240, 360, 840, 120, 480, 120, 720, 1080, 1500, 480, 120, 1200, 1440, 480, 360, 600, 840, 1080, 120, 420, 420, 180, 600, 120, 540, 660, 780, 120, 120, 300, 960, 120, 120, 540, 840, 540, 120, 1500, 1800, 120, 60, 900, 1200, 1320, 180, 1200, 1260, 420, 360, 180, 1380, 60, 540, 300, 540, 60, 1260, 120, 1440, 120, 960, 120, 420, 900, 420, 120, 120, 1500, 120, 120, 120, 1620, 960, 120, 1680, 540, 300, 1500, 1260, 120, 1020, 600, 540, 960, 1320, 120, 120, 480, 1560, 720, 60, 120, 600, 120, 540, 780, 1740, 660, 120, 660, 480, 1620, 1800, 1500, 480, 900, 120, 60, 900, 420, 1740, 720, 1380, 1680, 420, 600, 120, 1260, 960, 180, 780, 540, 1620, 720, 120, 720, 120, 1440, 120, 120, 240, 420, 240, 1380, 420, 60, 120, 240, 960, 120, 900, 180, 120, 1620, 120, 60, 300, 720, 180, 420, 900, 1500, 120, 240, 960, 900, 600, 360, 480, 420, 60, 300, 540, 480, 1080, 1140, 1320, 720, 1380, 660, 120, 60, 900, 120, 120, 120, 1260, 1320, 1080, 120, 840, 120, 1500, 120, 120, 120, 840, 480, 120, 120, 120, 360, 600, 900, 660, 900, 1380, 120, 120, 1200, 480, 120, 360, 1560, 1800, 300, 1620, 360, 120, 120, 300, 1320, 840, 960, 1080, 960, 120, 420, 720, 60, 1140, 960, 120, 840, 1620, 60, 720, 120, 480, 120, 1320, 1440, 840, 960, 1620, 420, 1200, 300, 420, 120, 300, 600, 300, 1200, 480, 120, 720, 360, 480, 840, 1920, 120, 360, 120, 120, 600, 1140, 480, 660, 600, 240, 1800, 660, 1560, 180, 840, 120, 240, 180, 660, 2100, 120, 1680, 120, 120, 1020, 840, 600, 300, 60, 120, 480, 60, 240, 720, 540, 840, 1620, 1560, 780, 720, 120, 1320, 900, 300, 840, 120, 1380, 1260, 120, 120, 1500, 300, 180, 180, 120, 1020, 180, 480, 720, 480, 900, 780, 480, 1560, 60, 1500, 120, 540, 1560, 60, 780, 540, 120, 60, 1020, 660, 1380, 120, 120, 120, 180, 300, 360, 1080, 1560, 1260, 1260, 1380, 300, 180, 300, 780, 120, 1560, 780, 120, 120, 120, 420, 120, 60, 120, 1380, 360, 300, 60, 180, 780, 120, 420, 420, 120, 60, 540, 840, 660, 180, 120, 1380, 240, 1260, 1380, 120, 480, 1140, 120, 720, 120, 960, 1800, 240, 1620, 720, 660, 180, 660, 120, 1200, 600, 120, 780, 120, 360, 1380, 300, 720, 1620, 420, 660, 780, 180, 1620, 420, 540, 180, 1200, 600, 540, 840, 480, 840, 120, 480, 120, 120, 1380, 960, 120, 60, 360, 840, 720, 120, 60, 600, 60, 1620, 720, 480, 120, 1440, 1200, 360, 720, 120, 120, 720, 720, 960, 1260, 120, 120, 720, 1380, 120, 480, 600, 120, 420, 60, 600, 1380, 120, 300, 1500, 540, 120, 900, 780, 1200, 900, 900, 1260, 420, 120, 1680, 120, 1080, 1260, 660, 600, 600, 240, 300, 780, 540, 1560, 540, 60, 420, 60, 300, 60, 120, 960, 120, 180, 120, 120, 1560, 120, 900, 660, 60, 960, 360, 1560, 1200, 1440, 300, 540, 120, 300, 120, 180, 120, 1440, 120, 120, 1200, 120, 180, 360, 120, 120, 600, 480, 60, 900, 120, 720, 60, 1260, 120, 1560, 120, 60, 180, 120, 420, 120, 600, 120, 120, 840, 120, 60, 1620, 360, 660, 120, 660, 540, 1560, 120, 240, 120, 780, 1620, 120, 900, 480, 120, 840, 120, 960, 1500, 120, 2280, 660, 120, 1140, 900, 540, 120, 240, 780, 1560, 1080, 540, 1620, 1140, 660, 1320, 480, 360, 720, 120, 120, 600, 180, 720, 240, 2280, 780, 720, 1560, 960, 120, 240, 120, 60, 120, 420, 1740, 1380, 120, 720, 420, 120, 900, 420, 300, 120, 600, 720, 60, 120, 720, 60, 540, 600, 360, 120, 120, 540, 1380, 300, 480, 600, 840, 780, 120, 420, 480, 900, 660, 60, 540, 900, 180, 420, 120, 120, 840, 360, 600, 120, 420, 780, 780, 420, 1560, 660, 1440, 120, 1620, 840, 1200, 120, 720, 120, 480, 1560, 120, 60, 600, 60, 300, 120, 1200, 360, 720, 120, 120, 660, 120, 120, 60, 120, 60, 1320, 420, 540, 1620, 720, 240, 120, 840, 720, 1320, 540, 600, 60, 120, 300, 720, 900, 1380, 120, 480, 660, 1140, 600, 120, 300, 480, 120, 660, 1980, 60, 780, 120, 120, 120, 1320, 1260, 300, 780, 720, 120, 1140, 1680, 120, 1080, 1440, 120, 1560, 120, 120, 1440, 840, 1320, 960, 300, 480, 540, 480, 1260, 420, 780, 60, 2280, 60, 960, 900, 1200, 600, 300, 120, 120, 1080, 780, 420, 1380, 780, 1380, 1140, 780, 120, 120, 60, 180, 660, 240, 1320, 1200, 660, 720, 720, 660, 1020, 300, 60, 420, 120, 420, 300, 900, 660, 540, 720, 300, 1320, 1320, 960, 60, 120, 600, 60, 840, 1080, 240, 420, 420, 120, 540, 120, 420, 540, 60, 1020, 1440, 720, 1440, 180, 120, 120, 420, 60, 240, 120, 480, 1680, 420, 1200, 120, 720, 1800, 240, 600, 2280, 1260, 900, 120, 300, 120, 1320, 120, 1500, 360, 120, 840, 120, 720, 120, 540, 1020, 660, 120, 60, 960, 120, 120, 540, 120, 420, 240, 1140, 600, 1320, 780, 600, 420, 1080, 900, 420, 120, 960, 300, 660, 120, 420, 540, 300, 1740, 60, 420, 240, 60, 1560, 60, 120, 180, 180, 120, 1800, 120, 1200, 1320, 120, 1560, 960, 540, 420, 1440, 120, 1320, 420, 1560, 960, 2280, 780, 600, 120, 960, 780, 360, 60, 600, 720, 1920, 480, 180, 1080, 1860, 120, 120, 1680, 60, 1080, 720, 120, 180, 1980, 120, 840, 420, 420, 1260, 120, 120, 1500, 420, 420, 540, 120, 60, 480, 120, 900, 300, 120, 1560, 120, 1260, 120, 180, 240, 420, 600, 180, 540, 600, 360, 1080, 120, 1200, 120, 1380, 660, 300, 600, 1320, 60, 540, 960, 720, 360, 420, 60, 900, 60, 300, 540, 480, 120, 720, 1380, 960, 120, 960, 1380, 840, 60, 780, 180, 1680, 840, 120, 300, 540, 60, 1380, 480, 840, 120, 120, 300, 180, 300, 120, 120, 120, 480, 1500, 1380, 1320, 480, 1380, 420, 240, 120, 1800, 840, 1620, 1380, 540, 1200, 1200, 840, 420, 420, 120, 60, 60, 540, 420, 840, 540, 120, 480, 120, 300, 120, 840, 1500, 1380, 600, 120, 360, 960, 1380, 420, 60, 840, 420, 120, 720, 120, 1200, 1620, 1200, 120, 660, 60, 120, 180, 660, 1440, 1560, 1380, 1380, 1500, 120, 60, 1140, 900, 1440, 780, 420, 120, 120, 600, 1800, 120, 480, 60, 720, 1440, 120, 1320, 120, 180, 480, 1320, 60, 540, 1260, 120, 780, 360, 1200, 600, 1560, 600, 420, 600, 420, 120, 720, 1200, 660, 540, 420, 960, 540, 720, 180, 60, 660, 720, 720, 120, 900, 120, 300, 360, 420, 120, 780, 120, 180, 1980, 1380, 120, 360, 120, 120, 600, 1380, 120, 540, 60, 60, 660, 120, 900, 1620, 120, 300, 840, 120, 420, 120, 60, 360, 120, 660, 120, 120, 300, 420, 480, 180, 1020, 660, 180, 300, 540, 360, 900, 120, 360, 960, 720, 1500, 720, 1620, 360, 120, 360, 120, 420, 300, 1320, 1560, 180, 120, 420, 1500, 540, 180, 540, 1500, 120, 300, 1440, 60, 120, 120, 120, 1440, 600, 300, 600, 420, 180, 1380, 1440, 720, 1320, 480, 120, 540, 360, 1440, 180, 660, 480, 120, 1200, 60, 1800, 900, 120, 420, 180, 420, 120, 780, 1380, 120, 600, 600, 720, 120, 120, 840, 420, 1380, 120, 300, 780, 120, 60, 120, 120, 720, 120, 1440, 2280, 240, 660, 660, 180, 120, 120, 360, 60, 120, 1380, 300, 120, 1380, 720, 420, 1740, 120, 780, 720, 60, 1680, 300, 60, 420, 60, 1380, 120, 660, 120, 120, 420, 180, 120, 840, 1680, 120, 120, 540, 360, 420, 120, 120, 480, 120, 600, 120, 780, 120, 120, 120, 1500, 780, 300, 780, 240, 600, 1080, 960, 420, 1500, 660, 840, 60, 1140, 120, 120, 300, 720, 660, 600, 60, 660, 120, 420, 360, 180, 660, 840, 720, 780, 660, 120, 1500, 720, 900, 60, 420, 120, 960, 120, 60, 600, 420, 240, 720, 1140, 120, 1620, 120, 600, 1500, 660, 1440, 1140, 120, 300, 1740, 540, 120, 120, 900, 120, 960, 1380, 240, 960, 120, 900, 840, 780, 720, 420, 180, 120, 120, 120, 1620, 60, 180, 60, 840, 480, 1140, 1560, 300, 240, 420, 1620, 180, 120, 120, 480, 180, 480, 120, 480, 660, 240, 120, 1980, 120, 1440, 1800, 1620, 900, 1560, 1260, 60, 1020, 960, 180, 600, 600, 120, 120, 540, 420, 480, 120, 840, 120, 120, 840, 60, 120, 120, 420, 660, 60, 420, 540, 1440, 1440, 1080, 120, 420, 120, 2280, 60, 120, 180, 1740, 120, 480, 840, 300, 60, 120, 120, 900, 120, 480, 420, 120, 1260, 180, 660, 240, 1380, 300, 1320, 180, 1260, 420, 60, 1680, 600, 960, 420, 420, 120, 1440, 1440, 420, 660, 960, 840, 540, 780, 480, 1620, 60, 120, 780, 1500, 120, 1320, 780, 600, 120, 900, 120, 480, 1500, 540, 720, 540, 1380, 180, 900, 1260, 480, 1500, 1260, 1020, 60, 600, 1380, 660, 120, 360, 120, 120, 780, 1560, 60, 900, 840, 1320, 600, 600, 840, 1620, 480, 480, 720, 1560, 180, 1380, 1500, 120, 1680, 1260, 720, 120, 1320, 360, 120, 600, 780, 660, 540, 840, 720, 780, 1200, 480, 960, 60, 120, 720, 360, 720, 180, 120, 1260, 540, 120, 120, 60, 660, 360, 720, 960, 900, 1140, 2100, 1740, 540, 660, 300, 1260, 480, 780, 300, 120, 180, 540, 120, 1440, 120, 120, 1140, 120, 120, 420, 120, 60, 420, 180, 120, 1140, 1440, 240, 1500, 120, 840, 480, 420, 120, 120, 960, 900, 1080, 960, 1140, 540, 300, 1140, 1620, 840, 240, 780, 420, 840, 120, 1080, 1260, 360, 660, 60, 300, 180, 1680, 120, 120, 60, 1440, 540, 120, 180, 180, 120, 300, 900, 1380, 120, 960, 540, 1380, 1260, 660, 1320, 120, 1860, 60, 300, 360, 300, 120, 1260, 900, 1500, 1020, 120, 1500, 300, 180, 540, 480, 300, 780, 120, 540, 1620, 120, 1200, 1260, 120, 1440, 900, 600, 240, 360, 120, 1260, 540, 1620, 120, 300, 240, 420, 120, 1440, 420, 660, 480, 900, 600, 60, 600, 240, 1260, 1440, 120, 120, 600, 360, 420, 120, 120, 120, 120, 180, 660, 1560, 1620, 660, 1500, 60, 1260, 60, 720, 300, 1200, 540, 360, 120, 780, 1320, 840, 180, 120, 360, 1080, 120, 780, 120, 120, 120, 300, 840, 120, 1080, 780, 120, 480, 1740, 600, 120, 900, 780, 120, 1500, 120, 780, 240, 120, 1320, 240, 780, 1200, 180, 120, 120, 240, 600, 120, 660, 120, 120, 1320, 1500, 480, 360, 180, 1140, 1680, 120, 120, 1500, 1260, 1260, 780, 420, 900, 420, 780, 120, 420, 720, 600, 60, 120, 120, 300, 120, 720, 120, 60, 1200, 660, 1560, 300, 120, 1380, 1440, 180, 420, 1260, 600, 900, 1680, 120, 420, 120, 120, 180, 60, 120, 480, 1800, 180, 1500, 120, 120, 1200, 360, 120, 120, 780, 180, 1080, 120, 660, 1260, 1800, 660, 420, 1320, 60, 120, 780, 780, 540, 1800, 60, 2040, 180, 780, 1380, 60, 840, 960, 1560, 780, 480, 480, 1260, 1080, 120, 540, 900, 540, 1200, 1380, 600, 780, 840, 840, 1440, 180, 60, 480, 120, 300, 420, 360, 780, 1080, 1320, 1500, 1020, 120, 60, 900, 840, 120, 840, 240, 420, 540, 840, 480, 120, 840, 120, 120, 540, 780, 1500, 1500, 120, 1440, 60, 600, 120, 120, 60, 720, 60, 1260, 60, 720, 960, 780, 1680, 120, 1020, 540, 600, 420, 840, 120, 840, 120, 1380, 960, 120, 120, 1560, 720, 600, 900, 540, 120, 660, 120, 420, 660, 120, 300, 180, 1500, 360, 120, 840, 120, 480, 1140, 1260, 240, 180, 180, 120, 300, 1380, 1080, 120, 120, 540, 60, 420, 720, 120, 120, 120, 900, 120, 540, 1200, 780, 120, 900, 720, 1140, 360, 1440, 600, 120, 660, 1140, 480, 420, 1440, 180, 1380, 840, 420, 60, 420, 120, 960, 120, 720, 60, 180, 480, 120, 1260, 660, 60, 180, 240, 900, 120, 1260, 1500, 120, 60, 480, 1140, 1020, 60, 840, 1560, 120, 600, 360, 660, 120, 1620, 420, 600, 60, 120, 60, 120, 120, 300, 480, 1080, 840, 60, 120, 1560, 540, 420, 1200, 300, 720, 120, 480, 420, 840, 1140, 60, 780, 180, 300, 120, 840, 300, 840, 540, 120, 120, 60, 120, 660, 660, 120, 660, 120, 540, 1320, 600, 660, 120, 60, 420, 1260, 540, 660, 1380, 120, 780, 480, 420, 120, 1140, 1260, 720, 120, 1680, 120, 120, 120, 1200, 360, 480, 180, 540, 120, 240, 1080, 480, 120, 1440, 1440, 120, 60, 120, 1380, 900, 120, 180, 120, 1200, 1020, 720, 1440, 60, 1560, 720, 540, 360, 60, 960, 1440, 360, 300, 1620, 1140, 840, 180, 120, 420, 120, 600, 1980, 420, 120, 60, 720, 240, 480, 60, 60, 1020, 720, 780, 60, 1500, 120, 60, 780, 120, 660, 180, 120, 120, 540, 360, 600, 120, 1620, 420, 480, 900, 780, 1260, 60, 420, 360, 840, 60, 1140, 120, 60, 120, 720, 120, 1260, 300, 1500, 1560, 540, 480, 120, 480, 120, 1380, 600, 120, 540, 120, 1680, 1020, 960, 1500, 1320, 120, 660, 60, 960, 540, 300, 420, 1020, 780, 360, 120, 120, 120, 120, 120, 720, 480, 120, 120, 180, 960, 120, 120, 1380, 1320, 120, 180, 360, 300, 120, 60, 120, 120, 660, 1080, 120, 840, 120, 720, 300, 660, 120, 180, 1140, 540, 120, 120, 120, 120, 960, 240, 1500, 1320, 1320, 540, 120, 120, 120, 1260, 480, 1380, 960, 300, 120, 1440, 120, 1620, 660, 120, 300, 300, 660, 720, 1260, 540, 720, 360, 180, 840, 120, 120, 840, 420, 120, 780, 60, 1500, 1260, 660, 420, 180, 120, 300, 120, 660, 120, 120, 1440, 180, 600, 2160, 120, 120, 660, 120, 120, 480, 300, 720, 1560, 480, 60, 1380, 120, 480, 120, 300, 960, 900, 1080, 1200, 600, 600, 300, 1680, 360, 900, 600, 1560, 1500, 300, 1140, 540, 120, 660, 600, 120, 420, 360, 480, 120, 120, 240, 540, 720, 1440, 540, 120, 120, 1020, 120, 120, 180, 960, 60, 360, 120, 840, 660, 120, 1200, 1440, 180, 540, 720, 120, 540, 720, 120, 120, 60, 120, 540, 840, 720, 1380, 1260, 1020, 120, 120, 120, 300, 840, 840, 840, 120, 300, 180, 540, 480, 540, 900, 180, 540, 1380, 1260, 600, 360, 60, 300, 600, 300, 540, 120, 420, 900, 660, 1380, 900, 180, 1740, 240, 660, 120, 480, 120, 660, 60, 600, 120, 780, 120, 1500, 1320, 540, 1500, 780, 120, 300, 360, 120, 120, 300, 1020, 840, 360, 1320, 60, 180, 180, 300, 540, 120, 840, 120, 600, 840, 420, 1500, 1620, 180, 1500, 120, 120, 60, 660, 540, 720, 120, 360, 1380, 840, 600, 1620, 180, 120, 1560, 660, 420, 60, 120, 120, 120, 180, 960, 1440, 960, 120, 780, 420, 1080, 120, 1500, 60, 1260, 2280, 120, 1620, 1620, 660, 60, 720, 60, 60, 900, 2220, 480, 1560, 600, 600, 120, 480, 840, 420, 720, 180, 120, 120, 540, 420, 120, 420, 360, 1560, 540, 480, 660, 180, 1140, 300, 120, 120, 480, 120, 480, 120, 60, 720, 60, 600, 180, 1380, 960, 300, 1440, 240, 360, 60, 120, 300, 420, 720, 120, 360, 1200, 180, 480, 420, 780, 1320, 120, 1320, 600, 780, 120, 300, 360, 960, 180, 540, 1380, 120, 300, 660, 840, 1380, 2160, 1200, 180, 180, 540, 300, 60, 420, 120, 840, 1260, 600, 1440, 180, 1320, 1620, 360, 120, 420, 300, 180, 120, 120, 1260, 480, 60, 900, 480, 360, 300, 720, 120, 660, 180, 1560, 540, 120, 780, 1200, 480, 60, 600, 1200, 1320, 540, 60, 300, 1020, 780, 780, 120, 660, 120, 480, 660, 780, 780, 1200, 600, 1620, 180, 1080, 660, 120, 1200, 900, 1500, 300, 1740, 420, 120, 1680, 1320, 1440, 420, 720, 120, 120, 1440, 1140, 120, 180, 1380, 660, 60, 120, 120, 300, 1620, 840, 120, 240, 600, 300, 720, 900, 720, 600, 180, 120, 600, 1620, 60, 960, 780, 120, 1380, 180, 180, 180, 120, 60, 1200, 120, 120, 120, 480, 120, 420, 120, 120, 420, 240, 120, 840, 120, 780, 120, 1200, 540, 420, 120, 1020, 480, 540, 960, 120, 120, 660, 300, 60, 900, 120, 120, 120, 120, 300, 2280, 240, 900, 720, 1500, 720, 540, 60, 540, 660, 360, 300, 420, 60, 660, 420, 1320, 120, 660, 1560, 2520, 780, 240, 120, 780, 240, 420, 180, 1200, 120, 120, 120, 120, 180, 1800, 780, 120, 120, 420, 1560, 1740, 300, 960, 660, 720, 900, 1800, 120, 1560, 1620, 1680, 1260, 1620, 1560, 240, 120, 60, 240, 60, 240, 1620, 300, 1020, 600, 480, 180, 120, 420, 1380, 1560, 540, 1380, 1680, 780, 960, 780, 120, 360, 720, 120, 120, 120, 420, 120, 120, 420, 720, 120, 120, 120, 1260, 780, 900, 120, 180, 900, 420, 120, 120, 780, 60, 900, 360, 120, 1320, 420, 1380, 120, 120, 120, 1260, 120, 120, 360, 1380, 540, 180, 660, 600, 180, 300, 120, 360, 240, 2280, 120, 660, 960, 840, 120, 180, 360, 960, 300, 120, 540, 720, 120, 900, 420, 600, 720, 120, 120, 1140, 120, 1320, 120, 1740, 780, 2220, 780, 180, 540, 1800, 720, 840, 240, 480, 900, 300, 60, 780, 120, 480, 120, 120, 420, 60, 1080, 1680, 420, 600, 1440, 120, 1320, 660, 300, 660, 780, 540, 360, 120, 120, 720, 120, 120, 300, 1320, 1500, 120, 1320, 480, 420, 120, 780, 180, 1500, 1260, 1560, 360, 540, 120, 900, 720, 120, 60, 840, 120, 480, 1260, 60, 1500, 1500, 1500, 360, 180, 120, 660, 120, 120, 1020, 180, 180, 540, 300, 1020, 960, 120, 540, 900, 60, 300, 780, 120, 480, 1380, 120, 120, 420, 780, 1140, 900, 600, 660, 120, 360, 1260, 660, 480, 660, 1080, 120, 480, 120, 1020, 660, 300, 60, 180, 540, 120, 1500, 180, 600, 900, 120, 120, 960, 840, 540, 840, 480, 240, 600, 960, 480, 180, 1380, 120, 1260, 600, 120, 360, 600, 1500, 120, 660, 120, 780, 720, 600, 120, 420, 720, 1560, 840, 1380, 300, 120, 60, 600, 600, 180, 120, 660, 600, 660, 1680, 540, 1440, 1140, 60, 1560, 720, 420, 720, 120, 120, 120, 60, 1440, 420, 540, 120, 480, 840, 1020, 840, 120, 1560, 720, 120, 720, 360, 840, 960, 180, 120, 840, 60, 1500, 1140, 1320, 660, 1200, 360, 1260, 180, 120, 720, 120, 360, 120, 120, 120, 720, 840, 120, 780, 1500, 120, 1440, 720, 660, 1560, 480, 1140, 720, 420, 1140, 300, 480, 120, 1680, 780, 1380, 1140, 1320, 120, 120, 300, 120, 2340, 540, 720, 240, 480, 720, 540, 120, 960, 1620, 360, 720, 300, 120, 720, 480, 1560, 1140, 360, 60, 660, 600, 960, 120, 780, 300, 180, 60, 600, 120, 120, 60, 720, 300, 180, 120, 300, 240, 120, 720, 480, 1620, 120, 480, 120, 180, 1020, 120, 240, 120, 960, 300, 420, 120, 1620, 840, 360, 900, 180, 720, 300, 240, 180, 180, 1320, 600, 120, 720, 120, 120, 420, 1680, 720, 120, 1500, 120, 780, 1200, 1260, 540, 720, 1440, 60, 780, 240, 1320, 120, 60, 840, 420, 180, 180, 180, 1020, 840, 360, 120, 120, 120, 1080, 1320, 480, 1680, 780, 120, 120, 120, 480, 1680, 1440, 60, 660, 300, 60, 1440, 1560, 540, 60, 1440, 600, 780, 300, 1560, 360, 660, 960, 780, 180, 780, 540, 60, 180, 420, 300, 60, 240, 540, 420, 120, 120, 1020, 840, 120, 1200, 60, 120, 720, 120, 660, 540, 0, 120, 2280, 300, 1560, 120, 60, 240, 60, 60, 240, 120, 300, 120, 480, 120, 780, 540, 1200, 120, 1800, 840, 120, 120, 120, 1440, 780, 540, 60, 540, 960, 120, 660, 480, 120, 240, 180, 60, 120, 960, 720, 120, 660, 120, 120, 120, 180, 180, 120, 1020, 120, 180, 120, 660, 840, 120, 1380, 660, 120, 60, 420, 120, 840, 60, 600, 540, 1500, 720, 120, 120, 1260, 780, 360, 180, 60, 300, 480, 120, 120, 540, 300, 1500, 120, 1320, 660, 420, 180, 120, 420, 420, 840, 840, 1320, 360, 360, 120, 120, 60, 240, 480, 840, 1020, 180, 120, 1080, 120, 60, 1620, 120, 300, 360, 540, 480, 300, 300, 360, 120, 120, 120, 660, 420, 540, 1380, 780, 600, 360, 420, 600, 720, 840, 720, 180, 180, 1020, 1620, 480, 900, 120, 120, 660, 900, 240, 1380, 840, 840, 120, 120, 660, 780, 120, 720, 300, 900, 120, 120, 180, 480, 180, 900, 420, 120, 120, 480, 240, 420, 1200, 420, 1500, 120, 780, 780, 180, 1560, 780, 600, 840, 240, 840, 120, 780, 120, 120, 960, 180, 840, 960, 600, 300, 60, 360, 960, 1380, 1620, 1500, 960, 120, 120, 780, 120, 780, 600, 540, 600, 1380, 960, 780, 1320, 1020, 600, 60, 1020, 1260, 720, 780, 60, 480, 840, 120, 180, 420, 120, 960, 120, 540, 780, 120, 120, 180, 120, 240, 300, 60, 1140, 120, 420, 240, 60, 600, 120, 60, 840, 180, 120, 600, 420, 1620, 60, 720, 780, 60, 180, 360, 1140, 120, 300, 120, 600, 480, 120, 120, 180, 360, 900, 240, 1560, 120, 840, 360, 1560, 1440, 600, 540, 120, 120, 120, 900, 960, 120, 1020, 300, 840, 480, 300, 720, 540, 540, 120, 1200, 960, 1020, 60, 960, 120, 540, 900, 900, 480, 1500, 120, 840, 120, 1440, 840, 780, 60, 420, 1620, 120, 420, 60, 120, 120, 1560, 120, 180, 120, 1500, 360, 720, 300, 1260, 120, 180, 1740, 120, 900, 420, 1080, 120, 120, 420, 1620, 1440, 420, 720, 360, 480, 360, 1260, 900, 540, 1380, 780, 840, 780, 120, 180, 540, 1920, 120, 120, 1380, 900, 660, 1380, 120, 60, 480, 120, 120, 1020, 120, 180, 1200, 900, 120, 60, 120, 1920, 840, 540, 1200, 420, 240, 660, 120, 120, 540, 120, 480, 120, 480, 120, 180, 240, 300, 480, 360, 300, 1440, 180, 120, 1200, 900, 60, 60, 60, 120, 60, 180, 240, 120, 720, 540, 660, 120, 360, 120, 120, 1200, 420, 900, 840, 1380, 840, 540, 120, 1080, 120, 780, 540, 1560, 180, 120, 120, 540, 300, 120, 720, 120, 1140, 660, 1500, 120, 120, 120, 900, 1560, 540, 120, 600, 360, 900, 780, 1620, 240, 840, 1380, 1440, 780, 120, 60, 120, 1500, 660, 1680, 1020, 600, 120, 120, 720, 720, 120, 480, 120, 900, 300, 780, 300, 600, 1020, 540, 660, 120, 720, 1680, 120, 540, 1440, 180, 540, 660, 120, 1500, 1380, 60, 1140, 180, 1320, 1680, 120, 120, 120, 120, 120, 1440, 120, 480, 120, 960, 1080, 1920, 1200, 240, 120, 720, 1380, 840, 60, 1020, 60, 1560, 120, 180, 1260, 2100, 420, 120, 120, 420, 720, 120, 120, 60, 1320, 480, 120, 360, 1080, 900, 1260, 540, 120, 360, 120, 600, 780, 60, 120, 120, 120, 180, 120, 1560, 840, 780, 480, 300, 300, 120, 180, 1560, 720, 60, 120, 120, 120, 540, 1560, 60, 420, 120, 300, 360, 480, 540, 420, 420, 120, 300, 720, 360, 120, 1620, 420, 300, 780, 1260, 420, 180, 120, 1140, 840, 1440, 120, 900, 120, 120, 660, 1140, 480, 720, 120, 1440, 120, 1140, 540, 60, 120, 120, 1200, 540, 120, 120, 300, 120, 420, 420, 300, 60, 120, 120, 300, 1860, 420, 1680, 420, 960, 120, 540, 120, 1260, 120, 660, 1260, 120, 1680, 840, 1200, 720, 600, 780, 300, 540, 120, 660, 1800, 120, 240, 1620, 180, 120, 1680, 1380, 720, 300, 120, 480, 120, 240, 480, 120, 540, 120, 1380, 120, 120, 1020, 660, 120, 960, 900, 60, 900, 120, 180, 960, 1080, 660, 720, 660, 180, 180, 120, 1260, 600, 180, 960, 1020, 540, 540, 600, 120, 1020, 120, 120, 1140, 960, 300, 120, 960, 480, 1260, 300, 780, 540, 120, 1380, 1200, 2220, 120, 120, 900, 840, 120, 480, 420, 660, 1380, 300, 60, 300, 120, 300, 660, 660, 180, 180, 1440, 1020, 1320, 120, 900, 60, 240, 480, 960, 1440, 120, 480, 240, 720, 60, 720, 120, 1020, 1440, 420, 120, 120, 180, 2220, 1380, 780, 120, 540, 120, 60, 60, 1260, 120, 360, 780, 600, 900, 1080, 120, 1560, 1560, 360, 120, 780, 120, 420, 60, 900, 60, 420, 1200, 180, 660, 120, 540, 120, 900, 1080, 660, 1620, 900, 60, 300, 420, 540, 960, 1500, 1380, 120, 540, 180, 960, 120, 120, 120, 960, 1380, 120, 360, 900, 720, 60, 600, 720, 480, 420, 1380, 60, 900, 960, 120, 1080, 420, 1020, 120, 2280, 960, 540, 360, 780, 1620, 360, 300, 120, 300, 60, 720, 900, 300, 120, 420, 840, 120, 180, 120, 1500, 960, 120, 2280, 840, 960, 660, 780, 60, 120, 420, 540, 180, 300, 1440, 180, 300, 480, 1080, 120, 120, 600, 1080, 120, 480, 1620, 180, 840, 120, 780, 120, 960, 120, 120, 60, 60, 120, 120, 1560, 420, 120, 1080, 1200, 120, 120, 300, 720, 720, 300, 120, 540, 120, 1140, 120, 300, 480, 180, 1560, 120, 720, 840, 840, 120, 120, 600, 60, 1380, 180, 120, 480, 660, 240, 1740, 420, 1080, 1800, 480, 120, 120, 300, 660, 600, 1680, 180, 120, 60, 120, 120, 720, 480, 60, 1620, 720, 780, 60, 1560, 300, 60, 1680, 660, 240, 1200, 840, 120, 120, 120, 1680, 960, 1380, 120, 300, 120, 1800, 360, 960, 420, 300, 120, 1980, 780, 1260, 960, 720, 120, 960, 360, 360, 840, 660, 600, 420, 1380, 120, 1620, 540, 420, 120, 180, 420, 120, 1620, 720, 480, 1560, 540, 480, 960, 1680, 120, 120, 720, 900, 60, 480, 1380, 960, 540, 1620, 120, 540, 120, 120, 120, 240, 1320, 180, 1140, 1260, 120, 1260, 1620, 120, 300, 120, 1140, 120, 180, 120, 660, 60, 120, 120, 660, 780, 120, 360, 960, 120, 1320, 120, 60, 120, 1620, 180, 1380, 720, 420, 1440, 1500, 600, 300, 1500, 600, 360, 180, 1500, 1380, 120, 720, 1200, 1560, 120, 420, 180, 120, 660, 120, 420, 60, 840, 120, 780, 1560, 720, 2220, 600, 540, 300, 1500, 60, 120, 120, 420, 540, 120, 60, 60, 300, 480, 360, 180, 120, 120, 480, 120, 420, 540, 360, 120, 1200, 120, 600, 1560, 840, 600, 780, 300, 1620, 480, 1440, 960, 1080, 1680, 1440, 180, 420, 120, 120, 120, 1380, 660, 360, 960, 60, 1200, 420, 300, 1380, 60, 720, 480, 2280, 1260, 720, 720, 480, 600, 1560, 780, 1440, 540, 480, 120, 780, 1440, 2040, 900, 1380, 1500, 600, 600, 240, 120, 1620, 120, 60, 180, 480, 360, 720, 360, 960, 300, 780, 780, 120, 1200, 1500, 1380, 420, 1380, 1560, 480, 720, 300, 120, 600, 480, 420, 300, 240, 120, 660, 540, 180, 120, 120, 120, 120, 1620, 300, 840, 720, 540, 120, 60, 120, 1380, 1680, 120, 960, 180, 1200, 720, 180, 660, 960, 1320, 1440, 900, 720, 840, 1320, 1320, 840, 900, 120, 180, 840, 1440, 120, 300, 240, 780, 720, 120, 420, 600, 300, 660, 540, 1500, 1560, 480, 120, 180, 120, 120, 120, 120, 720, 780, 120, 420, 180, 300, 120, 180, 240, 120, 540, 120, 180, 240, 1020, 780, 1440, 420, 120, 120, 660, 120, 720, 120, 840, 1800, 1260, 540, 1140, 420, 480, 120, 780, 60, 1440, 600, 1200, 300, 60, 120, 540, 780, 120, 840, 120, 1260, 1080, 120, 360, 360, 120, 300, 780, 540, 600, 780, 120, 120, 780, 540, 120, 120, 480, 120, 120, 120, 1440, 1380, 540, 1380, 180, 1080, 600, 120, 1500, 960, 120, 120, 1620, 540, 120, 60, 1080, 1260, 60, 180, 120, 180, 120, 1500, 780, 120, 120, 420, 120, 600, 60, 1020, 120, 180, 300, 900, 660, 240, 660, 120, 120, 60, 120, 60, 180, 120, 120, 120, 60, 1500, 120, 1020, 1020, 1380, 1140, 120, 480, 120, 1560, 120, 540, 120, 1440, 1080, 480, 120, 120, 60, 120, 960, 960, 120, 240, 960, 300, 120, 1260, 300, 1440, 120, 660, 300, 1560, 2280, 780, 360, 1020, 120, 840, 120, 60, 480, 420, 1380, 360, 120, 120, 1620, 120, 180, 1620, 600, 360, 1380, 540, 1380, 300, 120, 540, 420, 1320, 1500, 360, 2460, 540, 1320, 420, 120, 360, 480, 660, 120, 480, 300, 780, 480, 420, 360, 1800, 900, 120, 840, 1560, 120, 120, 60, 120, 960, 120, 180, 240, 120, 600, 240, 60, 960, 1620, 360, 420, 660, 1440, 1440, 480, 540, 900, 780, 60, 1080, 120, 120, 120, 300, 720, 300, 1560, 120, 1140, 120, 660, 780, 180, 180, 600, 120, 1560, 1560, 1380, 240, 60, 300, 1920, 300, 1620, 420, 1500, 300, 1620, 240, 1080, 840, 1380, 120, 540, 1380, 120, 600, 60, 480, 900, 360, 120, 180, 300, 300, 1320, 720, 120, 960, 1380, 240, 1560, 420, 1440, 960, 840, 1380, 600, 180, 1200, 120, 540, 120, 120, 1620, 900, 120, 720, 1500, 1080, 1200, 120, 300, 720, 1560, 300, 180, 1080, 1620, 60, 900, 360, 720, 300, 360, 600, 1200, 1200, 540, 120, 60, 300, 960, 120, 1560, 660, 780, 1680, 660, 120, 540, 900, 120, 120, 300, 180, 60, 120, 300, 300, 420, 720, 1260, 120, 1440, 120, 120, 300, 120, 1740, 840, 780, 120, 420, 960, 780, 660, 1380, 60, 1260, 1140, 60, 600, 120, 60, 120, 240, 120, 1440, 120, 600, 540, 1560, 1080, 60, 120, 840, 480, 120, 1140, 1080, 900, 60, 600, 120, 480, 600, 60, 120, 120, 540, 300, 840, 120, 600, 120, 540, 1560, 2280, 780, 420, 660, 60, 120, 480, 180, 1380, 120, 1320, 1380, 300, 120, 1200, 180, 780, 120, 60, 120, 180, 1560, 420, 660, 1620, 120, 2280, 1140, 780, 180, 1620, 240, 360, 600, 720, 180, 480, 120, 780, 300, 1140, 840, 1440, 60, 1560, 120, 480, 1380, 480, 1800, 120, 1740, 300, 900, 360, 600, 120, 1380, 960, 600, 240, 300, 1200, 840, 1800, 120, 120, 60, 120, 660, 300, 1800, 120, 780, 180, 600, 1200, 600, 480, 720, 1260, 480, 540, 480, 240, 180, 840, 120, 360, 540, 600, 60, 480, 120, 840, 960, 1260, 300, 360, 360, 120, 780, 120, 480, 1320, 780, 780, 120, 180, 300, 300, 600, 660, 840, 1080, 1800, 1560, 360, 480, 1440, 120, 360, 960, 120, 1140, 360, 180, 120, 1980, 120, 120, 180, 120, 900, 120, 1080, 540, 120, 120, 420, 360, 1620, 480, 1560, 780, 420, 660, 240, 360, 1320, 60, 60, 120, 840, 120, 1320, 120, 540, 1560, 1080, 960, 120, 840, 300, 480, 120, 1320, 780, 180, 120, 60, 360, 420, 1380, 120, 1140, 120, 540, 180, 120, 60, 60, 1800, 720, 1500, 360, 600, 120, 900, 120, 420, 300, 120, 420, 120, 120, 120, 120, 120, 60, 120, 780, 60, 360, 600, 1080, 840, 120, 660, 120, 1560, 180, 420, 1860, 180, 420, 900, 1080, 1080, 1500, 60, 1380, 300, 120, 420, 180, 300, 480, 180, 420, 540, 1200, 1260, 120, 120, 120, 240, 720, 600, 1320, 960, 120, 1440, 300, 120, 1560, 300, 60, 540, 720, 120, 540, 300, 540, 240, 1080, 120, 120, 120, 600, 960, 60, 300, 240, 120, 120, 840, 540, 720, 60, 120, 1260, 2520, 120, 120, 2280, 60, 60, 120, 1380, 120, 120, 720, 480, 120, 60, 660, 180, 540, 240, 360, 60, 600, 60, 360, 120, 960, 1320, 420, 1560, 120, 1140, 180, 180, 120, 540, 120, 360, 540, 360, 120, 360, 120, 360, 1440, 300, 180, 840, 180, 480, 780, 60, 120, 900, 420, 780, 120, 120, 180, 120, 1560, 120, 360, 180, 240, 60, 720, 780, 540, 360, 180, 60, 120, 180, 60, 600, 480, 120, 300, 120, 300, 180, 180, 1020, 120, 540, 540, 120, 660, 660, 1200, 300, 1140, 1020, 1560, 660, 720, 780, 780, 420, 180, 1080, 1440, 120, 120, 120, 60, 120, 60, 600, 720, 480, 300, 120, 1200, 1260, 60, 1440, 120, 120, 1740, 300, 420, 420, 60, 420, 1140, 1740, 1020, 720, 120, 480, 360, 780, 120, 540, 1080, 360, 480, 600, 540, 240, 120, 600, 120, 720, 1620, 120, 900, 1380, 960, 240, 420, 600, 1020, 1620, 780, 780, 660, 900, 840, 1380, 1380, 780, 120, 120, 480, 60, 840, 120, 420, 300, 540, 840, 60, 180, 720, 120, 360, 1560, 60, 840, 480, 720, 600, 180, 300, 2280, 1620, 120, 360, 480, 960, 420, 600, 120, 240, 180, 1560, 540, 120, 60, 360, 720, 540, 1500, 2220, 660, 60, 120, 420, 120, 60, 660, 240, 420, 60, 60, 480, 180, 600, 120, 660, 1080, 120, 120, 720, 840, 120, 900, 120, 120, 120, 540, 1080, 120, 1500, 60, 120, 120, 180, 1500, 120, 120, 480, 1380, 660, 540, 840, 1260, 360, 300, 1500, 600, 60, 600, 120, 180, 1380, 780, 180, 540, 1080, 1740, 420, 120, 420, 120, 180, 360, 960, 600, 780, 120, 120, 120, 780, 780, 2160, 120, 120, 120, 720, 480, 1320, 180, 120, 1320, 120, 1560, 1620, 960, 120, 720, 300, 120, 420, 660, 780, 420, 120, 1080, 480, 120, 1200, 480, 1620, 120, 120, 2280, 420, 300, 120, 120, 1620, 180, 840, 540, 540, 120, 360, 420, 120, 120, 1020, 60, 1260, 60, 60, 300, 600, 720, 960, 120, 600, 1620, 1500, 960, 1800, 1200, 120, 1800, 1560, 180, 360, 180, 480, 1620, 120, 1500, 540, 120, 120, 600, 420, 60, 660, 120, 780, 840, 420, 120, 120, 60, 1500, 120, 1620, 1320, 120, 180, 120, 360, 840, 1200, 420, 1080, 360, 120, 840, 780, 120, 960, 300, 1140, 180, 1620, 120, 120, 720, 1020, 180, 960, 1560, 420, 780, 120, 180, 240, 1380, 480, 120, 120, 120, 1140, 540, 480, 1320, 1560, 120, 420, 600, 600, 840, 780, 120, 60, 1140, 120, 1380, 120, 960, 60, 540, 1200, 120, 120, 180, 120, 300, 1080, 1500, 780, 120, 480, 420, 1500, 120, 540, 480, 1260, 360, 60, 420, 240, 840, 720, 1800, 1620, 960, 540, 300, 60, 180, 420, 120, 360, 120, 900, 1380, 780, 120, 240, 420, 120, 540, 540, 660, 720, 120, 60, 180, 720, 660, 660, 540, 1020, 900, 360, 720, 60, 1500, 1260, 540, 1320, 480, 720, 480, 660, 600, 720, 300, 120, 1020, 300, 540, 600, 480, 540, 120, 660, 1380, 480, 360, 720, 300, 780, 120, 420, 360, 1080, 1260, 1440, 120, 780, 1320, 120, 840, 120, 120, 420, 300, 1260, 60, 420, 720, 1380, 720, 600, 1500, 60, 120, 240, 1200, 780, 120, 420, 1140, 720, 600, 540, 540, 780, 120, 120, 120, 300, 480, 1260, 120, 180, 840, 480, 1260, 480, 120, 660, 420, 300, 360, 1440, 300, 1620, 420, 600, 180, 540, 900, 120, 300, 60, 60, 1440, 120, 1080, 120, 120, 720, 660, 1560, 1260, 300, 840, 60, 120, 1320, 120, 1020, 60, 840, 120, 720, 180, 720, 120, 1020, 720, 840, 120, 1500, 780, 1320, 420, 120, 780, 480, 720, 120, 120, 120, 180, 1800, 540, 780, 1380, 300, 480, 60, 120, 1200, 180, 540, 60, 1200, 1320, 1320, 540, 1080, 120, 660, 660, 60, 1560, 1380, 900, 660, 120, 300, 1140, 900, 60, 1620, 1920, 780, 1560, 1380, 360, 180, 120, 900, 120, 120, 360, 1500, 120, 120, 480, 720, 420, 600, 120, 540, 480, 960, 180, 300, 120, 960, 360, 120, 120, 540, 1560, 720, 120, 720, 1620, 720, 540, 720, 60, 300, 1680, 180, 60, 120, 300, 1560, 1560, 660, 120, 60, 420, 1740, 1020, 1440, 180, 120, 300, 1380, 1800, 120, 660, 120, 1200, 1620, 120, 60, 60, 120, 120, 120, 120, 120, 120, 300, 1620, 120, 300, 120, 660, 1560, 960, 1080, 60, 780, 720, 120, 900, 360, 1380, 420, 660, 720, 600, 180, 1380, 120, 1140, 60, 120, 120, 840, 120, 60, 1800, 360, 1740, 120, 900, 1560, 1680, 600, 420, 480, 2040, 120, 780, 60, 120, 120, 120, 1620, 1200, 180, 180, 240, 180, 660, 1620, 360, 1560, 1380, 120, 360, 120, 300, 720, 1080, 120, 660, 480, 240, 1680, 120, 180, 540, 1320, 120, 480, 900, 120, 300, 1140, 180, 120, 780, 1560, 120, 120, 1440, 900, 300, 1560, 120, 540, 480, 1740, 2220, 420, 360, 540, 840, 420, 480, 60, 60, 780, 60, 120, 1080, 1500, 300, 300, 120, 1440, 360, 1020, 1560, 120, 1020, 180, 180, 120, 720, 180, 660, 420, 60, 960, 780, 60, 1440, 120, 1140, 60, 1560, 660, 1620, 180, 60, 720, 1440, 900, 1680, 840, 120, 840, 120, 1320, 180, 1620, 1620, 120, 660, 1320, 120, 120, 120, 480, 180, 600, 1200, 840, 1260, 360, 240, 1620, 120, 240, 120, 1200, 120, 1380, 600, 60, 600, 300, 540, 1020, 660, 360, 540, 120, 420, 840, 360, 120, 420, 60, 840, 660, 180, 480, 120, 120, 240, 180, 840, 60, 540, 120, 120, 780, 120, 360, 660, 240, 480, 960, 300, 360, 360, 540, 60, 1140, 540, 960, 480, 120, 1020, 120, 1140, 840, 360, 720, 300, 180, 780, 1560, 900, 180, 120, 1440, 1200, 120, 540, 180, 120, 480, 900, 2220, 780, 660, 540, 120, 120, 120, 1020, 780, 240, 120, 780, 120, 120, 780, 540, 780, 840, 120, 300, 1560, 480, 720, 120, 1380, 720, 180, 780, 840, 180, 180, 120, 240, 660, 300, 660, 360, 660, 1200, 180, 180, 1380, 540, 780, 720, 360, 780, 120, 120, 120, 360, 60, 180, 780, 720, 1440, 60, 540, 120, 480, 120, 120, 600, 120, 420, 600, 180, 120, 600, 600, 600, 120, 660, 360, 60, 120, 420, 240, 600, 300, 120, 1320, 600, 60, 1560, 720, 540, 120, 1440, 240, 960, 120, 600, 120, 480, 780, 720, 1080, 1020, 60, 120, 120, 900, 840, 60, 1080, 120, 360, 120, 720, 120, 60, 60, 660, 540, 1620, 120, 900, 1380, 480, 120, 720, 540, 360, 420, 540, 1920, 840, 540, 1500, 1500, 420, 120, 120, 360, 1680, 1560, 360, 360, 180, 900, 1200, 120, 1500, 60, 120, 660, 2280, 120, 540, 480, 540, 300, 360, 120, 300, 480, 180, 540, 120, 420, 120, 420, 480, 780, 1620, 1620, 60, 540, 1620, 180, 240, 300, 120, 1320, 360, 300, 1380, 900, 420, 840, 180, 120, 1080, 1020, 1260, 120, 720, 120, 840, 60, 180, 120, 120, 180, 360, 60, 1500, 120, 240, 300, 420, 1560, 540, 780, 360, 120, 1440, 1560, 1140, 120, 900, 960, 840, 360, 300, 60, 120, 120, 1560, 300, 60, 300, 900, 1500, 120, 780, 1680, 420, 120, 120, 540, 120, 540, 120, 60, 60, 780, 480, 660, 780, 60, 720, 660, 360, 420, 120, 900, 840, 780, 480, 1320, 60, 1440, 900, 120, 420, 300, 900, 840, 1260, 120, 480, 2280, 180, 840, 240, 720, 1320, 900, 780, 1380, 120, 960, 180, 180, 120, 180, 120, 360, 540, 300, 960, 660, 120, 780, 420, 120, 1320, 300, 60, 600, 300, 2220, 900, 1140, 840, 1500, 180, 1440, 120, 1260, 120, 660, 480, 660, 1380, 900, 1620, 900, 480, 480, 840, 120, 480, 420, 780, 180, 1080, 1260, 720, 900, 1080, 1260, 1320, 360, 900, 1440, 1140, 240, 1320, 960, 1200, 1560, 1500, 120, 540, 300, 120, 420, 1440, 120, 960, 840, 840, 120, 780, 120, 120, 120, 120, 180, 1500, 840, 300, 1560, 480, 60, 1440, 1680, 480, 420, 300, 120, 1680, 840, 420, 840, 1500, 660, 240, 120, 600, 900, 720, 1260, 1500, 360, 360, 540, 120, 180, 1080, 360, 780, 540, 120, 120, 300, 420, 60, 120, 420, 840, 1080, 780, 1800, 1740, 360, 1560, 360, 840, 120, 420, 960, 120, 1620, 1200, 600, 360, 240, 120, 120, 120, 540, 360, 120, 480, 180, 780, 1260, 1440, 1380, 1620, 300, 120, 960, 660, 1440, 1020, 300, 120, 1500, 480, 120, 300, 120, 120, 1440, 120, 720, 120, 900, 120, 1260, 120, 120, 1320, 240, 120, 1260, 960, 840, 960, 420, 1140, 120, 420, 540, 1380, 480, 840, 420, 780, 360, 180, 600, 840, 120, 840, 840, 540, 1260, 1080, 120, 780, 1560, 480, 60, 660, 180, 720, 60, 660, 60, 420, 120, 1440, 1500, 60, 120, 360, 120, 540, 720, 300, 180, 1440, 120, 780, 420, 780, 480, 480, 1380, 540, 1560, 60, 600, 120, 1320, 60, 420, 120, 180, 60, 60, 120, 120, 1500, 1560, 1680, 120, 60, 1620, 120, 120, 300, 180, 300, 540, 540, 480, 1560, 780, 420, 60, 660, 420, 1980, 840, 360, 1140, 1500, 540, 1260, 1560, 1440, 180, 300, 120, 120, 120, 1380, 1920, 960, 540, 600, 180, 600, 540, 120, 120, 720, 1560, 240, 600, 1080, 480, 420, 420, 120, 600, 60, 600, 660, 120, 120, 780, 660, 300, 780, 120, 600, 120, 540, 540, 120, 240, 120, 120, 660, 180, 120, 720, 540, 1380, 780, 2280, 60, 1440, 60, 1080, 480, 360, 300, 840, 1560, 60, 120, 120, 1680, 1620, 120, 540, 720, 300, 120, 1260, 1020, 60, 1320, 120, 840, 540, 120, 60, 900, 660, 420, 120, 1020, 420, 720, 1560, 60, 1200, 180, 1140, 420, 840, 120, 120, 300, 120, 1200, 780, 660, 1320, 120, 120, 540, 120, 600, 480, 360, 120, 120, 780, 600, 120, 660, 780, 1500, 480, 840, 120, 300, 480, 120, 60, 120, 120, 1740, 300, 1020, 720, 360, 120, 120, 1560, 1440, 1620, 240, 1200, 120, 840, 120, 360, 180, 360, 660, 240, 120, 1680, 1860, 1620, 120, 480, 840, 120, 960, 660, 300, 660, 300, 840, 120, 60, 60, 1680, 1380, 420, 1260, 600, 120, 720, 120, 1500, 1380, 600, 300, 420, 720, 900, 120, 660, 420, 840, 600, 1620, 660, 300, 480, 660, 120, 240, 540, 780, 360, 60, 420, 1080, 600, 1200, 480, 660, 600, 720, 540, 120, 480, 540, 120, 60, 300, 60, 960, 180, 780, 60, 780, 180, 1260, 300, 120, 1440, 540, 60, 120, 1440, 1800, 720, 180, 960, 120, 120, 1500, 540, 1200, 1680, 420, 120, 1320, 960, 360, 300, 120, 540, 1620, 120, 60, 180, 240, 960, 600, 840, 240, 120, 1500, 1680, 120, 600, 720, 120, 300, 120, 1560, 540, 1020, 600, 120, 420, 1440, 780, 600, 600, 780, 480, 540, 180, 180, 420, 180, 120, 420, 120, 120, 1560, 960, 180, 60, 1560, 1380, 120, 1320, 1440, 120, 480, 600, 1380, 300, 1380, 60, 900, 540, 480, 600, 60, 1620, 1320, 840, 240, 1440, 1800, 60, 360, 720, 120, 720, 60, 120, 780, 1260, 120, 300, 660, 120, 540, 120, 1440, 60, 120, 1260, 120, 420, 300, 480, 240, 60, 180, 120, 480, 1380, 840, 120, 1140, 120, 2400, 120, 120, 600, 540, 480, 540, 1860, 360, 180, 120, 300, 600, 780, 840, 480, 120, 780, 1320, 120, 120, 1380, 1380, 60, 1680, 780, 120, 1260, 720, 60, 60, 840, 120, 540, 1560, 420, 360, 900, 240, 120, 840, 60, 480, 120, 720, 1620, 120, 60, 120, 1620, 120, 1560, 960, 780, 120, 840, 660, 1320, 60, 420, 120, 420, 60, 1140, 120, 360, 1740, 120, 960, 540, 1680, 180, 960, 120, 180, 660, 360, 1500, 120, 120, 1380, 1500, 600, 720, 120, 180, 540, 180, 120, 120, 120, 300, 360, 540, 120, 900, 120, 180, 660, 1440, 120, 180, 120, 120, 60, 780, 240, 540, 420, 420, 840, 120, 1200, 180, 420, 420, 1800, 120, 240, 1140, 1620, 840, 1620, 1440, 540, 180, 2820, 660, 420, 60, 60, 120, 60, 60, 360, 120, 780, 120, 120, 120, 120, 300, 120, 1380, 1440, 780, 120, 1380, 1200, 120, 300, 960, 1320, 1260, 120, 600, 480, 120, 120, 180, 660, 420, 60, 180, 780, 180, 1020, 960, 120, 1080, 480, 60, 120, 840, 840, 1380, 480, 900, 180, 120, 1560, 180, 60, 480, 120, 120, 120, 1140, 120, 1320, 120, 600, 60, 420, 780, 480, 660, 180, 240, 60, 120, 120, 720, 600, 360, 900, 720, 1440, 60, 300, 120, 420, 120, 1500, 1560, 300, 120, 1440, 540, 780, 1800, 1200, 120, 780, 1320, 1140, 1080, 1500, 1260, 120, 1680, 1620, 300, 120, 120, 1200, 1200, 480, 240, 1200, 60, 1200, 720, 540, 1140, 600, 360, 600, 1440, 420, 120, 360, 60, 120, 1380, 1020, 240, 540, 1560, 120, 1440, 1560, 480, 600, 1560, 300, 120, 120, 660, 960, 1320, 60, 120, 60, 780, 180, 900, 120, 60, 120, 300, 120, 120, 960, 1140, 1560, 420, 120, 1320, 300, 540, 1560, 300, 1020, 420, 780, 300, 180, 840, 2280, 1440, 120, 1560, 360, 480, 480, 780, 180, 1560, 120, 480, 420, 1500, 1260, 120, 60, 120, 780, 120, 120, 120, 360, 1200, 1020, 120, 120, 1440, 1260, 420, 660, 1020, 60, 1440, 60, 480, 120, 120, 120, 180, 120, 480]\n"
     ]
    }
   ],
   "source": [
    "print(duration_hm)"
   ]
  },
  {
   "cell_type": "code",
   "execution_count": 143,
   "id": "fa0bea12-9a3a-40f4-8e6a-6accca5ab2be",
   "metadata": {},
   "outputs": [
    {
     "name": "stdout",
     "output_type": "stream",
     "text": [
      "[50, 25, 0, 25, 45, 25, 30, 5, 30, 50, 15, 35, 15, 10, 35, 35, 30, 35, 0, 35, 10, 20, 50, 55, 20, 10, 45, 55, 50, 15, 15, 25, 50, 0, 30, 25, 15, 30, 15, 55, 5, 30, 5, 45, 0, 50, 50, 15, 5, 55, 15, 20, 50, 0, 50, 15, 5, 15, 30, 5, 25, 20, 15, 30, 15, 25, 50, 30, 20, 15, 25, 30, 20, 30, 0, 45, 50, 30, 5, 15, 50, 40, 10, 35, 0, 20, 25, 45, 20, 0, 15, 5, 30, 20, 35, 25, 40, 0, 25, 35, 20, 15, 30, 0, 45, 55, 10, 30, 20, 55, 0, 55, 45, 10, 55, 25, 5, 10, 40, 55, 40, 25, 5, 15, 25, 10, 10, 0, 50, 20, 0, 55, 10, 45, 0, 50, 40, 15, 45, 50, 0, 15, 25, 35, 50, 35, 25, 55, 50, 10, 20, 25, 50, 20, 15, 35, 35, 50, 45, 10, 50, 45, 15, 20, 30, 25, 30, 40, 10, 45, 35, 5, 30, 30, 10, 35, 5, 50, 0, 0, 25, 30, 30, 0, 20, 30, 45, 10, 35, 45, 55, 35, 20, 5, 40, 15, 10, 25, 50, 25, 15, 50, 15, 50, 20, 55, 35, 35, 30, 20, 55, 15, 5, 45, 55, 30, 40, 45, 55, 0, 45, 15, 25, 15, 55, 50, 25, 50, 30, 30, 40, 35, 15, 30, 45, 35, 30, 55, 55, 15, 40, 30, 0, 15, 15, 50, 10, 25, 20, 30, 10, 30, 20, 35, 15, 20, 45, 0, 0, 30, 50, 55, 45, 15, 35, 55, 5, 5, 15, 0, 55, 0, 15, 40, 20, 25, 20, 30, 45, 15, 55, 20, 55, 5, 40, 0, 0, 35, 30, 55, 35, 55, 15, 20, 40, 0, 10, 35, 45, 35, 30, 40, 35, 55, 40, 25, 15, 10, 45, 30, 50, 0, 30, 50, 15, 30, 20, 30, 25, 35, 55, 35, 30, 45, 20, 30, 35, 45, 55, 40, 5, 0, 45, 40, 55, 55, 10, 20, 50, 30, 0, 45, 20, 25, 20, 35, 0, 10, 20, 0, 45, 55, 40, 10, 10, 50, 20, 0, 0, 35, 5, 40, 50, 5, 50, 35, 25, 25, 40, 55, 10, 50, 50, 50, 30, 30, 50, 15, 10, 5, 35, 5, 0, 30, 30, 20, 45, 30, 35, 45, 35, 30, 15, 5, 0, 50, 25, 20, 45, 45, 50, 0, 25, 55, 50, 40, 45, 50, 15, 30, 0, 5, 20, 35, 50, 50, 10, 5, 30, 5, 20, 55, 30, 50, 15, 0, 35, 45, 55, 20, 40, 0, 25, 55, 45, 15, 0, 10, 25, 40, 50, 20, 20, 0, 45, 55, 20, 15, 45, 55, 55, 20, 25, 50, 5, 15, 0, 25, 15, 10, 45, 0, 55, 45, 30, 45, 40, 30, 30, 40, 5, 25, 30, 5, 40, 50, 45, 20, 0, 15, 0, 0, 40, 0, 20, 20, 20, 25, 20, 5, 55, 45, 45, 55, 15, 15, 30, 0, 0, 10, 55, 30, 20, 15, 30, 20, 55, 25, 30, 55, 25, 25, 15, 20, 10, 15, 15, 30, 5, 50, 25, 15, 50, 15, 15, 5, 35, 0, 50, 50, 20, 20, 10, 35, 35, 10, 0, 35, 55, 35, 40, 30, 15, 55, 50, 25, 40, 35, 55, 25, 35, 30, 15, 15, 5, 50, 10, 50, 30, 35, 35, 35, 30, 15, 35, 30, 20, 0, 35, 30, 10, 55, 45, 40, 5, 45, 50, 20, 0, 0, 55, 5, 35, 0, 25, 35, 40, 55, 20, 0, 40, 0, 0, 45, 10, 20, 55, 35, 55, 45, 35, 30, 45, 40, 50, 50, 50, 30, 55, 10, 55, 15, 10, 55, 30, 10, 35, 40, 50, 30, 0, 10, 55, 0, 0, 45, 30, 20, 10, 30, 15, 35, 0, 0, 50, 25, 5, 50, 5, 15, 45, 50, 30, 55, 45, 50, 45, 35, 30, 15, 55, 45, 30, 20, 30, 30, 30, 0, 15, 50, 5, 35, 30, 15, 45, 45, 50, 35, 55, 30, 40, 0, 30, 55, 10, 50, 45, 30, 20, 20, 55, 10, 45, 0, 10, 20, 45, 15, 55, 30, 35, 35, 45, 25, 35, 30, 15, 40, 25, 40, 45, 20, 40, 50, 20, 15, 15, 45, 35, 30, 30, 35, 35, 50, 35, 20, 45, 30, 50, 30, 30, 0, 0, 25, 35, 10, 10, 55, 15, 10, 55, 15, 20, 25, 50, 20, 20, 15, 10, 40, 50, 10, 5, 25, 55, 0, 45, 55, 30, 15, 50, 0, 15, 30, 35, 25, 0, 30, 50, 45, 30, 40, 30, 50, 35, 5, 50, 5, 15, 25, 50, 35, 50, 40, 25, 10, 55, 40, 50, 35, 40, 40, 20, 0, 35, 10, 35, 20, 10, 0, 0, 10, 40, 35, 55, 0, 30, 35, 20, 15, 50, 45, 20, 40, 15, 0, 50, 0, 20, 50, 10, 10, 40, 45, 50, 0, 0, 35, 50, 55, 5, 20, 55, 5, 0, 25, 45, 45, 20, 15, 30, 35, 0, 50, 45, 25, 25, 10, 55, 50, 0, 0, 50, 15, 15, 50, 50, 0, 30, 45, 55, 45, 15, 15, 50, 25, 55, 25, 5, 45, 15, 20, 30, 20, 20, 5, 30, 5, 10, 0, 5, 55, 35, 10, 40, 55, 30, 40, 30, 10, 20, 25, 10, 30, 50, 45, 25, 55, 25, 30, 5, 5, 20, 40, 30, 15, 20, 50, 20, 5, 25, 5, 20, 25, 35, 50, 35, 15, 35, 0, 25, 35, 15, 35, 5, 35, 30, 45, 15, 15, 30, 20, 30, 35, 35, 30, 30, 40, 0, 30, 55, 15, 55, 20, 35, 20, 25, 50, 0, 25, 0, 50, 20, 45, 55, 25, 55, 45, 25, 40, 20, 25, 50, 35, 10, 25, 30, 35, 5, 30, 5, 20, 55, 30, 35, 20, 50, 50, 10, 15, 25, 5, 15, 10, 55, 40, 30, 45, 20, 15, 40, 55, 30, 30, 50, 15, 35, 30, 40, 25, 5, 15, 0, 50, 30, 40, 0, 30, 30, 0, 15, 5, 0, 25, 35, 35, 0, 5, 35, 30, 30, 40, 40, 25, 25, 50, 5, 30, 0, 45, 45, 20, 0, 55, 15, 50, 50, 55, 30, 45, 30, 15, 5, 20, 50, 55, 15, 55, 35, 50, 20, 0, 45, 10, 55, 30, 10, 15, 40, 40, 0, 25, 35, 40, 45, 0, 30, 30, 35, 35, 45, 0, 45, 30, 35, 0, 15, 15, 20, 45, 55, 20, 20, 30, 0, 35, 35, 20, 55, 35, 30, 10, 55, 30, 35, 35, 5, 30, 45, 40, 15, 30, 40, 35, 25, 20, 50, 10, 40, 30, 45, 50, 30, 45, 55, 0, 55, 40, 0, 20, 30, 20, 45, 5, 55, 50, 55, 50, 20, 25, 55, 0, 20, 50, 15, 25, 45, 5, 10, 45, 20, 50, 5, 45, 0, 0, 30, 50, 35, 0, 5, 50, 50, 20, 55, 40, 55, 10, 20, 45, 25, 30, 55, 0, 50, 15, 45, 0, 15, 20, 15, 30, 25, 30, 20, 45, 30, 45, 20, 40, 0, 25, 20, 30, 25, 35, 35, 40, 40, 20, 30, 35, 55, 35, 35, 25, 55, 30, 0, 10, 15, 35, 5, 10, 45, 30, 15, 25, 30, 25, 0, 20, 55, 55, 15, 45, 30, 35, 50, 30, 25, 45, 30, 10, 25, 45, 25, 20, 25, 30, 30, 45, 30, 40, 25, 10, 30, 0, 15, 0, 35, 20, 0, 15, 50, 5, 0, 45, 40, 50, 25, 20, 30, 20, 15, 50, 35, 55, 35, 45, 30, 55, 55, 10, 20, 5, 40, 50, 40, 35, 20, 55, 50, 20, 0, 40, 40, 45, 15, 0, 35, 30, 15, 15, 0, 0, 25, 35, 10, 30, 50, 30, 55, 30, 55, 10, 40, 45, 45, 40, 35, 15, 55, 45, 0, 50, 5, 35, 0, 15, 45, 10, 30, 25, 50, 20, 30, 55, 5, 30, 50, 20, 25, 50, 55, 10, 5, 35, 50, 20, 15, 10, 0, 55, 5, 30, 30, 20, 30, 45, 20, 45, 20, 30, 40, 45, 50, 45, 55, 35, 35, 10, 50, 35, 20, 15, 5, 30, 45, 40, 25, 0, 55, 20, 15, 50, 45, 55, 45, 35, 35, 50, 15, 35, 30, 0, 15, 10, 0, 15, 25, 0, 35, 30, 20, 15, 25, 55, 0, 30, 30, 45, 35, 35, 10, 30, 20, 45, 15, 45, 30, 15, 55, 25, 50, 50, 35, 25, 30, 35, 55, 25, 45, 50, 5, 15, 30, 30, 55, 25, 35, 5, 25, 15, 15, 55, 55, 45, 55, 30, 30, 55, 20, 40, 35, 20, 40, 35, 5, 10, 55, 5, 25, 40, 35, 35, 55, 55, 20, 0, 10, 20, 5, 50, 0, 35, 35, 50, 20, 50, 30, 15, 45, 50, 10, 50, 55, 25, 5, 45, 0, 5, 50, 0, 30, 25, 30, 0, 30, 20, 30, 5, 45, 30, 5, 20, 10, 45, 55, 15, 20, 10, 15, 50, 15, 55, 35, 55, 20, 40, 5, 20, 20, 55, 45, 50, 10, 15, 40, 20, 45, 5, 20, 50, 0, 15, 45, 20, 25, 30, 5, 30, 50, 35, 15, 30, 15, 15, 50, 30, 20, 10, 5, 35, 20, 20, 45, 0, 50, 40, 40, 50, 10, 25, 25, 10, 30, 50, 30, 30, 20, 40, 35, 50, 15, 15, 0, 25, 50, 10, 45, 25, 10, 45, 55, 15, 10, 35, 15, 15, 35, 40, 25, 45, 30, 30, 35, 55, 35, 15, 35, 10, 20, 25, 30, 5, 30, 30, 20, 55, 45, 40, 35, 0, 15, 20, 30, 0, 45, 55, 50, 45, 40, 45, 55, 10, 30, 25, 25, 15, 50, 10, 55, 0, 15, 10, 35, 50, 45, 30, 0, 35, 40, 45, 30, 0, 0, 50, 50, 35, 0, 10, 5, 20, 55, 45, 15, 55, 10, 55, 0, 50, 50, 45, 10, 20, 30, 15, 40, 40, 55, 50, 20, 0, 50, 10, 0, 5, 30, 30, 20, 40, 25, 15, 10, 50, 35, 40, 10, 30, 50, 25, 0, 50, 30, 30, 35, 20, 15, 50, 25, 35, 30, 10, 40, 35, 0, 50, 35, 35, 30, 15, 40, 55, 35, 35, 30, 10, 35, 5, 55, 50, 55, 30, 30, 30, 0, 50, 35, 55, 35, 35, 30, 35, 15, 20, 50, 20, 15, 5, 35, 30, 35, 45, 50, 45, 5, 20, 5, 10, 45, 35, 0, 15, 20, 5, 45, 25, 20, 25, 20, 55, 55, 55, 30, 30, 0, 0, 50, 55, 35, 30, 10, 30, 0, 35, 50, 20, 5, 20, 20, 45, 35, 40, 55, 15, 30, 50, 50, 20, 55, 0, 40, 15, 20, 35, 55, 30, 5, 10, 45, 50, 45, 45, 15, 55, 25, 15, 45, 30, 45, 15, 30, 30, 25, 5, 20, 25, 5, 30, 10, 40, 30, 5, 15, 0, 35, 15, 15, 20, 40, 15, 30, 50, 40, 35, 45, 40, 55, 35, 40, 55, 50, 30, 15, 20, 5, 40, 45, 15, 35, 55, 35, 50, 5, 45, 0, 20, 20, 40, 15, 35, 35, 15, 5, 30, 25, 55, 15, 30, 45, 45, 50, 20, 0, 25, 50, 30, 50, 30, 5, 55, 45, 25, 40, 40, 25, 35, 50, 0, 5, 0, 0, 25, 50, 5, 35, 35, 10, 30, 45, 55, 10, 25, 0, 30, 45, 15, 35, 55, 45, 55, 0, 40, 50, 20, 20, 30, 10, 0, 30, 40, 10, 30, 45, 55, 15, 30, 15, 5, 0, 20, 55, 10, 55, 25, 30, 50, 45, 20, 15, 0, 15, 5, 35, 10, 30, 55, 50, 30, 15, 50, 10, 0, 0, 35, 30, 40, 50, 0, 45, 40, 45, 25, 45, 45, 30, 30, 30, 40, 30, 40, 55, 50, 15, 45, 45, 55, 15, 45, 55, 0, 0, 35, 40, 45, 35, 30, 30, 40, 15, 30, 25, 35, 0, 35, 20, 15, 0, 45, 55, 25, 50, 30, 50, 25, 35, 0, 0, 30, 55, 30, 0, 30, 0, 0, 5, 10, 55, 15, 0, 55, 15, 40, 45, 30, 50, 45, 10, 5, 30, 25, 40, 35, 10, 20, 30, 45, 30, 35, 0, 15, 40, 40, 30, 30, 55, 45, 5, 30, 50, 35, 30, 40, 30, 35, 55, 20, 25, 15, 30, 20, 35, 50, 35, 30, 0, 0, 25, 35, 50, 45, 35, 20, 35, 20, 15, 45, 25, 45, 45, 40, 0, 0, 15, 10, 30, 55, 20, 0, 35, 30, 35, 40, 50, 25, 55, 0, 0, 20, 15, 25, 15, 35, 50, 35, 50, 30, 0, 50, 50, 30, 0, 45, 15, 50, 0, 5, 30, 20, 30, 0, 15, 45, 35, 25, 40, 30, 0, 0, 15, 50, 45, 40, 55, 5, 55, 0, 45, 50, 30, 5, 55, 50, 10, 15, 40, 25, 15, 30, 30, 0, 30, 55, 0, 0, 50, 40, 45, 30, 55, 55, 55, 30, 50, 35, 10, 45, 15, 30, 30, 5, 20, 30, 0, 0, 25, 40, 35, 45, 30, 25, 10, 50, 25, 45, 0, 0, 0, 10, 0, 50, 10, 30, 30, 15, 15, 40, 0, 30, 20, 10, 30, 5, 40, 50, 0, 25, 10, 15, 30, 50, 45, 25, 45, 30, 15, 30, 25, 50, 20, 20, 55, 5, 30, 20, 25, 10, 45, 45, 20, 15, 45, 30, 30, 35, 45, 5, 20, 0, 40, 0, 45, 5, 15, 30, 25, 25, 30, 35, 25, 10, 25, 50, 15, 55, 50, 10, 55, 35, 0, 50, 10, 35, 30, 55, 35, 10, 55, 20, 5, 30, 15, 55, 10, 0, 15, 15, 50, 20, 25, 0, 20, 55, 50, 55, 30, 50, 50, 50, 25, 45, 25, 15, 45, 55, 55, 40, 15, 45, 5, 0, 15, 20, 40, 25, 10, 0, 35, 0, 25, 15, 30, 0, 25, 35, 25, 15, 20, 50, 30, 45, 45, 20, 35, 30, 50, 10, 20, 55, 30, 45, 30, 20, 0, 40, 35, 45, 15, 10, 30, 0, 5, 55, 30, 55, 30, 20, 55, 30, 15, 40, 0, 0, 25, 10, 30, 0, 20, 0, 55, 40, 55, 30, 55, 10, 40, 20, 35, 30, 50, 30, 20, 10, 55, 50, 50, 20, 50, 50, 55, 25, 40, 50, 20, 15, 30, 35, 20, 30, 0, 30, 30, 35, 5, 40, 30, 50, 35, 40, 35, 35, 25, 40, 30, 30, 35, 10, 35, 5, 35, 35, 30, 0, 35, 15, 10, 40, 10, 30, 45, 40, 10, 35, 40, 10, 20, 35, 5, 20, 50, 0, 0, 30, 0, 50, 50, 50, 35, 0, 50, 20, 5, 50, 25, 50, 30, 20, 40, 0, 0, 55, 50, 20, 45, 55, 45, 5, 35, 30, 0, 50, 25, 15, 30, 5, 45, 30, 35, 0, 15, 30, 0, 40, 30, 50, 45, 0, 55, 35, 30, 35, 30, 30, 15, 30, 20, 35, 35, 55, 0, 0, 0, 35, 20, 55, 40, 20, 0, 25, 5, 35, 30, 25, 20, 30, 0, 25, 55, 25, 30, 55, 10, 45, 30, 25, 50, 50, 15, 20, 30, 30, 55, 40, 20, 50, 30, 0, 50, 20, 50, 35, 35, 45, 30, 25, 55, 5, 15, 30, 35, 30, 55, 55, 40, 30, 30, 40, 30, 5, 0, 20, 35, 55, 15, 25, 20, 55, 55, 30, 55, 55, 45, 25, 0, 35, 30, 0, 15, 40, 25, 40, 15, 30, 0, 0, 10, 10, 15, 5, 35, 20, 15, 15, 20, 30, 30, 15, 25, 35, 15, 10, 55, 5, 45, 20, 35, 20, 45, 10, 25, 50, 10, 35, 25, 20, 30, 50, 0, 35, 35, 20, 0, 50, 35, 30, 10, 40, 55, 45, 55, 50, 15, 55, 40, 20, 0, 20, 20, 30, 25, 35, 40, 10, 15, 5, 10, 45, 55, 35, 45, 5, 45, 0, 45, 25, 35, 30, 30, 25, 40, 10, 15, 50, 25, 55, 20, 20, 55, 10, 0, 45, 5, 5, 50, 50, 20, 50, 10, 45, 15, 50, 30, 45, 55, 0, 0, 15, 35, 50, 50, 25, 35, 10, 50, 35, 20, 0, 30, 0, 20, 15, 20, 35, 35, 25, 55, 50, 20, 55, 20, 0, 15, 15, 5, 20, 50, 5, 40, 55, 30, 35, 20, 5, 50, 40, 40, 55, 10, 25, 20, 40, 25, 30, 20, 25, 50, 0, 35, 35, 55, 0, 15, 5, 30, 30, 45, 30, 40, 5, 5, 55, 30, 50, 40, 10, 20, 55, 50, 45, 5, 0, 30, 50, 45, 0, 55, 10, 50, 25, 45, 5, 30, 40, 15, 55, 50, 0, 15, 15, 35, 15, 30, 40, 45, 20, 50, 0, 0, 45, 35, 20, 15, 5, 10, 25, 50, 30, 50, 40, 0, 15, 30, 30, 45, 0, 15, 5, 50, 20, 45, 35, 45, 30, 25, 45, 30, 35, 30, 5, 10, 45, 35, 45, 45, 40, 15, 40, 15, 45, 50, 25, 0, 45, 55, 0, 15, 40, 30, 30, 55, 25, 10, 10, 15, 30, 30, 30, 15, 35, 30, 20, 35, 0, 50, 35, 0, 50, 20, 5, 25, 0, 10, 0, 5, 45, 35, 25, 10, 45, 5, 0, 20, 10, 5, 10, 35, 5, 50, 30, 25, 0, 20, 30, 5, 20, 0, 25, 35, 30, 55, 55, 50, 30, 5, 40, 30, 10, 5, 15, 55, 15, 25, 55, 20, 25, 50, 15, 15, 30, 0, 55, 30, 45, 20, 25, 50, 35, 25, 35, 5, 15, 20, 20, 45, 20, 0, 40, 30, 30, 35, 25, 50, 35, 40, 25, 20, 30, 25, 30, 35, 25, 30, 50, 40, 30, 0, 20, 40, 0, 45, 45, 45, 50, 30, 45, 55, 55, 25, 50, 30, 15, 45, 45, 45, 20, 45, 15, 30, 45, 20, 35, 55, 20, 0, 45, 5, 40, 45, 35, 40, 30, 15, 5, 25, 35, 10, 5, 55, 30, 5, 30, 10, 30, 10, 55, 40, 10, 35, 25, 55, 55, 0, 15, 30, 55, 25, 50, 40, 5, 25, 25, 45, 40, 0, 45, 20, 25, 0, 5, 55, 40, 35, 45, 0, 20, 55, 40, 30, 20, 0, 35, 35, 10, 10, 40, 30, 55, 35, 45, 5, 5, 40, 30, 25, 25, 50, 55, 25, 20, 30, 35, 0, 45, 50, 20, 20, 30, 0, 5, 40, 45, 5, 40, 20, 20, 0, 20, 45, 40, 30, 35, 0, 15, 50, 55, 15, 30, 5, 25, 35, 30, 25, 35, 30, 25, 25, 30, 25, 50, 50, 45, 45, 5, 20, 45, 20, 25, 15, 0, 5, 5, 0, 30, 10, 25, 0, 0, 25, 30, 30, 30, 35, 25, 25, 25, 55, 30, 45, 45, 55, 30, 5, 45, 5, 20, 35, 25, 40, 0, 50, 40, 50, 30, 30, 30, 20, 50, 20, 10, 20, 5, 35, 55, 10, 20, 35, 20, 0, 50, 10, 25, 25, 50, 50, 20, 55, 15, 25, 55, 50, 30, 40, 45, 30, 30, 35, 0, 0, 25, 25, 35, 25, 35, 50, 50, 25, 30, 5, 30, 30, 5, 30, 15, 15, 30, 55, 50, 35, 0, 10, 5, 15, 25, 25, 30, 50, 0, 25, 5, 30, 30, 30, 25, 35, 20, 15, 5, 35, 0, 45, 0, 25, 45, 30, 5, 45, 40, 30, 35, 30, 10, 25, 20, 35, 25, 0, 30, 0, 30, 5, 10, 10, 15, 20, 30, 15, 35, 50, 50, 25, 35, 0, 45, 25, 30, 55, 0, 45, 40, 5, 55, 5, 50, 30, 40, 15, 5, 25, 50, 10, 40, 50, 15, 30, 40, 15, 55, 45, 0, 25, 30, 30, 50, 20, 55, 30, 40, 25, 5, 5, 15, 40, 35, 35, 0, 40, 30, 5, 25, 5, 30, 10, 30, 45, 45, 0, 45, 5, 5, 20, 40, 35, 45, 20, 25, 45, 45, 15, 35, 50, 50, 15, 45, 20, 20, 5, 55, 10, 35, 5, 45, 40, 10, 0, 55, 25, 55, 55, 30, 25, 0, 20, 0, 55, 20, 20, 20, 40, 15, 35, 10, 20, 30, 5, 40, 5, 15, 50, 50, 35, 30, 50, 25, 5, 0, 45, 20, 20, 0, 55, 15, 55, 0, 45, 55, 55, 20, 55, 35, 15, 30, 30, 35, 20, 50, 5, 0, 55, 10, 45, 25, 45, 15, 35, 30, 25, 20, 50, 50, 55, 25, 25, 15, 0, 5, 30, 55, 30, 40, 20, 40, 10, 45, 15, 0, 55, 30, 25, 15, 35, 45, 30, 55, 10, 20, 5, 45, 50, 30, 30, 50, 30, 55, 40, 25, 50, 25, 20, 40, 25, 10, 35, 20, 40, 20, 30, 15, 15, 50, 45, 0, 20, 25, 45, 50, 15, 55, 45, 45, 25, 35, 35, 50, 40, 25, 45, 55, 50, 15, 35, 30, 20, 45, 40, 35, 5, 0, 0, 50, 5, 15, 55, 0, 0, 30, 15, 50, 15, 55, 40, 15, 0, 15, 40, 10, 55, 50, 25, 30, 30, 40, 55, 40, 0, 5, 55, 55, 25, 35, 5, 35, 25, 50, 0, 30, 20, 40, 50, 35, 55, 25, 50, 30, 35, 30, 30, 55, 30, 30, 15, 30, 25, 20, 55, 30, 5, 30, 55, 40, 0, 5, 55, 15, 15, 55, 55, 50, 25, 0, 0, 40, 20, 10, 30, 5, 20, 0, 10, 30, 55, 30, 0, 55, 0, 20, 20, 30, 30, 30, 30, 45, 25, 35, 50, 55, 25, 15, 55, 10, 20, 10, 35, 15, 20, 30, 15, 55, 25, 35, 35, 15, 15, 30, 35, 40, 40, 30, 35, 30, 10, 30, 30, 10, 55, 50, 35, 55, 25, 30, 0, 35, 15, 0, 35, 40, 40, 15, 5, 55, 45, 55, 45, 35, 45, 10, 30, 40, 35, 45, 5, 0, 30, 50, 0, 10, 30, 10, 45, 40, 45, 20, 30, 35, 35, 45, 30, 0, 40, 30, 30, 5, 10, 15, 15, 25, 25, 50, 40, 30, 50, 45, 15, 50, 30, 25, 35, 25, 25, 20, 30, 40, 30, 10, 25, 50, 50, 0, 55, 5, 15, 30, 35, 30, 35, 5, 15, 20, 30, 15, 50, 50, 5, 40, 30, 15, 30, 30, 15, 30, 0, 5, 45, 25, 25, 30, 15, 30, 0, 30, 5, 55, 20, 30, 10, 15, 5, 40, 0, 50, 30, 20, 30, 45, 15, 15, 35, 30, 10, 30, 55, 45, 20, 5, 55, 55, 0, 55, 25, 5, 30, 15, 20, 55, 45, 45, 45, 45, 40, 35, 45, 0, 35, 35, 35, 40, 20, 35, 0, 15, 20, 20, 40, 30, 30, 50, 30, 0, 30, 35, 45, 15, 50, 25, 0, 30, 30, 20, 30, 50, 45, 0, 50, 30, 35, 35, 40, 55, 50, 50, 50, 45, 55, 45, 10, 10, 45, 50, 25, 20, 5, 50, 20, 10, 50, 20, 5, 55, 55, 45, 15, 35, 55, 15, 0, 30, 0, 35, 15, 45, 55, 10, 55, 45, 35, 50, 15, 0, 30, 50, 0, 20, 45, 35, 40, 50, 15, 45, 30, 35, 30, 20, 0, 45, 10, 5, 40, 40, 45, 45, 30, 10, 10, 30, 50, 15, 30, 10, 0, 15, 55, 35, 50, 50, 45, 15, 25, 15, 20, 45, 5, 55, 30, 50, 30, 15, 30, 0, 30, 35, 35, 30, 15, 30, 50, 5, 10, 15, 15, 0, 0, 45, 35, 35, 25, 10, 45, 20, 15, 50, 10, 45, 25, 0, 30, 15, 50, 20, 35, 35, 35, 20, 45, 50, 20, 30, 20, 30, 5, 15, 15, 10, 45, 30, 55, 30, 10, 25, 10, 0, 30, 30, 30, 45, 10, 20, 20, 0, 15, 0, 0, 35, 15, 5, 15, 30, 15, 30, 5, 55, 55, 35, 55, 5, 10, 30, 15, 40, 35, 50, 35, 20, 10, 50, 50, 15, 55, 30, 10, 45, 35, 20, 30, 50, 40, 40, 30, 45, 30, 15, 30, 5, 10, 10, 55, 40, 45, 45, 20, 50, 35, 15, 20, 20, 25, 30, 30, 20, 15, 10, 30, 50, 0, 15, 15, 45, 30, 30, 15, 0, 30, 35, 55, 25, 55, 45, 30, 45, 30, 0, 0, 5, 55, 25, 45, 0, 20, 25, 0, 55, 30, 55, 30, 45, 45, 5, 30, 30, 5, 20, 30, 40, 5, 25, 45, 30, 30, 55, 45, 40, 50, 15, 15, 50, 45, 40, 5, 15, 15, 35, 25, 20, 20, 50, 45, 50, 50, 30, 25, 35, 55, 40, 15, 35, 20, 50, 55, 25, 55, 20, 55, 30, 40, 15, 55, 10, 45, 15, 20, 35, 15, 25, 40, 35, 40, 45, 35, 0, 45, 55, 30, 45, 20, 30, 5, 40, 25, 30, 30, 45, 0, 0, 50, 30, 50, 45, 30, 50, 0, 25, 20, 5, 35, 20, 10, 35, 0, 5, 0, 15, 40, 50, 10, 20, 30, 30, 25, 45, 5, 15, 0, 45, 40, 50, 55, 50, 15, 20, 15, 25, 0, 15, 50, 0, 50, 35, 15, 50, 40, 5, 35, 30, 15, 35, 30, 0, 30, 20, 50, 25, 10, 40, 20, 50, 0, 50, 45, 45, 0, 50, 0, 55, 30, 40, 10, 25, 15, 15, 30, 15, 55, 30, 0, 20, 15, 20, 20, 30, 15, 20, 30, 35, 55, 50, 20, 50, 55, 55, 5, 15, 25, 30, 20, 5, 50, 40, 45, 50, 5, 30, 30, 40, 20, 15, 45, 20, 0, 20, 50, 15, 55, 0, 40, 45, 35, 40, 40, 50, 50, 55, 40, 55, 20, 35, 0, 55, 10, 25, 35, 0, 55, 30, 25, 50, 20, 30, 50, 35, 0, 30, 20, 25, 55, 45, 50, 30, 55, 15, 10, 20, 30, 30, 0, 5, 55, 15, 45, 15, 5, 15, 45, 45, 25, 45, 0, 0, 55, 35, 40, 35, 45, 45, 25, 15, 30, 30, 20, 35, 45, 50, 10, 30, 50, 25, 30, 25, 55, 35, 55, 35, 0, 55, 30, 30, 5, 25, 40, 30, 25, 55, 10, 30, 15, 20, 45, 5, 20, 0, 20, 0, 0, 50, 5, 0, 40, 5, 30, 15, 25, 20, 25, 35, 50, 5, 35, 5, 50, 30, 50, 0, 15, 10, 55, 30, 30, 55, 45, 40, 35, 0, 30, 35, 45, 55, 30, 35, 50, 15, 35, 40, 30, 50, 30, 35, 35, 40, 50, 45, 0, 15, 35, 0, 5, 0, 10, 20, 0, 30, 25, 45, 30, 5, 15, 30, 35, 45, 15, 55, 10, 40, 30, 20, 25, 30, 0, 40, 45, 5, 20, 5, 45, 35, 40, 15, 55, 30, 50, 15, 15, 30, 15, 25, 20, 5, 0, 5, 50, 45, 10, 10, 30, 20, 5, 35, 0, 15, 25, 40, 20, 30, 20, 30, 45, 0, 5, 35, 50, 55, 45, 45, 15, 5, 45, 35, 50, 45, 20, 10, 20, 30, 45, 20, 30, 20, 55, 45, 20, 45, 0, 55, 45, 45, 10, 50, 35, 35, 20, 15, 40, 0, 40, 40, 10, 35, 20, 55, 20, 25, 20, 15, 20, 20, 5, 30, 20, 50, 30, 45, 35, 5, 15, 45, 30, 20, 50, 30, 50, 20, 0, 35, 40, 40, 40, 25, 25, 55, 35, 30, 30, 20, 0, 10, 20, 55, 35, 20, 5, 30, 5, 0, 35, 25, 55, 25, 55, 40, 10, 45, 15, 30, 35, 20, 20, 25, 0, 0, 30, 20, 15, 0, 45, 30, 0, 25, 25, 15, 35, 35, 55, 30, 45, 45, 45, 15, 25, 35, 20, 20, 30, 5, 15, 50, 50, 15, 10, 5, 30, 35, 15, 55, 15, 5, 50, 50, 45, 20, 0, 5, 20, 30, 15, 5, 50, 55, 35, 35, 20, 0, 30, 45, 35, 25, 35, 0, 50, 20, 45, 0, 50, 45, 35, 0, 5, 50, 30, 5, 30, 50, 45, 50, 45, 10, 5, 20, 10, 15, 30, 25, 45, 15, 20, 20, 35, 55, 35, 15, 55, 55, 5, 35, 45, 10, 30, 35, 55, 20, 50, 20, 30, 20, 50, 50, 20, 20, 25, 50, 0, 25, 40, 5, 55, 30, 0, 35, 15, 30, 45, 55, 55, 55, 25, 0, 50, 45, 5, 5, 55, 35, 15, 55, 15, 20, 30, 25, 50, 20, 40, 5, 20, 55, 35, 50, 35, 0, 15, 50, 50, 20, 25, 35, 30, 50, 15, 55, 35, 15, 40, 25, 50, 25, 50, 25, 55, 30, 0, 45, 45, 15, 0, 25, 35, 20, 0, 35, 30, 50, 45, 25, 30, 35, 40, 25, 10, 35, 25, 30, 15, 0, 25, 25, 25, 0, 35, 0, 20, 35, 10, 50, 15, 20, 25, 30, 10, 50, 35, 15, 30, 55, 10, 45, 25, 15, 25, 30, 20, 10, 45, 30, 30, 10, 55, 40, 40, 40, 55, 50, 35, 45, 25, 45, 30, 5, 15, 10, 30, 5, 50, 40, 15, 45, 45, 55, 25, 30, 50, 0, 30, 45, 30, 50, 55, 5, 50, 30, 55, 50, 15, 45, 0, 45, 25, 10, 55, 0, 15, 10, 0, 50, 45, 30, 15, 40, 20, 15, 5, 30, 0, 15, 35, 35, 40, 25, 35, 0, 45, 25, 25, 35, 0, 30, 20, 0, 5, 40, 15, 15, 15, 20, 40, 0, 0, 45, 45, 0, 50, 50, 5, 5, 15, 15, 5, 0, 45, 30, 25, 5, 15, 55, 55, 35, 10, 30, 5, 35, 40, 45, 5, 5, 0, 50, 25, 20, 30, 10, 40, 10, 10, 50, 0, 15, 30, 50, 5, 55, 35, 20, 20, 35, 15, 35, 30, 45, 30, 15, 55, 10, 40, 30, 25, 35, 55, 45, 5, 35, 35, 55, 20, 30, 45, 50, 55, 45, 0, 40, 15, 0, 5, 45, 25, 25, 25, 20, 30, 35, 15, 30, 55, 50, 45, 35, 5, 20, 55, 45, 50, 25, 55, 55, 45, 45, 45, 20, 20, 0, 45, 0, 5, 10, 35, 40, 20, 50, 45, 20, 0, 25, 50, 10, 30, 20, 20, 15, 35, 35, 50, 0, 50, 45, 35, 40, 10, 15, 55, 25, 0, 25, 5, 50, 50, 5, 35, 35, 0, 15, 55, 35, 20, 50, 0, 30, 50, 30, 35, 45, 40, 55, 25, 20, 20, 15, 35, 10, 5, 55, 35, 10, 0, 0, 35, 25, 55, 20, 50, 20, 25, 35, 5, 30, 20, 40, 0, 0, 40, 55, 55, 10, 25, 50, 45, 25, 40, 20, 25, 25, 40, 30, 0, 30, 40, 30, 45, 15, 55, 30, 20, 15, 30, 5, 45, 0, 25, 55, 45, 50, 20, 0, 0, 20, 20, 40, 35, 10, 50, 25, 50, 35, 20, 15, 20, 35, 0, 20, 0, 55, 5, 20, 30, 20, 25, 0, 30, 25, 20, 30, 30, 25, 55, 35, 55, 35, 50, 40, 30, 50, 35, 35, 55, 35, 0, 55, 35, 15, 30, 25, 0, 50, 50, 30, 0, 30, 20, 30, 35, 45, 0, 0, 50, 10, 30, 20, 55, 0, 20, 25, 35, 30, 40, 45, 50, 35, 15, 20, 25, 0, 50, 20, 55, 40, 0, 35, 50, 10, 35, 15, 15, 5, 55, 20, 55, 25, 55, 0, 0, 55, 15, 0, 20, 50, 55, 30, 25, 45, 55, 40, 35, 50, 20, 55, 0, 25, 0, 50, 55, 45, 25, 40, 10, 20, 55, 5, 30, 20, 5, 40, 40, 0, 5, 20, 25, 30, 20, 0, 35, 10, 30, 5, 5, 55, 20, 45, 30, 0, 40, 20, 40, 35, 25, 30, 25, 40, 55, 5, 30, 25, 10, 30, 15, 25, 15, 35, 45, 35, 40, 25, 55, 20, 50, 45, 15, 45, 45, 20, 30, 30, 35, 30, 30, 10, 30, 45, 20, 40, 5, 50, 40, 30, 55, 5, 20, 35, 25, 0, 5, 0, 20, 20, 30, 50, 5, 25, 40, 45, 20, 0, 30, 35, 45, 20, 20, 15, 35, 5, 15, 20, 35, 30, 10, 15, 50, 25, 25, 20, 25, 15, 50, 55, 25, 55, 0, 20, 0, 20, 40, 15, 35, 40, 55, 45, 45, 20, 30, 35, 0, 30, 15, 5, 50, 0, 5, 45, 10, 30, 50, 25, 30, 25, 30, 15, 45, 20, 15, 0, 40, 35, 40, 50, 5, 55, 0, 15, 45, 45, 20, 45, 30, 40, 20, 25, 20, 10, 30, 30, 0, 15, 30, 50, 35, 30, 0, 55, 45, 45, 40, 55, 15, 10, 15, 20, 40, 45, 25, 30, 0, 10, 55, 30, 30, 55, 30, 55, 40, 35, 35, 30, 30, 20, 10, 10, 25, 10, 30, 30, 40, 55, 50, 15, 5, 50, 30, 45, 45, 50, 45, 30, 45, 5, 30, 15, 25, 30, 30, 50, 55, 50, 20, 30, 10, 30, 50, 45, 0, 0, 35, 25, 35, 55, 15, 15, 5, 5, 20, 30, 45, 50, 25, 50, 35, 20, 45, 10, 0, 0, 20, 0, 40, 30, 30, 50, 20, 45, 55, 30, 20, 0, 45, 20, 55, 45, 35, 10, 20, 30, 55, 30, 25, 55, 55, 5, 45, 50, 20, 45, 15, 55, 15, 30, 30, 35, 0, 10, 35, 35, 40, 45, 50, 30, 25, 45, 35, 0, 30, 15, 35, 50, 20, 40, 35, 25, 0, 0, 35, 10, 25, 35, 30, 55, 50, 55, 15, 15, 40, 55, 20, 5, 15, 40, 30, 5, 55, 15, 45, 55, 0, 15, 40, 20, 30, 55, 40, 35, 45, 55, 45, 15, 40, 5, 15, 30, 30, 10, 30, 45, 35, 55, 20, 45, 50, 20, 55, 30, 55, 50, 30, 0, 50, 30, 0, 45, 15, 5, 40, 10, 55, 0, 50, 30, 50, 35, 0, 15, 50, 25, 35, 50, 45, 10, 45, 35, 55, 40, 25, 50, 30, 10, 5, 5, 45, 25, 40, 30, 40, 10, 20, 15, 50, 20, 5, 30, 35, 30, 15, 25, 5, 0, 55, 15, 30, 0, 30, 0, 0, 35, 25, 0, 35, 20, 45, 0, 30, 30, 45, 30, 50, 20, 5, 5, 30, 30, 50, 5, 15, 45, 35, 20, 30, 30, 15, 5, 30, 0, 10, 45, 15, 20, 55, 50, 5, 50, 15, 55, 35, 15, 30, 35, 45, 20, 45, 0, 50, 55, 15, 10, 20, 15, 50, 5, 30, 35, 50, 20, 25, 50, 15, 55, 0, 50, 50, 5, 20, 20, 30, 20, 50, 35, 35, 25, 35, 55, 40, 35, 15, 25, 0, 30, 30, 50, 25, 25, 20, 25, 25, 15, 55, 45, 15, 35, 0, 35, 55, 30, 35, 25, 20, 25, 10, 15, 25, 0, 0, 25, 25, 50, 45, 20, 15, 0, 40, 30, 35, 15, 25, 0, 55, 5, 20, 35, 55, 10, 30, 20, 15, 5, 30, 45, 15, 0, 15, 0, 40, 30, 45, 35, 45, 15, 30, 30, 15, 35, 5, 0, 50, 0, 50, 20, 0, 50, 30, 10, 55, 15, 15, 20, 15, 30, 30, 35, 20, 20, 30, 45, 15, 15, 20, 0, 50, 50, 0, 15, 50, 40, 55, 40, 30, 30, 40, 20, 35, 30, 50, 35, 5, 30, 0, 45, 20, 15, 15, 25, 30, 0, 25, 0, 30, 20, 5, 30, 25, 15, 50, 30, 0, 20, 30, 55, 55, 40, 5, 0, 50, 15, 40, 10, 10, 55, 0, 50, 35, 50, 20, 45, 10, 5, 40, 25, 45, 35, 0, 40, 0, 55, 5, 30, 50, 40, 10, 5, 0, 55, 50, 0, 55, 45, 15, 25, 0, 0, 30, 20, 5, 30, 15, 50, 35, 0, 5, 0, 0, 30, 30, 0, 40, 20, 40, 30, 45, 15, 25, 20, 30, 25, 50, 0, 55, 50, 55, 25, 0, 15, 55, 55, 15, 15, 5, 45, 50, 35, 20, 25, 0, 35, 50, 35, 50, 20, 15, 25, 15, 45, 5, 30, 35, 30, 20, 50, 25, 15, 30, 30, 55, 20, 45, 45, 30, 20, 5, 20, 25, 30, 50, 50, 0, 15, 20, 45, 20, 50, 30, 5, 40, 20, 35, 35, 50, 35, 35, 30, 5, 50, 30, 5, 20, 50, 20, 5, 0, 15, 40, 10, 50, 25, 25, 35, 30, 50, 35, 0, 20, 0, 0, 5, 35, 20, 30, 55, 30, 35, 50, 20, 5, 55, 50, 30, 55, 25, 55, 55, 5, 30, 40, 15, 0, 50, 25, 30, 5, 30, 20, 55, 0, 10, 35, 20, 20, 50, 30, 55, 0, 35, 25, 40, 5, 20, 30, 45, 35, 15, 40, 15, 5, 50, 0, 5, 30, 5, 5, 25, 0, 5, 35, 15, 30, 35, 25, 55, 0, 20, 5, 45, 50, 0, 45, 55, 20, 15, 25, 30, 30, 30, 30, 50, 0, 50, 55, 5, 20, 15, 0, 30, 45, 10, 5, 40, 5, 10, 45, 30, 10, 30, 55, 55, 55, 5, 20, 0, 40, 35, 40, 50, 50, 10, 40, 15, 25, 30, 0, 35, 55, 30, 30, 40, 35, 45, 10, 20, 15, 45, 0, 40, 35, 20, 5, 0, 35, 55, 0, 0, 50, 0, 25, 50, 30, 10, 45, 35, 15, 20, 30, 50, 40, 35, 0, 50, 5, 50, 25, 40, 0, 0, 35, 30, 55, 15, 50, 40, 55, 25, 20, 5, 25, 30, 40, 45, 55, 30, 55, 25, 10, 10, 30, 50, 15, 55, 45, 0, 30, 20, 25, 55, 30, 40, 35, 15, 30, 0, 0, 45, 45, 0, 35, 0, 45, 15, 55, 55, 5, 5, 0, 10, 30, 45, 30, 40, 50, 30, 50, 15, 25, 40, 15, 15, 50, 10, 50, 20, 45, 30, 40, 35, 0, 10, 45, 15, 30, 35, 35, 10, 50, 5, 20, 45, 10, 40, 15, 0, 45, 10, 30, 35, 15, 50, 45, 40, 50, 30, 20, 45, 30, 0, 50, 0, 40, 25, 45, 45, 55, 10, 50, 30, 30, 25, 55, 15, 30, 25, 30, 45, 30, 55, 5, 55, 35, 20, 55, 50, 45, 50, 35, 20, 55, 20, 0, 25, 15, 30, 45, 50, 50, 35, 50, 55, 50, 25, 15, 35, 30, 20, 20, 45, 50, 20, 45, 0, 30, 35, 15, 30, 35, 5, 0, 30, 25, 55, 0, 15, 35, 0, 40, 30, 10, 15, 50, 45, 5, 55, 25, 30, 25, 45, 40, 25, 50, 30, 40, 50, 30, 30, 45, 35, 30, 35, 45, 5, 55, 50, 45, 55, 15, 25, 35, 30, 40, 55, 0, 20, 35, 55, 50, 15, 45, 50, 50, 35, 25, 25, 10, 35, 15, 5, 55, 5, 40, 15, 30, 35, 55, 35, 50, 45, 5, 25, 45, 5, 35, 0, 35, 35, 50, 45, 45, 30, 45, 20, 30, 55, 20, 25, 15, 0, 10, 5, 25, 45, 10, 30, 55, 55, 25, 30, 0, 5, 45, 55, 55, 20, 25, 40, 55, 30, 15, 5, 30, 35, 50, 20, 30, 45, 30, 30, 45, 25, 5, 30, 0, 20, 10, 20, 50, 30, 50, 50, 55, 15, 55, 30, 30, 15, 30, 20, 0, 20, 25, 30, 45, 5, 45, 30, 30, 5, 50, 35, 30, 30, 55, 30, 25, 25, 25, 0, 55, 5, 40, 25, 50, 0, 30, 25, 40, 0, 50, 40, 50, 35, 0, 20, 35, 25, 45, 45, 45, 0, 15, 20, 25, 0, 35, 40, 15, 55, 40, 45, 20, 45, 50, 15, 15, 45, 5, 40, 15, 50, 55, 10, 35, 35, 45, 55, 30, 5, 20, 0, 25, 40, 30, 45, 0, 50, 50, 20, 20, 35, 15, 30, 35, 0, 45, 55, 50, 45, 45, 50, 25, 55, 30, 5, 35, 30, 30, 5, 45, 15, 15, 30, 55, 30, 15, 5, 25, 50, 35, 0, 50, 45, 35, 25, 10, 35, 45, 25, 30, 50, 55, 5, 35, 35, 55, 50, 15, 55, 0, 20, 55, 25, 35, 20, 25, 25, 20, 5, 0, 0, 25, 10, 55, 0, 45, 50, 0, 40, 0, 45, 5, 25, 55, 35, 45, 30, 30, 30, 55, 55, 50, 35, 0, 40, 0, 40, 20, 50, 45, 25, 25, 40, 35, 0, 30, 40, 45, 0, 0, 10, 30, 15, 55, 50, 55, 55, 50, 15, 45, 30, 0, 30, 0, 55, 0, 25, 30, 5, 10, 40, 55, 5, 45, 55, 10, 55, 0, 40, 15, 30, 35, 50, 40, 0, 45, 20, 30, 5, 35, 10, 0, 20, 55, 10, 25, 0, 55, 20, 5, 25, 15, 10, 55, 35, 0, 45, 0, 0, 30, 5, 30, 20, 30, 30, 35, 15, 30, 35, 0, 20, 55, 55, 35, 30, 40, 50, 30, 15, 35, 55, 50, 45, 30, 20, 55, 50, 20, 0, 35, 0, 50, 5, 50, 45, 55, 30, 30, 25, 35, 20, 50, 30, 30, 10, 20, 5, 0, 20, 25, 10, 15, 15, 50, 35, 15, 50, 45, 30, 20, 50, 50, 0, 10, 20, 35, 15, 0, 50, 55, 30, 0, 15, 35, 40, 50, 20, 30, 55, 30, 20, 40, 0, 35, 55, 30, 25, 15, 10, 45, 0, 5, 55, 30, 5, 45, 15, 40, 50, 40, 40, 15, 25, 15, 0, 10, 40, 20, 45, 50, 25, 5, 0, 35, 15, 30, 5, 30, 30, 0, 30, 35, 0, 35, 30, 35, 55, 45, 15, 50, 0, 20, 40, 50, 30, 15, 30, 10, 35, 10, 30, 5, 15, 45, 35, 20, 35, 10, 55, 20, 35, 0, 55, 0, 55, 25, 0, 5, 0, 30, 10, 30, 30, 20, 20, 35, 30, 5, 25, 50, 55, 20, 25, 55, 5, 35, 50, 45, 5, 0, 5, 15, 50, 0, 45, 10, 15, 20, 20, 45, 5, 35, 30, 40, 15, 40, 45, 45, 55, 15, 20, 50, 55, 20, 10, 20, 5, 50, 25, 25, 5, 30, 35, 25, 30, 40, 0, 20, 45, 30, 50, 30, 50, 0, 15, 0, 20, 50, 45, 25, 35, 20, 25, 10, 30, 30, 20, 40, 5, 15, 25, 30, 30, 50, 55, 15, 55, 40, 30, 0, 45, 5, 35, 30, 5, 15, 45, 20, 35, 20, 30, 35, 50, 0, 50, 40, 50, 0, 50, 5, 55, 50, 50, 40, 50, 55, 20, 5, 25, 50, 35, 0, 15, 15, 30, 55, 50, 5, 15, 50, 20, 30, 30, 20, 20, 25, 25, 25, 20, 15, 20, 15, 35, 40, 55, 25, 45, 25, 45, 0, 30, 30, 20, 25, 45, 20, 5, 45, 15, 50, 45, 30, 35, 55, 30, 20, 10, 20, 15, 35, 10, 15, 5, 20, 30, 45, 50, 45, 10, 40, 50, 10, 15, 40, 45, 5, 5, 15, 50, 10, 0, 30, 35, 15, 20, 50, 55, 30, 55, 10, 45, 25, 50, 45, 15, 30, 50, 40, 10, 50, 20, 45, 35, 35, 35, 20, 30, 25, 45, 25, 20, 55, 40, 20, 25, 5, 40, 50, 45, 40, 55, 0, 25, 50, 40, 20, 15, 10, 25, 30, 10, 0, 55, 0, 20, 50, 40, 35, 10, 50, 20, 50, 45, 20, 55, 55, 55, 45, 5, 50, 0, 50, 40, 20, 30, 30, 30, 40, 20, 20, 25, 25, 50, 0, 45, 10, 15, 0, 30, 0, 40, 35, 15, 50, 0, 15, 35, 35, 0, 20, 35, 15, 55, 15, 25, 15, 5, 35, 55, 40, 35, 55, 30, 30, 45, 50, 35, 25, 30, 50, 45, 5, 30, 25, 5, 30, 15, 45, 30, 30, 35, 55, 5, 40, 15, 5, 0, 35, 55, 40, 0, 20, 40, 55, 5, 30, 20, 40, 55, 55, 30, 30, 35, 55, 35, 30, 55, 30, 0, 20, 30, 15, 55, 50, 50, 30, 15, 35, 50, 40, 25, 15, 10, 20, 15, 35, 25, 15, 55, 20, 50, 30, 30, 25, 25, 30, 10, 15, 45, 30, 10, 45, 45, 25, 25, 45, 25, 30, 15, 15, 15, 5, 40, 30, 50, 0, 0, 15, 50, 25, 30, 5, 10, 45, 20, 30, 10, 30, 25, 40, 35, 20, 40, 25, 30, 50, 50, 0, 20, 55, 50, 15, 45, 50, 35, 45, 45, 20, 45, 55, 20, 30, 0, 10, 5, 50, 20, 25, 35, 0, 55, 50, 50, 35, 20, 0, 10, 15, 15, 30, 50, 30, 25, 0, 15, 25, 0, 30, 55, 30, 15, 30, 25, 25, 50, 20, 0, 40, 25, 50, 0, 20, 40, 40, 35, 30, 30, 50, 35, 40, 30, 15, 45, 15, 40, 45, 25, 0, 0, 15, 55, 30, 30, 15, 55, 50, 15, 0, 55, 25, 55, 5, 25, 50, 55, 10, 15, 25, 5, 50, 40, 30, 50, 55, 5, 45, 20, 10, 35, 30, 10, 0, 15, 10, 40, 50, 20, 50, 30, 15, 35, 35, 0, 45, 30, 30, 55, 25, 25, 50, 45, 35, 0, 55, 35, 15, 50, 20, 0, 15, 40, 35, 20, 20, 0, 50, 0, 45, 50, 20, 30, 35, 50, 10, 40, 10, 25, 30, 30, 50, 30, 35, 30, 50, 45, 30, 20, 35, 0, 30, 35, 0, 0, 0, 35, 15, 30, 50, 10, 55, 50, 30, 10, 30, 35, 50, 50, 30, 0, 20, 30, 50, 50, 55, 0, 5, 0, 30, 35, 45, 5, 10, 30, 45, 45, 30, 55, 10, 45, 35, 25, 55, 55, 0, 55, 45, 35, 10, 20, 55, 15, 30, 50, 0, 40, 45, 45, 20, 55, 10, 0, 55, 20, 20, 40, 0, 30, 0, 25, 40, 45, 15, 25, 55, 0, 55, 45, 55, 50, 30, 0, 50, 15, 20, 0, 25, 40, 35, 30, 30, 30, 20, 35, 5, 15, 30, 30, 20, 45, 25, 0, 0, 20, 55, 25, 35, 5, 5, 20, 55, 10, 25, 15, 50, 20, 20, 0, 0, 30, 55, 0, 5, 55, 15, 50, 10, 20, 55, 25, 30, 55, 5, 15, 5, 25, 25, 35, 10, 10, 30, 45, 40, 35, 25, 15, 40, 0, 30, 20, 25, 0, 5, 55, 50, 20, 0, 5, 25, 15, 45, 25, 0, 35, 55, 35, 50, 30, 15, 55, 55, 10, 5, 25, 15, 30, 20, 55, 0, 55, 0, 15, 20, 55, 10, 45, 0, 15, 15, 45, 15, 55, 30, 20, 20, 15, 0, 50, 20, 50, 50, 20, 5, 0, 20, 35, 35, 25, 35, 40, 5, 50, 5, 15, 10, 35, 0, 5, 5, 30, 30, 30, 15, 20, 0, 40, 10, 45, 20, 0, 35, 50, 50, 15, 50, 30, 0, 30, 15, 25, 15, 25, 0, 45, 15, 40, 50, 0, 30, 35, 35, 15, 25, 30, 40, 20, 0, 40, 25, 0, 0, 35, 15, 55, 0, 30, 35, 15, 55, 15, 30, 50, 30, 55, 25, 20, 0, 30, 20, 25, 30, 15, 15, 55, 25, 15, 15, 20, 55, 15, 30, 50, 0, 30, 45, 25, 50, 5, 45, 50, 55, 35, 50, 30, 20, 0, 15, 20, 45, 45, 45, 20, 20, 40, 55, 50, 15, 55, 30, 10, 20, 10, 5, 0, 15, 35, 25, 15, 45, 55, 35, 55, 40, 30, 30, 25, 20, 5, 30, 0, 30, 35, 25, 15, 15, 55, 50, 0, 30, 45, 45, 0, 5, 0, 30, 50, 50, 20, 40, 25, 55, 30, 10, 20, 40, 45, 30, 55, 45, 5, 20, 0, 5, 55, 25, 35, 20, 25, 30, 35, 40, 25, 0, 20, 45, 30, 20, 0, 10, 55, 30, 15, 30, 20, 15, 0, 30, 55, 45, 55, 25, 0, 55, 15, 25, 20, 30, 20, 25, 10, 55, 10, 45, 50, 30, 20, 45, 0, 25, 15, 5, 40, 40, 40, 30, 45, 30, 50, 30, 35, 5, 20, 0, 10, 50, 45, 5, 40, 20, 45, 25, 30, 30, 40, 30, 15, 30, 55, 30, 35, 50, 45, 50, 25, 20, 50, 50, 0, 40, 45, 50, 55, 25, 50, 0, 0, 30, 25, 50, 45, 5, 30, 55, 20, 30, 20, 20, 45, 15, 30, 20, 35, 0, 20, 30, 50, 0, 50, 15, 0, 30, 50, 50, 40, 45, 40, 25, 20, 30, 0, 5, 55, 45, 0, 35, 55, 20, 30, 15, 35, 30, 30, 20, 20, 30, 25, 25, 20, 55, 5, 30, 30, 45, 5, 30, 5, 45, 35, 0, 15, 0, 5, 5, 15, 0, 50, 10, 40, 25, 15, 45, 20, 10, 35, 40, 15, 20, 5, 40, 45, 20, 25, 45, 0, 50, 10, 20, 40, 30, 55, 45, 55, 30, 25, 10, 35, 35, 25, 30, 50, 45, 40, 0, 30, 5, 0, 50, 0, 15, 50, 50, 0, 0, 30, 45, 30, 10, 35, 30, 50, 45, 45, 50, 35, 5, 45, 5, 25, 15, 55, 45, 5, 55, 30, 55, 30, 35, 40, 30, 20, 20, 25, 50, 40, 20, 55, 40, 20, 30, 0, 45, 30, 15, 0, 45, 50, 5, 45, 20, 30, 20, 20, 0, 30, 25, 20, 50, 30, 15, 45, 45, 20, 50, 25, 35, 15, 25, 35, 15, 25, 50, 20, 5, 40, 20, 55, 40, 40, 30, 55, 5, 20, 20, 25, 35, 40, 55, 30, 0, 20, 50, 0, 25, 30, 0, 0, 55, 0, 25, 30, 0, 5, 20, 20, 25, 5, 30, 5, 30, 55, 20, 30, 30, 0, 20, 50, 55, 15, 20, 25, 40, 45, 40, 0, 0, 50, 5, 10, 55, 30, 30, 55, 25, 50, 5, 5, 30, 50, 25, 0, 15, 55, 45, 0, 10, 25, 25, 10, 10, 55, 0, 20, 35, 35, 30, 20, 30, 10, 45, 5, 15, 20, 20, 20, 25, 30, 55, 35, 55, 30, 30, 30, 20, 5, 0, 0, 25, 55, 5, 45, 20, 40, 20, 40, 20, 55, 40, 20, 45, 55, 5, 0, 55, 15, 35, 35, 0, 30, 20, 30, 15, 20, 30, 20, 15, 25, 20, 55, 20, 30, 30, 50, 25, 35, 15, 30, 35, 20, 25, 30, 55, 20, 50, 10, 0, 5, 45, 55, 25, 40, 45, 25, 20, 15, 30, 25, 20, 35, 35, 20, 15, 55, 35, 0, 30, 30, 30, 30, 30, 5, 0, 30, 20, 10, 50, 5, 30, 40, 40, 45, 35, 35, 20, 35, 30, 25, 25, 30, 5, 50, 20, 35, 50, 5, 30, 55, 0, 35, 50, 15, 15, 10, 45, 20, 55, 30, 30, 0, 45, 50, 10, 10, 0, 5, 35, 50, 10, 35, 20, 55, 50, 40, 30, 40, 45, 45, 35, 55, 30, 35, 35, 0, 30, 40, 25, 50, 45, 30, 50, 5, 45, 50, 35, 30, 5, 5, 30, 0, 55, 45, 45, 0, 15, 0, 30, 45, 25, 45, 55, 45, 20, 30, 30, 45, 40, 55, 40, 15, 15, 50, 25, 0, 15, 30, 55, 0, 30, 10, 30, 40, 35, 25, 45, 50, 20, 50, 30, 5, 15, 20, 10, 15, 0, 50, 25, 20, 15, 40, 15, 35, 45, 15, 55, 40, 5, 25, 25, 50, 35, 20, 55, 30, 50, 15, 40, 15, 50, 15, 0, 40, 25, 0, 10, 0, 10, 25, 30, 30, 15, 30, 15, 45, 45, 0, 45, 55, 35, 0, 40, 50, 10, 45, 55, 55, 30, 55, 5, 45, 55, 0, 45, 55, 20, 30, 35, 15, 25, 15, 50, 40, 20, 30, 50, 30, 20, 25, 40, 25, 55, 55, 25, 30, 40, 50, 15, 20, 15, 5, 0, 30, 5, 25, 35, 5, 0, 45, 40, 5, 20, 25, 50, 0, 30, 30, 40, 30, 30, 30, 25, 45, 35, 45, 30, 30, 0, 45, 40, 30, 35, 5, 50, 25, 0, 0, 5, 55, 35, 35, 20, 25, 30, 20, 30, 10, 20, 15, 25, 0, 50, 25, 0, 55, 35, 15, 0, 30, 5, 0, 10, 30, 0, 15, 0, 50, 45, 35, 0, 45, 50, 30, 50, 50, 0, 35, 50, 50, 30, 35, 10, 50, 20, 10, 40, 30, 35, 5, 35, 25, 5, 40, 35, 25, 30, 35, 15, 25, 20, 0, 0, 15, 15, 35, 20, 45, 40, 45, 30, 20, 15, 40, 50, 25, 20, 30, 50, 15, 45, 35, 35, 10, 40, 45, 20, 35, 35, 25, 35, 55, 15, 20, 20, 15, 0, 45, 15, 15, 50, 20, 20, 45, 25, 35, 20, 10, 25, 45, 25, 0, 55, 35, 50, 30, 15, 10, 25, 25, 50, 10, 25, 15, 5, 35, 55, 15, 20, 40, 45, 50, 30, 15, 50, 30, 55, 5, 20, 20, 0, 40, 50, 10, 0, 20, 20, 20, 0, 35, 45, 50, 45, 35, 0, 25, 20, 50, 20, 30, 35, 55, 50, 55, 20, 25, 30, 30, 20, 0, 10, 45, 50, 40, 35, 50, 10, 30, 10, 50, 30, 55, 15, 40, 0, 0, 35, 50, 40, 35, 30, 20, 15, 5, 30, 30, 45, 15, 30, 5, 50, 50, 30, 45, 30, 40, 35, 55, 5, 55, 30, 20, 0, 45, 45, 40, 55, 20, 0, 20, 55, 45, 20, 5, 45, 45, 20, 45, 45, 0, 35, 10, 35, 0, 40, 0, 40, 50, 10, 45, 50, 35, 5, 30, 40, 5, 0, 35, 50, 45, 30, 5, 20, 50, 30, 40, 55, 20, 40, 15, 30, 15, 35, 15, 25, 5, 50, 40, 40, 0, 15, 30, 20, 0, 50, 55, 10, 40, 45, 40, 30, 20, 0, 5, 15, 30, 0, 10, 0, 55, 25, 0, 5, 50, 5, 45, 20, 35, 50, 35, 5, 40, 20, 35, 35, 25, 10, 55, 30, 10, 25, 45, 5, 45, 25, 0, 20, 45, 30, 45, 0, 20, 15, 15, 30, 30, 50, 30, 10, 0, 35, 25, 10, 30, 40, 40, 40, 15, 15, 30, 40, 20, 55, 0, 15, 30, 0, 35, 10, 25, 55, 50, 15, 10, 45, 25, 20, 30, 30, 45, 25, 30, 15, 30, 15, 5, 55, 20, 30, 55, 0, 10, 0, 30, 5, 0, 20, 50, 45, 35, 0, 40, 30, 30, 55, 30, 0, 50, 15, 20, 40, 55, 40, 50, 45, 15, 0, 40, 0, 25, 0, 0, 5, 0, 10, 0, 35, 0, 20, 30, 40, 45, 45, 50, 40, 0, 5, 20, 25, 45, 0, 30, 50, 35, 55, 5, 30, 35, 35, 45, 0, 35, 20, 50, 20, 25, 50, 50, 0, 35, 20, 20, 20, 40, 25, 50, 45, 35, 15, 55, 30, 20, 40, 45, 20, 25, 20, 55, 0, 20, 25, 5, 25, 30, 50, 10, 20, 45, 0, 25, 10, 40, 20, 0, 50, 25, 40, 10, 30, 5, 5, 30, 10, 40, 55, 0, 30, 25, 35, 50, 30, 40, 50, 35, 30, 15, 35, 30, 30, 30, 35, 15, 15, 15, 50, 0, 55, 35, 35, 15, 10, 0, 45, 0, 20, 30, 10, 20, 30, 30, 0, 0, 30, 45, 20, 30, 55, 5, 30, 30, 30, 5, 35, 55, 0, 40, 25, 50, 40, 45, 50, 35, 25, 0, 40, 30, 30, 30, 35, 50, 20, 45, 25, 40, 40, 20, 0, 35, 30, 15, 45, 10, 30, 25, 0, 15, 10, 0, 15, 15, 30, 35, 0, 0, 50, 40, 0, 30, 50, 50, 40, 45, 30, 30, 0, 30, 30, 10, 50, 5, 10, 30, 40, 30, 55, 15, 35, 45, 40, 35, 5, 35, 0, 15, 30, 5, 0, 5, 35, 10, 55, 30, 30, 35, 30, 10, 20, 45, 30, 20, 45, 0, 20, 0, 20, 10, 45, 25, 20, 45, 20, 30, 0, 35, 30, 0, 45, 30, 10, 55, 40, 25, 20, 50, 0, 35, 25, 35, 35, 30, 15, 5, 0, 30, 25, 15, 25, 45, 10, 40, 10, 15, 55, 0, 40, 40, 35, 35, 5, 15, 15, 35, 15, 35, 40, 5, 30, 5, 20, 25, 15, 55, 5, 30, 10, 45, 35, 0, 25, 45, 0, 55, 50, 0, 35, 35, 30, 30, 0, 0, 20, 40, 45, 25, 50, 40, 25, 25, 5, 40, 0, 50, 25, 0, 30, 10, 55, 50, 25, 0, 35, 10, 10, 30, 25, 35, 0, 45, 15, 15, 0, 40, 35, 45, 10, 45, 40, 30, 25, 30, 15, 30, 15, 45, 30, 40, 0, 30, 25, 15, 55, 20, 20, 40, 45, 55, 35, 5, 5, 5, 25, 50, 20, 25, 20, 45, 5, 50, 25, 15, 55, 20, 15, 0, 15, 0, 15, 0, 30, 0, 30, 0, 55, 40, 35, 0, 45, 0, 0, 25, 20, 50, 45, 20, 50, 50, 45, 50, 30, 50, 50, 25, 40, 55, 10, 25, 35, 55, 55, 30, 40, 10, 40, 15, 25, 0, 55, 5, 0, 10, 50, 35, 55, 40, 45, 10, 25, 20, 0, 10, 40, 35, 45, 45, 25, 50, 35, 20, 45, 35, 15, 0, 25, 35, 30, 25, 30, 30, 30, 50, 20, 15, 30, 5, 15, 15, 50, 25, 30, 55, 50, 40, 25, 30, 20, 5, 25, 30, 10, 50, 25, 0, 30, 35, 10, 30, 55, 40, 35, 5, 15, 15, 45, 0, 55, 25, 25, 45, 20, 55, 50, 20, 5, 30, 25, 50, 0, 50, 25, 50, 20, 30, 35, 20, 5, 55, 10, 15, 10, 35, 10, 30, 35, 5, 50, 5, 55, 20, 0, 25, 45, 30, 50, 25, 10, 40, 10, 35, 10, 25, 10, 50, 35, 25, 40, 5, 15, 50, 50, 0, 30, 50, 0, 35, 0, 15, 0, 0, 15, 0, 35, 30, 40, 20, 0, 10, 30, 0, 10, 5, 0, 55, 15, 55, 40, 30, 0, 10, 30, 0, 0, 50, 50, 5, 25, 55, 15, 35, 20, 30, 0, 50, 45, 40, 0, 30, 15, 55, 25, 0, 5, 55, 20, 0, 0, 15, 45, 25, 15, 50, 20, 0, 45, 25, 0, 30, 15, 30, 55, 45, 30, 5, 35, 0, 50, 20, 50, 20, 30, 20, 30, 20, 15, 40, 30, 25, 20, 55, 40, 15, 30, 30, 40, 55, 50, 55, 50, 35, 30, 40, 45, 30, 45, 55, 50, 15, 50, 20, 25, 25, 20, 40, 15, 15, 40, 55, 25, 0, 40, 0, 5, 20, 50, 0, 0, 35, 0, 35, 5, 35, 30, 5, 15, 40, 45, 45, 50, 35, 15, 30, 30, 20, 20, 25, 45, 55, 30, 0, 40, 15, 35, 45, 45, 20, 30, 40, 35, 20, 10, 40, 0, 5, 55, 20, 35, 20, 0, 35, 10, 35, 45, 10, 45, 5, 20, 30, 0, 25, 55, 30, 45, 25, 35, 15, 55, 0, 10, 55, 30, 45, 50, 20, 35, 20, 50, 30, 50, 35, 20, 35, 10, 0, 30, 5, 15, 10, 25, 50, 0, 25, 5, 0, 20, 20, 10, 45, 0, 0, 30, 35, 45, 15, 10, 10, 35, 50, 30, 35, 0, 55, 0, 45, 5, 0, 5, 20, 30, 10, 5, 15, 50, 5, 30, 25, 30, 20, 35, 35, 40, 5, 5, 30, 30, 5, 55, 20, 15, 35, 20, 0, 45, 20, 55, 30, 20, 55, 35, 0, 50, 0, 25, 0, 20, 25, 25, 5, 30, 10, 55, 45, 55, 5, 15, 20, 0, 50, 50, 10, 50, 0, 45, 0, 35, 50, 55, 15, 15, 30, 15, 35, 5, 50, 55, 15, 30, 30, 0, 45, 45, 40, 25, 15, 50, 25, 0, 30, 40, 45, 25, 35, 10, 15, 10, 35, 25, 35, 20, 30, 30, 15, 0, 30, 5, 25, 15, 50, 0, 35, 35, 55, 50, 45, 20, 30, 15, 0, 30, 25, 20, 35, 20, 20, 55, 50, 5, 30, 30, 10, 25, 35, 30, 50, 30, 10, 15, 30, 20, 25, 45, 20, 0, 55, 20, 5, 35, 50, 30, 10, 45, 45, 50, 25, 30, 45, 45, 30, 0, 50, 15, 55, 0, 10, 45, 35, 20, 20, 35, 0, 30, 25, 45, 55, 40, 20, 5, 35, 25, 0, 30, 50, 25, 20, 45, 50, 55, 30, 20, 25, 15, 15, 15, 45, 30, 25, 45, 50, 50, 30, 55, 20, 15, 55, 45, 35, 0, 35, 50, 30, 20, 20, 40, 40, 20, 15, 5, 15, 30, 15, 30, 45, 25, 20, 40, 45, 30, 5, 55, 30, 35, 50, 5, 0, 50, 45, 10, 0, 15, 10, 35, 25, 15, 35, 55, 50, 20, 30, 55, 55, 15, 35, 5, 5, 35, 35, 30, 25, 5, 40, 20, 30, 50, 50, 0, 50, 35, 20, 15, 40, 50, 35, 50, 20, 30, 55, 15, 35, 20, 25, 30, 50, 5, 45, 40, 20, 35, 55, 5, 55, 50, 35, 40, 20, 5, 30, 25, 0, 30, 45, 55, 50, 40, 5, 55, 50, 15, 20, 40, 15, 15, 40, 0, 35, 45, 0, 40, 20, 45, 45, 55, 15, 25, 5, 0, 5, 45, 45, 30, 30, 30, 15, 20, 35, 25, 45, 35, 15, 50, 50, 0, 55, 45, 15, 15, 20, 35, 55, 5, 55, 50, 35, 50, 30, 35, 0, 50, 45, 15, 25, 30, 25, 45, 20, 0, 10, 10, 40, 50, 10, 20, 45, 0, 5, 30, 30, 30, 25, 5, 0, 25, 30, 20, 0, 25, 10, 30, 40, 0, 30, 50, 45, 40, 5, 5, 55, 50, 50, 35, 55, 20, 20, 15, 20, 25, 45, 55, 10, 35, 50, 10, 55, 20, 0, 30, 5, 15, 25, 40, 30, 40, 50, 20, 35, 15, 45, 0, 45, 55, 35, 25, 25, 45, 55, 50, 55, 30, 15, 20, 40, 25, 10, 15, 30, 0, 45, 35, 30, 50, 10, 10, 5, 30, 20, 0, 35, 45, 55, 15, 5, 0, 10, 35, 15, 30, 20, 30, 25, 10, 25, 5, 35, 25, 55, 0, 20, 30, 35, 0, 30, 25, 15, 30, 10, 35, 30, 45, 15, 15, 30, 25, 0, 20, 15, 5, 50, 30, 15, 30, 55, 30, 0, 50, 30, 15, 25, 50, 0, 55, 20, 35, 45, 40, 20, 40, 0, 55, 35, 0, 45, 55, 25, 20, 25, 30, 20, 0, 15, 50, 35, 45, 40, 30, 20, 35, 50, 0, 35, 20, 30, 0, 20, 25, 0, 55, 5, 10, 40, 50, 30, 30, 50, 35, 25, 20, 35, 25, 45, 0, 50, 30, 45, 0, 55, 25, 5, 5, 15, 35, 35, 5, 30, 25, 35, 55, 20, 45, 55, 50, 20, 15, 25, 55, 0, 45, 15, 55, 15, 55, 45, 45, 0, 35, 50, 0, 45, 5, 35, 55, 20, 25, 5, 5, 50, 20, 30, 0, 30, 10, 35, 0, 30, 55, 30, 55, 5, 50, 15, 15, 20, 55, 35, 0, 20, 55, 20, 25, 55, 5, 40, 25, 40, 35, 5, 15, 40, 45, 45, 20, 30, 45, 25, 25, 45, 50, 25, 50, 55, 15, 30, 20, 55, 10, 45, 25, 50, 40, 10, 45, 10, 15, 45, 25, 20, 15, 25, 50, 25, 10, 0, 40, 25, 15, 20, 0, 5, 50, 45, 10, 35, 30, 45, 30, 0, 30, 30, 30, 15, 55, 40, 0, 20, 20, 45, 45, 50, 55, 35, 5, 35, 20, 35, 20, 0, 20, 15, 0, 0, 25, 35, 25, 15, 30, 15, 10, 45, 30, 25, 40, 45, 35, 45, 45, 35, 30, 30, 50, 35, 25, 40, 50, 55, 30, 15, 15, 55, 55, 5, 50, 15, 20, 45, 20, 20, 55, 0, 40, 25, 20, 30, 55, 15, 15, 25, 15, 40, 15, 45, 15, 55, 20, 35, 45, 0, 5, 30, 30, 35, 55, 45, 40, 10, 40, 40, 25, 50, 55, 25, 25, 10, 30, 20, 25, 20, 5, 15, 55, 30, 35, 45, 35, 35, 10, 55, 20, 20, 55, 15, 30, 5, 45, 45, 55, 15, 45, 30, 5, 0, 0, 35, 20, 50, 30, 25, 25, 30, 15, 20, 40, 25, 40, 35, 55, 40, 25, 40, 20, 55, 50, 55, 15, 10, 5, 55, 30, 45, 25, 20, 15, 25, 20, 45, 20, 40, 40, 30, 35, 0, 40, 20]\n"
     ]
    }
   ],
   "source": [
    "print(duration_mins)"
   ]
  },
  {
   "cell_type": "code",
   "execution_count": 144,
   "id": "783728d5-fcbf-4491-96a6-e1853c05fc3e",
   "metadata": {},
   "outputs": [],
   "source": [
    "train_data['Duration_mins'] = [i+j  for i,j  in zip(duration_hm, duration_mins)]"
   ]
  },
  {
   "cell_type": "code",
   "execution_count": 146,
   "id": "e2a01af0-efca-4793-8650-d2849f55a851",
   "metadata": {},
   "outputs": [
    {
     "data": {
      "text/html": [
       "<div>\n",
       "<style scoped>\n",
       "    .dataframe tbody tr th:only-of-type {\n",
       "        vertical-align: middle;\n",
       "    }\n",
       "\n",
       "    .dataframe tbody tr th {\n",
       "        vertical-align: top;\n",
       "    }\n",
       "\n",
       "    .dataframe thead th {\n",
       "        text-align: right;\n",
       "    }\n",
       "</style>\n",
       "<table border=\"1\" class=\"dataframe\">\n",
       "  <thead>\n",
       "    <tr style=\"text-align: right;\">\n",
       "      <th></th>\n",
       "      <th>Airline</th>\n",
       "      <th>Source</th>\n",
       "      <th>Destination</th>\n",
       "      <th>Route</th>\n",
       "      <th>Duration</th>\n",
       "      <th>Total_Stops</th>\n",
       "      <th>Additional_Info</th>\n",
       "      <th>Price</th>\n",
       "      <th>Year</th>\n",
       "      <th>Month</th>\n",
       "      <th>Date</th>\n",
       "      <th>Dep_hrs</th>\n",
       "      <th>Dep_mins</th>\n",
       "      <th>Arrival_hrs</th>\n",
       "      <th>Arrival_mins</th>\n",
       "      <th>Duration_mins</th>\n",
       "    </tr>\n",
       "  </thead>\n",
       "  <tbody>\n",
       "    <tr>\n",
       "      <th>0</th>\n",
       "      <td>IndiGo</td>\n",
       "      <td>Banglore</td>\n",
       "      <td>New Delhi</td>\n",
       "      <td>BLR → DEL</td>\n",
       "      <td>2h 50m</td>\n",
       "      <td>non-stop</td>\n",
       "      <td>No info</td>\n",
       "      <td>3897</td>\n",
       "      <td>2019</td>\n",
       "      <td>3</td>\n",
       "      <td>24</td>\n",
       "      <td>22</td>\n",
       "      <td>20</td>\n",
       "      <td>1</td>\n",
       "      <td>10</td>\n",
       "      <td>170</td>\n",
       "    </tr>\n",
       "    <tr>\n",
       "      <th>1</th>\n",
       "      <td>Air India</td>\n",
       "      <td>Kolkata</td>\n",
       "      <td>Banglore</td>\n",
       "      <td>CCU → IXR → BBI → BLR</td>\n",
       "      <td>7h 25m</td>\n",
       "      <td>2 stops</td>\n",
       "      <td>No info</td>\n",
       "      <td>7662</td>\n",
       "      <td>2019</td>\n",
       "      <td>5</td>\n",
       "      <td>1</td>\n",
       "      <td>5</td>\n",
       "      <td>50</td>\n",
       "      <td>13</td>\n",
       "      <td>15</td>\n",
       "      <td>445</td>\n",
       "    </tr>\n",
       "    <tr>\n",
       "      <th>2</th>\n",
       "      <td>Jet Airways</td>\n",
       "      <td>Delhi</td>\n",
       "      <td>Cochin</td>\n",
       "      <td>DEL → LKO → BOM → COK</td>\n",
       "      <td>19h</td>\n",
       "      <td>2 stops</td>\n",
       "      <td>No info</td>\n",
       "      <td>13882</td>\n",
       "      <td>2019</td>\n",
       "      <td>6</td>\n",
       "      <td>9</td>\n",
       "      <td>9</td>\n",
       "      <td>25</td>\n",
       "      <td>4</td>\n",
       "      <td>25</td>\n",
       "      <td>1140</td>\n",
       "    </tr>\n",
       "    <tr>\n",
       "      <th>3</th>\n",
       "      <td>IndiGo</td>\n",
       "      <td>Kolkata</td>\n",
       "      <td>Banglore</td>\n",
       "      <td>CCU → NAG → BLR</td>\n",
       "      <td>5h 25m</td>\n",
       "      <td>1 stop</td>\n",
       "      <td>No info</td>\n",
       "      <td>6218</td>\n",
       "      <td>2019</td>\n",
       "      <td>5</td>\n",
       "      <td>12</td>\n",
       "      <td>18</td>\n",
       "      <td>5</td>\n",
       "      <td>23</td>\n",
       "      <td>30</td>\n",
       "      <td>325</td>\n",
       "    </tr>\n",
       "    <tr>\n",
       "      <th>4</th>\n",
       "      <td>IndiGo</td>\n",
       "      <td>Banglore</td>\n",
       "      <td>New Delhi</td>\n",
       "      <td>BLR → NAG → DEL</td>\n",
       "      <td>4h 45m</td>\n",
       "      <td>1 stop</td>\n",
       "      <td>No info</td>\n",
       "      <td>13302</td>\n",
       "      <td>2019</td>\n",
       "      <td>3</td>\n",
       "      <td>1</td>\n",
       "      <td>16</td>\n",
       "      <td>50</td>\n",
       "      <td>21</td>\n",
       "      <td>35</td>\n",
       "      <td>285</td>\n",
       "    </tr>\n",
       "  </tbody>\n",
       "</table>\n",
       "</div>"
      ],
      "text/plain": [
       "       Airline    Source Destination                  Route Duration  \\\n",
       "0       IndiGo  Banglore   New Delhi              BLR → DEL   2h 50m   \n",
       "1    Air India   Kolkata    Banglore  CCU → IXR → BBI → BLR   7h 25m   \n",
       "2  Jet Airways     Delhi      Cochin  DEL → LKO → BOM → COK      19h   \n",
       "3       IndiGo   Kolkata    Banglore        CCU → NAG → BLR   5h 25m   \n",
       "4       IndiGo  Banglore   New Delhi        BLR → NAG → DEL   4h 45m   \n",
       "\n",
       "  Total_Stops Additional_Info  Price  Year  Month  Date  Dep_hrs  Dep_mins  \\\n",
       "0    non-stop         No info   3897  2019      3    24       22        20   \n",
       "1     2 stops         No info   7662  2019      5     1        5        50   \n",
       "2     2 stops         No info  13882  2019      6     9        9        25   \n",
       "3      1 stop         No info   6218  2019      5    12       18         5   \n",
       "4      1 stop         No info  13302  2019      3     1       16        50   \n",
       "\n",
       "   Arrival_hrs  Arrival_mins  Duration_mins  \n",
       "0            1            10            170  \n",
       "1           13            15            445  \n",
       "2            4            25           1140  \n",
       "3           23            30            325  \n",
       "4           21            35            285  "
      ]
     },
     "execution_count": 146,
     "metadata": {},
     "output_type": "execute_result"
    }
   ],
   "source": [
    "train_data.head(5)"
   ]
  },
  {
   "cell_type": "code",
   "execution_count": 147,
   "id": "92e0ed27-c0d2-4d22-955a-b53a9aa12bd6",
   "metadata": {},
   "outputs": [],
   "source": [
    "train_data.drop('Duration',axis = 1,inplace = True)"
   ]
  },
  {
   "cell_type": "code",
   "execution_count": 148,
   "id": "62c7779d-e36e-4f05-8cac-d50686bf2d90",
   "metadata": {},
   "outputs": [
    {
     "data": {
      "text/plain": [
       "(10462, 15)"
      ]
     },
     "execution_count": 148,
     "metadata": {},
     "output_type": "execute_result"
    }
   ],
   "source": [
    "train_data.shape"
   ]
  },
  {
   "cell_type": "code",
   "execution_count": 150,
   "id": "e5e591fc-5bda-42f1-8279-03bbec145904",
   "metadata": {},
   "outputs": [
    {
     "data": {
      "text/html": [
       "<div>\n",
       "<style scoped>\n",
       "    .dataframe tbody tr th:only-of-type {\n",
       "        vertical-align: middle;\n",
       "    }\n",
       "\n",
       "    .dataframe tbody tr th {\n",
       "        vertical-align: top;\n",
       "    }\n",
       "\n",
       "    .dataframe thead th {\n",
       "        text-align: right;\n",
       "    }\n",
       "</style>\n",
       "<table border=\"1\" class=\"dataframe\">\n",
       "  <thead>\n",
       "    <tr style=\"text-align: right;\">\n",
       "      <th></th>\n",
       "      <th>Airline</th>\n",
       "      <th>Source</th>\n",
       "      <th>Destination</th>\n",
       "      <th>Route</th>\n",
       "      <th>Total_Stops</th>\n",
       "      <th>Additional_Info</th>\n",
       "      <th>Price</th>\n",
       "      <th>Year</th>\n",
       "      <th>Month</th>\n",
       "      <th>Date</th>\n",
       "      <th>Dep_hrs</th>\n",
       "      <th>Dep_mins</th>\n",
       "      <th>Arrival_hrs</th>\n",
       "      <th>Arrival_mins</th>\n",
       "      <th>Duration_mins</th>\n",
       "    </tr>\n",
       "  </thead>\n",
       "  <tbody>\n",
       "    <tr>\n",
       "      <th>0</th>\n",
       "      <td>IndiGo</td>\n",
       "      <td>Banglore</td>\n",
       "      <td>New Delhi</td>\n",
       "      <td>BLR → DEL</td>\n",
       "      <td>non-stop</td>\n",
       "      <td>No info</td>\n",
       "      <td>3897</td>\n",
       "      <td>2019</td>\n",
       "      <td>3</td>\n",
       "      <td>24</td>\n",
       "      <td>22</td>\n",
       "      <td>20</td>\n",
       "      <td>1</td>\n",
       "      <td>10</td>\n",
       "      <td>170</td>\n",
       "    </tr>\n",
       "    <tr>\n",
       "      <th>1</th>\n",
       "      <td>Air India</td>\n",
       "      <td>Kolkata</td>\n",
       "      <td>Banglore</td>\n",
       "      <td>CCU → IXR → BBI → BLR</td>\n",
       "      <td>2 stops</td>\n",
       "      <td>No info</td>\n",
       "      <td>7662</td>\n",
       "      <td>2019</td>\n",
       "      <td>5</td>\n",
       "      <td>1</td>\n",
       "      <td>5</td>\n",
       "      <td>50</td>\n",
       "      <td>13</td>\n",
       "      <td>15</td>\n",
       "      <td>445</td>\n",
       "    </tr>\n",
       "  </tbody>\n",
       "</table>\n",
       "</div>"
      ],
      "text/plain": [
       "     Airline    Source Destination                  Route Total_Stops  \\\n",
       "0     IndiGo  Banglore   New Delhi              BLR → DEL    non-stop   \n",
       "1  Air India   Kolkata    Banglore  CCU → IXR → BBI → BLR     2 stops   \n",
       "\n",
       "  Additional_Info  Price  Year  Month  Date  Dep_hrs  Dep_mins  Arrival_hrs  \\\n",
       "0         No info   3897  2019      3    24       22        20            1   \n",
       "1         No info   7662  2019      5     1        5        50           13   \n",
       "\n",
       "   Arrival_mins  Duration_mins  \n",
       "0            10            170  \n",
       "1            15            445  "
      ]
     },
     "execution_count": 150,
     "metadata": {},
     "output_type": "execute_result"
    }
   ],
   "source": [
    "train_data.head(2)"
   ]
  },
  {
   "cell_type": "markdown",
   "id": "35d2ca6d-3b66-427e-aeca-e080ec46b746",
   "metadata": {},
   "source": [
    "### which is the most busiest airline"
   ]
  },
  {
   "cell_type": "code",
   "execution_count": 167,
   "id": "2f24efce-203c-4085-9303-1ddbd9825893",
   "metadata": {},
   "outputs": [
    {
     "data": {
      "text/plain": [
       "<Axes: xlabel='Airline'>"
      ]
     },
     "execution_count": 167,
     "metadata": {},
     "output_type": "execute_result"
    },
    {
     "data": {
      "image/png": "[encoded data removed]",
      "text/plain": [
       "<Figure size 640x480 with 1 Axes>"
      ]
     },
     "metadata": {},
     "output_type": "display_data"
    }
   ],
   "source": [
    "train_data.Airline.value_counts().plot(kind = 'bar')"
   ]
  },
  {
   "cell_type": "code",
   "execution_count": 152,
   "id": "68a3f05e-f8d7-4970-bec4-68e6f3356031",
   "metadata": {},
   "outputs": [
    {
     "data": {
      "text/plain": [
       "Source\n",
       "Delhi       4345\n",
       "Kolkata     2860\n",
       "Banglore    2179\n",
       "Mumbai       697\n",
       "Chennai      381\n",
       "Name: count, dtype: int64"
      ]
     },
     "execution_count": 152,
     "metadata": {},
     "output_type": "execute_result"
    }
   ],
   "source": [
    "train_data.Source.value_counts()"
   ]
  },
  {
   "cell_type": "code",
   "execution_count": 153,
   "id": "ddf547a4-3591-489a-9147-b85b5ac9be01",
   "metadata": {},
   "outputs": [
    {
     "data": {
      "text/plain": [
       "Destination\n",
       "Cochin       4345\n",
       "Banglore     2860\n",
       "Delhi        1265\n",
       "New Delhi     914\n",
       "Hyderabad     697\n",
       "Kolkata       381\n",
       "Name: count, dtype: int64"
      ]
     },
     "execution_count": 153,
     "metadata": {},
     "output_type": "execute_result"
    }
   ],
   "source": [
    "train_data.Destination.value_counts()"
   ]
  },
  {
   "cell_type": "code",
   "execution_count": 168,
   "id": "f9bd143b-eea0-48c3-a3db-045e19e66bde",
   "metadata": {},
   "outputs": [
    {
     "data": {
      "text/plain": [
       "<Axes: xlabel='Route'>"
      ]
     },
     "execution_count": 168,
     "metadata": {},
     "output_type": "execute_result"
    },
    {
     "data": {
      "image/png": "[encoded data removed]",
      "text/plain": [
       "<Figure size 640x480 with 1 Axes>"
      ]
     },
     "metadata": {},
     "output_type": "display_data"
    }
   ],
   "source": [
    "train_data.Route.value_counts().head(5).plot(kind = 'bar')"
   ]
  },
  {
   "cell_type": "code",
   "execution_count": 157,
   "id": "12929e66-8ce3-4d1d-9945-4ccabc525b58",
   "metadata": {},
   "outputs": [
    {
     "data": {
      "text/plain": [
       "array(['non-stop', '2 stops', '1 stop', '3 stops', '4 stops'],\n",
       "      dtype=object)"
      ]
     },
     "execution_count": 157,
     "metadata": {},
     "output_type": "execute_result"
    }
   ],
   "source": [
    "train_data.Total_Stops.unique()"
   ]
  },
  {
   "cell_type": "code",
   "execution_count": 166,
   "id": "8451f431-6be6-447a-b36e-cd822b4d1899",
   "metadata": {},
   "outputs": [
    {
     "data": {
      "text/plain": [
       "<Axes: xlabel='Total_Stops'>"
      ]
     },
     "execution_count": 166,
     "metadata": {},
     "output_type": "execute_result"
    },
    {
     "data": {
      "image/png": "[encoded data removed]",
      "text/plain": [
       "<Figure size 640x480 with 1 Axes>"
      ]
     },
     "metadata": {},
     "output_type": "display_data"
    }
   ],
   "source": [
    "train_data.groupby('Total_Stops')['Price'].mean().sort_values(ascending = False).plot(kind = 'bar')"
   ]
  },
  {
   "cell_type": "code",
   "execution_count": 158,
   "id": "9c63a81d-d7d7-4369-9be6-2632e69625f0",
   "metadata": {},
   "outputs": [
    {
     "data": {
      "text/plain": [
       "Index(['Airline', 'Source', 'Destination', 'Route', 'Total_Stops',\n",
       "       'Additional_Info', 'Price', 'Year', 'Month', 'Date', 'Dep_hrs',\n",
       "       'Dep_mins', 'Arrival_hrs', 'Arrival_mins', 'Duration_mins'],\n",
       "      dtype='object')"
      ]
     },
     "execution_count": 158,
     "metadata": {},
     "output_type": "execute_result"
    }
   ],
   "source": [
    "train_data.columns"
   ]
  },
  {
   "cell_type": "code",
   "execution_count": 163,
   "id": "925b421b-1345-4f64-a1db-d6e727924eac",
   "metadata": {},
   "outputs": [
    {
     "data": {
      "text/plain": [
       "0.5017579376022412"
      ]
     },
     "execution_count": 163,
     "metadata": {},
     "output_type": "execute_result"
    }
   ],
   "source": [
    "train_data['Duration_mins'].corr(train_data['Price'])"
   ]
  },
  {
   "cell_type": "code",
   "execution_count": 165,
   "id": "989184f4-9064-4c5d-a25f-dd57f17b5bc8",
   "metadata": {},
   "outputs": [
    {
     "data": {
      "text/plain": [
       "<Axes: xlabel='Airline'>"
      ]
     },
     "execution_count": 165,
     "metadata": {},
     "output_type": "execute_result"
    },
    {
     "data": {
      "image/png": "[encoded data removed]",
      "text/plain": [
       "<Figure size 640x480 with 1 Axes>"
      ]
     },
     "metadata": {},
     "output_type": "display_data"
    }
   ],
   "source": [
    "train_data.groupby('Airline')['Price'].mean().sort_values(ascending = False).plot(kind = 'bar')"
   ]
  },
  {
   "cell_type": "code",
   "execution_count": 161,
   "id": "1dae3435-39d4-4829-8c54-931d47eeb7dd",
   "metadata": {},
   "outputs": [
    {
     "data": {
      "text/plain": [
       "Airline            object\n",
       "Source             object\n",
       "Destination        object\n",
       "Route              object\n",
       "Total_Stops        object\n",
       "Additional_Info    object\n",
       "Price               int64\n",
       "Year                int32\n",
       "Month               int32\n",
       "Date                int32\n",
       "Dep_hrs             int32\n",
       "Dep_mins            int32\n",
       "Arrival_hrs         int32\n",
       "Arrival_mins        int32\n",
       "Duration_mins       int64\n",
       "dtype: object"
      ]
     },
     "execution_count": 161,
     "metadata": {},
     "output_type": "execute_result"
    }
   ],
   "source": [
    "train_data.dtypes"
   ]
  },
  {
   "cell_type": "code",
   "execution_count": 170,
   "id": "5b4e36e8-9dc2-46fc-8f0d-390b5695c900",
   "metadata": {},
   "outputs": [
    {
     "data": {
      "text/html": [
       "<div>\n",
       "<style scoped>\n",
       "    .dataframe tbody tr th:only-of-type {\n",
       "        vertical-align: middle;\n",
       "    }\n",
       "\n",
       "    .dataframe tbody tr th {\n",
       "        vertical-align: top;\n",
       "    }\n",
       "\n",
       "    .dataframe thead th {\n",
       "        text-align: right;\n",
       "    }\n",
       "</style>\n",
       "<table border=\"1\" class=\"dataframe\">\n",
       "  <thead>\n",
       "    <tr style=\"text-align: right;\">\n",
       "      <th></th>\n",
       "      <th>Airline</th>\n",
       "      <th>Source</th>\n",
       "      <th>Destination</th>\n",
       "      <th>Route</th>\n",
       "      <th>Total_Stops</th>\n",
       "      <th>Additional_Info</th>\n",
       "      <th>Price</th>\n",
       "      <th>Year</th>\n",
       "      <th>Month</th>\n",
       "      <th>Date</th>\n",
       "      <th>Dep_hrs</th>\n",
       "      <th>Dep_mins</th>\n",
       "      <th>Arrival_hrs</th>\n",
       "      <th>Arrival_mins</th>\n",
       "      <th>Duration_mins</th>\n",
       "    </tr>\n",
       "  </thead>\n",
       "  <tbody>\n",
       "    <tr>\n",
       "      <th>0</th>\n",
       "      <td>IndiGo</td>\n",
       "      <td>Banglore</td>\n",
       "      <td>New Delhi</td>\n",
       "      <td>BLR → DEL</td>\n",
       "      <td>non-stop</td>\n",
       "      <td>No info</td>\n",
       "      <td>3897</td>\n",
       "      <td>2019</td>\n",
       "      <td>3</td>\n",
       "      <td>24</td>\n",
       "      <td>22</td>\n",
       "      <td>20</td>\n",
       "      <td>1</td>\n",
       "      <td>10</td>\n",
       "      <td>170</td>\n",
       "    </tr>\n",
       "    <tr>\n",
       "      <th>1</th>\n",
       "      <td>Air India</td>\n",
       "      <td>Kolkata</td>\n",
       "      <td>Banglore</td>\n",
       "      <td>CCU → IXR → BBI → BLR</td>\n",
       "      <td>2 stops</td>\n",
       "      <td>No info</td>\n",
       "      <td>7662</td>\n",
       "      <td>2019</td>\n",
       "      <td>5</td>\n",
       "      <td>1</td>\n",
       "      <td>5</td>\n",
       "      <td>50</td>\n",
       "      <td>13</td>\n",
       "      <td>15</td>\n",
       "      <td>445</td>\n",
       "    </tr>\n",
       "    <tr>\n",
       "      <th>2</th>\n",
       "      <td>Jet Airways</td>\n",
       "      <td>Delhi</td>\n",
       "      <td>Cochin</td>\n",
       "      <td>DEL → LKO → BOM → COK</td>\n",
       "      <td>2 stops</td>\n",
       "      <td>No info</td>\n",
       "      <td>13882</td>\n",
       "      <td>2019</td>\n",
       "      <td>6</td>\n",
       "      <td>9</td>\n",
       "      <td>9</td>\n",
       "      <td>25</td>\n",
       "      <td>4</td>\n",
       "      <td>25</td>\n",
       "      <td>1140</td>\n",
       "    </tr>\n",
       "    <tr>\n",
       "      <th>3</th>\n",
       "      <td>IndiGo</td>\n",
       "      <td>Kolkata</td>\n",
       "      <td>Banglore</td>\n",
       "      <td>CCU → NAG → BLR</td>\n",
       "      <td>1 stop</td>\n",
       "      <td>No info</td>\n",
       "      <td>6218</td>\n",
       "      <td>2019</td>\n",
       "      <td>5</td>\n",
       "      <td>12</td>\n",
       "      <td>18</td>\n",
       "      <td>5</td>\n",
       "      <td>23</td>\n",
       "      <td>30</td>\n",
       "      <td>325</td>\n",
       "    </tr>\n",
       "    <tr>\n",
       "      <th>4</th>\n",
       "      <td>IndiGo</td>\n",
       "      <td>Banglore</td>\n",
       "      <td>New Delhi</td>\n",
       "      <td>BLR → NAG → DEL</td>\n",
       "      <td>1 stop</td>\n",
       "      <td>No info</td>\n",
       "      <td>13302</td>\n",
       "      <td>2019</td>\n",
       "      <td>3</td>\n",
       "      <td>1</td>\n",
       "      <td>16</td>\n",
       "      <td>50</td>\n",
       "      <td>21</td>\n",
       "      <td>35</td>\n",
       "      <td>285</td>\n",
       "    </tr>\n",
       "  </tbody>\n",
       "</table>\n",
       "</div>"
      ],
      "text/plain": [
       "       Airline    Source Destination                  Route Total_Stops  \\\n",
       "0       IndiGo  Banglore   New Delhi              BLR → DEL    non-stop   \n",
       "1    Air India   Kolkata    Banglore  CCU → IXR → BBI → BLR     2 stops   \n",
       "2  Jet Airways     Delhi      Cochin  DEL → LKO → BOM → COK     2 stops   \n",
       "3       IndiGo   Kolkata    Banglore        CCU → NAG → BLR      1 stop   \n",
       "4       IndiGo  Banglore   New Delhi        BLR → NAG → DEL      1 stop   \n",
       "\n",
       "  Additional_Info  Price  Year  Month  Date  Dep_hrs  Dep_mins  Arrival_hrs  \\\n",
       "0         No info   3897  2019      3    24       22        20            1   \n",
       "1         No info   7662  2019      5     1        5        50           13   \n",
       "2         No info  13882  2019      6     9        9        25            4   \n",
       "3         No info   6218  2019      5    12       18         5           23   \n",
       "4         No info  13302  2019      3     1       16        50           21   \n",
       "\n",
       "   Arrival_mins  Duration_mins  \n",
       "0            10            170  \n",
       "1            15            445  \n",
       "2            25           1140  \n",
       "3            30            325  \n",
       "4            35            285  "
      ]
     },
     "execution_count": 170,
     "metadata": {},
     "output_type": "execute_result"
    }
   ],
   "source": [
    "train_data.head(5)"
   ]
  },
  {
   "cell_type": "code",
   "execution_count": 171,
   "id": "e71514eb-b537-429d-89a0-91e3cb30f6af",
   "metadata": {},
   "outputs": [],
   "source": [
    "train_data.drop('Route',axis = 1,inplace = True)"
   ]
  },
  {
   "cell_type": "code",
   "execution_count": 174,
   "id": "9c417153-ce09-4c68-8fb4-0501216461ae",
   "metadata": {},
   "outputs": [
    {
     "data": {
      "image/png": "[encoded data removed]",
      "text/plain": [
       "<Figure size 640x480 with 1 Axes>"
      ]
     },
     "metadata": {},
     "output_type": "display_data"
    },
    {
     "data": {
      "image/png": "[encoded data removed]",
      "text/plain": [
       "<Figure size 640x480 with 1 Axes>"
      ]
     },
     "metadata": {},
     "output_type": "display_data"
    },
    {
     "data": {
      "image/png": "[encoded data removed]",
      "text/plain": [
       "<Figure size 640x480 with 1 Axes>"
      ]
     },
     "metadata": {},
     "output_type": "display_data"
    },
    {
     "data": {
      "image/png": "[encoded data removed]",
      "text/plain": [
       "<Figure size 640x480 with 1 Axes>"
      ]
     },
     "metadata": {},
     "output_type": "display_data"
    },
    {
     "data": {
      "image/png": "[encoded data removed]",
      "text/plain": [
       "<Figure size 640x480 with 1 Axes>"
      ]
     },
     "metadata": {},
     "output_type": "display_data"
    }
   ],
   "source": [
    "for i in train_data.select_dtypes(include = 'object').columns:\n",
    "    sns.countplot(data= train_data,x = i)\n",
    "    plt.xticks(rotation = 90)\n",
    "    plt.show()"
   ]
  },
  {
   "cell_type": "code",
   "execution_count": 172,
   "id": "0ca4c107-4a8d-4801-b2d2-084f678b5047",
   "metadata": {},
   "outputs": [
    {
     "data": {
      "text/html": [
       "<div>\n",
       "<style scoped>\n",
       "    .dataframe tbody tr th:only-of-type {\n",
       "        vertical-align: middle;\n",
       "    }\n",
       "\n",
       "    .dataframe tbody tr th {\n",
       "        vertical-align: top;\n",
       "    }\n",
       "\n",
       "    .dataframe thead th {\n",
       "        text-align: right;\n",
       "    }\n",
       "</style>\n",
       "<table border=\"1\" class=\"dataframe\">\n",
       "  <thead>\n",
       "    <tr style=\"text-align: right;\">\n",
       "      <th></th>\n",
       "      <th>Airline</th>\n",
       "      <th>Source</th>\n",
       "      <th>Destination</th>\n",
       "      <th>Total_Stops</th>\n",
       "      <th>Additional_Info</th>\n",
       "    </tr>\n",
       "  </thead>\n",
       "  <tbody>\n",
       "    <tr>\n",
       "      <th>0</th>\n",
       "      <td>IndiGo</td>\n",
       "      <td>Banglore</td>\n",
       "      <td>New Delhi</td>\n",
       "      <td>non-stop</td>\n",
       "      <td>No info</td>\n",
       "    </tr>\n",
       "    <tr>\n",
       "      <th>1</th>\n",
       "      <td>Air India</td>\n",
       "      <td>Kolkata</td>\n",
       "      <td>Banglore</td>\n",
       "      <td>2 stops</td>\n",
       "      <td>No info</td>\n",
       "    </tr>\n",
       "    <tr>\n",
       "      <th>2</th>\n",
       "      <td>Jet Airways</td>\n",
       "      <td>Delhi</td>\n",
       "      <td>Cochin</td>\n",
       "      <td>2 stops</td>\n",
       "      <td>No info</td>\n",
       "    </tr>\n",
       "    <tr>\n",
       "      <th>3</th>\n",
       "      <td>IndiGo</td>\n",
       "      <td>Kolkata</td>\n",
       "      <td>Banglore</td>\n",
       "      <td>1 stop</td>\n",
       "      <td>No info</td>\n",
       "    </tr>\n",
       "    <tr>\n",
       "      <th>4</th>\n",
       "      <td>IndiGo</td>\n",
       "      <td>Banglore</td>\n",
       "      <td>New Delhi</td>\n",
       "      <td>1 stop</td>\n",
       "      <td>No info</td>\n",
       "    </tr>\n",
       "    <tr>\n",
       "      <th>...</th>\n",
       "      <td>...</td>\n",
       "      <td>...</td>\n",
       "      <td>...</td>\n",
       "      <td>...</td>\n",
       "      <td>...</td>\n",
       "    </tr>\n",
       "    <tr>\n",
       "      <th>10457</th>\n",
       "      <td>Air Asia</td>\n",
       "      <td>Kolkata</td>\n",
       "      <td>Banglore</td>\n",
       "      <td>non-stop</td>\n",
       "      <td>No info</td>\n",
       "    </tr>\n",
       "    <tr>\n",
       "      <th>10458</th>\n",
       "      <td>Air India</td>\n",
       "      <td>Kolkata</td>\n",
       "      <td>Banglore</td>\n",
       "      <td>non-stop</td>\n",
       "      <td>No info</td>\n",
       "    </tr>\n",
       "    <tr>\n",
       "      <th>10459</th>\n",
       "      <td>Jet Airways</td>\n",
       "      <td>Banglore</td>\n",
       "      <td>Delhi</td>\n",
       "      <td>non-stop</td>\n",
       "      <td>No info</td>\n",
       "    </tr>\n",
       "    <tr>\n",
       "      <th>10460</th>\n",
       "      <td>Vistara</td>\n",
       "      <td>Banglore</td>\n",
       "      <td>New Delhi</td>\n",
       "      <td>non-stop</td>\n",
       "      <td>No info</td>\n",
       "    </tr>\n",
       "    <tr>\n",
       "      <th>10461</th>\n",
       "      <td>Air India</td>\n",
       "      <td>Delhi</td>\n",
       "      <td>Cochin</td>\n",
       "      <td>2 stops</td>\n",
       "      <td>No info</td>\n",
       "    </tr>\n",
       "  </tbody>\n",
       "</table>\n",
       "<p>10462 rows × 5 columns</p>\n",
       "</div>"
      ],
      "text/plain": [
       "           Airline    Source Destination Total_Stops Additional_Info\n",
       "0           IndiGo  Banglore   New Delhi    non-stop         No info\n",
       "1        Air India   Kolkata    Banglore     2 stops         No info\n",
       "2      Jet Airways     Delhi      Cochin     2 stops         No info\n",
       "3           IndiGo   Kolkata    Banglore      1 stop         No info\n",
       "4           IndiGo  Banglore   New Delhi      1 stop         No info\n",
       "...            ...       ...         ...         ...             ...\n",
       "10457     Air Asia   Kolkata    Banglore    non-stop         No info\n",
       "10458    Air India   Kolkata    Banglore    non-stop         No info\n",
       "10459  Jet Airways  Banglore       Delhi    non-stop         No info\n",
       "10460      Vistara  Banglore   New Delhi    non-stop         No info\n",
       "10461    Air India     Delhi      Cochin     2 stops         No info\n",
       "\n",
       "[10462 rows x 5 columns]"
      ]
     },
     "execution_count": 172,
     "metadata": {},
     "output_type": "execute_result"
    }
   ],
   "source": [
    "train_data.select_dtypes(include = 'object')"
   ]
  },
  {
   "cell_type": "code",
   "execution_count": 176,
   "id": "33d7fe3d-fb1a-4a4d-ad51-2b630051bac3",
   "metadata": {},
   "outputs": [],
   "source": [
    "train_data.drop('Additional_Info',axis =1, inplace = True)"
   ]
  },
  {
   "cell_type": "markdown",
   "id": "072c6918-7ca3-43bc-88aa-3448fc271f70",
   "metadata": {},
   "source": [
    "### Bi_Variate Analysis"
   ]
  },
  {
   "cell_type": "code",
   "execution_count": 177,
   "id": "0e78b780-e1ab-4075-804c-73adf749cd37",
   "metadata": {},
   "outputs": [
    {
     "data": {
      "image/png": "[encoded data removed]",
      "text/plain": [
       "<Figure size 640x480 with 1 Axes>"
      ]
     },
     "metadata": {},
     "output_type": "display_data"
    },
    {
     "data": {
      "image/png": "[encoded data removed]",
      "text/plain": [
       "<Figure size 640x480 with 1 Axes>"
      ]
     },
     "metadata": {},
     "output_type": "display_data"
    },
    {
     "data": {
      "image/png": "[encoded data removed]",
      "text/plain": [
       "<Figure size 640x480 with 1 Axes>"
      ]
     },
     "metadata": {},
     "output_type": "display_data"
    },
    {
     "data": {
      "image/png": "[encoded data removed]",
      "text/plain": [
       "<Figure size 640x480 with 1 Axes>"
      ]
     },
     "metadata": {},
     "output_type": "display_data"
    }
   ],
   "source": [
    "for i in train_data.select_dtypes(include = 'object').columns:\n",
    "    sns.scatterplot(x = train_data[i],y = train_data.Price)\n",
    "    plt.xticks(rotation = 90)\n",
    "    plt.show()"
   ]
  },
  {
   "cell_type": "code",
   "execution_count": 181,
   "id": "9922496d-201e-43ce-bd6a-142e71fbebf9",
   "metadata": {},
   "outputs": [
    {
     "data": {
      "text/html": [
       "<div>\n",
       "<style scoped>\n",
       "    .dataframe tbody tr th:only-of-type {\n",
       "        vertical-align: middle;\n",
       "    }\n",
       "\n",
       "    .dataframe tbody tr th {\n",
       "        vertical-align: top;\n",
       "    }\n",
       "\n",
       "    .dataframe thead th {\n",
       "        text-align: right;\n",
       "    }\n",
       "</style>\n",
       "<table border=\"1\" class=\"dataframe\">\n",
       "  <thead>\n",
       "    <tr style=\"text-align: right;\">\n",
       "      <th></th>\n",
       "      <th>Airline</th>\n",
       "      <th>Source</th>\n",
       "      <th>Destination</th>\n",
       "      <th>Total_Stops</th>\n",
       "      <th>Price</th>\n",
       "      <th>Year</th>\n",
       "      <th>Month</th>\n",
       "      <th>Date</th>\n",
       "      <th>Dep_hrs</th>\n",
       "      <th>Dep_mins</th>\n",
       "      <th>Arrival_hrs</th>\n",
       "      <th>Arrival_mins</th>\n",
       "      <th>Duration_mins</th>\n",
       "    </tr>\n",
       "  </thead>\n",
       "  <tbody>\n",
       "    <tr>\n",
       "      <th>0</th>\n",
       "      <td>IndiGo</td>\n",
       "      <td>Banglore</td>\n",
       "      <td>New Delhi</td>\n",
       "      <td>0</td>\n",
       "      <td>3897</td>\n",
       "      <td>2019</td>\n",
       "      <td>3</td>\n",
       "      <td>24</td>\n",
       "      <td>22</td>\n",
       "      <td>20</td>\n",
       "      <td>1</td>\n",
       "      <td>10</td>\n",
       "      <td>170</td>\n",
       "    </tr>\n",
       "    <tr>\n",
       "      <th>1</th>\n",
       "      <td>Air India</td>\n",
       "      <td>Kolkata</td>\n",
       "      <td>Banglore</td>\n",
       "      <td>2</td>\n",
       "      <td>7662</td>\n",
       "      <td>2019</td>\n",
       "      <td>5</td>\n",
       "      <td>1</td>\n",
       "      <td>5</td>\n",
       "      <td>50</td>\n",
       "      <td>13</td>\n",
       "      <td>15</td>\n",
       "      <td>445</td>\n",
       "    </tr>\n",
       "  </tbody>\n",
       "</table>\n",
       "</div>"
      ],
      "text/plain": [
       "     Airline    Source Destination  Total_Stops  Price  Year  Month  Date  \\\n",
       "0     IndiGo  Banglore   New Delhi            0   3897  2019      3    24   \n",
       "1  Air India   Kolkata    Banglore            2   7662  2019      5     1   \n",
       "\n",
       "   Dep_hrs  Dep_mins  Arrival_hrs  Arrival_mins  Duration_mins  \n",
       "0       22        20            1            10            170  \n",
       "1        5        50           13            15            445  "
      ]
     },
     "execution_count": 181,
     "metadata": {},
     "output_type": "execute_result"
    }
   ],
   "source": [
    "train_data.head(2)"
   ]
  },
  {
   "cell_type": "code",
   "execution_count": 179,
   "id": "887145ed-7a4a-4bab-b3b3-f51248ae64ec",
   "metadata": {},
   "outputs": [
    {
     "data": {
      "text/plain": [
       "array(['non-stop', '2 stops', '1 stop', '3 stops', '4 stops'],\n",
       "      dtype=object)"
      ]
     },
     "execution_count": 179,
     "metadata": {},
     "output_type": "execute_result"
    }
   ],
   "source": [
    "train_data.Total_Stops.unique()"
   ]
  },
  {
   "cell_type": "code",
   "execution_count": 180,
   "id": "3b38af5f-5927-491e-b79b-ebdce00a60c4",
   "metadata": {},
   "outputs": [],
   "source": [
    "train_data.Total_Stops.replace({'non-stop':0, '2 stops':2, '1 stop':1, '3 stops':3, '4 stops':4},inplace = True)"
   ]
  },
  {
   "cell_type": "code",
   "execution_count": 186,
   "id": "d1ef7c67-c7b8-4651-bf1b-b4460fa82bcb",
   "metadata": {},
   "outputs": [],
   "source": [
    "new_train_data = pd.get_dummies(train_data,drop_first = True).astype('int')"
   ]
  },
  {
   "cell_type": "code",
   "execution_count": 187,
   "id": "2dd4254b-d0d2-412d-8fe8-f70bf544b89c",
   "metadata": {},
   "outputs": [
    {
     "data": {
      "text/html": [
       "<div>\n",
       "<style scoped>\n",
       "    .dataframe tbody tr th:only-of-type {\n",
       "        vertical-align: middle;\n",
       "    }\n",
       "\n",
       "    .dataframe tbody tr th {\n",
       "        vertical-align: top;\n",
       "    }\n",
       "\n",
       "    .dataframe thead th {\n",
       "        text-align: right;\n",
       "    }\n",
       "</style>\n",
       "<table border=\"1\" class=\"dataframe\">\n",
       "  <thead>\n",
       "    <tr style=\"text-align: right;\">\n",
       "      <th></th>\n",
       "      <th>Total_Stops</th>\n",
       "      <th>Price</th>\n",
       "      <th>Year</th>\n",
       "      <th>Month</th>\n",
       "      <th>Date</th>\n",
       "      <th>Dep_hrs</th>\n",
       "      <th>Dep_mins</th>\n",
       "      <th>Arrival_hrs</th>\n",
       "      <th>Arrival_mins</th>\n",
       "      <th>Duration_mins</th>\n",
       "      <th>...</th>\n",
       "      <th>Airline_Vistara Premium economy</th>\n",
       "      <th>Source_Chennai</th>\n",
       "      <th>Source_Delhi</th>\n",
       "      <th>Source_Kolkata</th>\n",
       "      <th>Source_Mumbai</th>\n",
       "      <th>Destination_Cochin</th>\n",
       "      <th>Destination_Delhi</th>\n",
       "      <th>Destination_Hyderabad</th>\n",
       "      <th>Destination_Kolkata</th>\n",
       "      <th>Destination_New Delhi</th>\n",
       "    </tr>\n",
       "  </thead>\n",
       "  <tbody>\n",
       "    <tr>\n",
       "      <th>0</th>\n",
       "      <td>0</td>\n",
       "      <td>3897</td>\n",
       "      <td>2019</td>\n",
       "      <td>3</td>\n",
       "      <td>24</td>\n",
       "      <td>22</td>\n",
       "      <td>20</td>\n",
       "      <td>1</td>\n",
       "      <td>10</td>\n",
       "      <td>170</td>\n",
       "      <td>...</td>\n",
       "      <td>0</td>\n",
       "      <td>0</td>\n",
       "      <td>0</td>\n",
       "      <td>0</td>\n",
       "      <td>0</td>\n",
       "      <td>0</td>\n",
       "      <td>0</td>\n",
       "      <td>0</td>\n",
       "      <td>0</td>\n",
       "      <td>1</td>\n",
       "    </tr>\n",
       "    <tr>\n",
       "      <th>1</th>\n",
       "      <td>2</td>\n",
       "      <td>7662</td>\n",
       "      <td>2019</td>\n",
       "      <td>5</td>\n",
       "      <td>1</td>\n",
       "      <td>5</td>\n",
       "      <td>50</td>\n",
       "      <td>13</td>\n",
       "      <td>15</td>\n",
       "      <td>445</td>\n",
       "      <td>...</td>\n",
       "      <td>0</td>\n",
       "      <td>0</td>\n",
       "      <td>0</td>\n",
       "      <td>1</td>\n",
       "      <td>0</td>\n",
       "      <td>0</td>\n",
       "      <td>0</td>\n",
       "      <td>0</td>\n",
       "      <td>0</td>\n",
       "      <td>0</td>\n",
       "    </tr>\n",
       "  </tbody>\n",
       "</table>\n",
       "<p>2 rows × 30 columns</p>\n",
       "</div>"
      ],
      "text/plain": [
       "   Total_Stops  Price  Year  Month  Date  Dep_hrs  Dep_mins  Arrival_hrs  \\\n",
       "0            0   3897  2019      3    24       22        20            1   \n",
       "1            2   7662  2019      5     1        5        50           13   \n",
       "\n",
       "   Arrival_mins  Duration_mins  ...  Airline_Vistara Premium economy  \\\n",
       "0            10            170  ...                                0   \n",
       "1            15            445  ...                                0   \n",
       "\n",
       "   Source_Chennai  Source_Delhi  Source_Kolkata  Source_Mumbai  \\\n",
       "0               0             0               0              0   \n",
       "1               0             0               1              0   \n",
       "\n",
       "   Destination_Cochin  Destination_Delhi  Destination_Hyderabad  \\\n",
       "0                   0                  0                      0   \n",
       "1                   0                  0                      0   \n",
       "\n",
       "   Destination_Kolkata  Destination_New Delhi  \n",
       "0                    0                      1  \n",
       "1                    0                      0  \n",
       "\n",
       "[2 rows x 30 columns]"
      ]
     },
     "execution_count": 187,
     "metadata": {},
     "output_type": "execute_result"
    }
   ],
   "source": [
    "new_train_data.head(2)"
   ]
  },
  {
   "cell_type": "code",
   "execution_count": 189,
   "id": "f984a160-8b94-417d-aa6c-f2702eb93153",
   "metadata": {},
   "outputs": [],
   "source": [
    "X = new_train_data.drop('Price',axis = 1)\n",
    "y = new_train_data['Price']"
   ]
  },
  {
   "cell_type": "code",
   "execution_count": 190,
   "id": "6d7e5529-ac78-4f6a-92df-8b53c60b7394",
   "metadata": {},
   "outputs": [],
   "source": [
    "from sklearn.model_selection import train_test_split\n",
    "from sklearn.linear_model import LinearRegression\n",
    "from sklearn.tree import DecisionTreeRegressor\n",
    "from sklearn.ensemble import RandomForestRegressor"
   ]
  },
  {
   "cell_type": "code",
   "execution_count": 191,
   "id": "027ae62e-4b8e-439e-8edb-45d1310f899b",
   "metadata": {},
   "outputs": [],
   "source": [
    "from sklearn.metrics import mean_squared_error"
   ]
  },
  {
   "cell_type": "code",
   "execution_count": 192,
   "id": "cee75061-2cf6-4a5d-9edf-9b0b4347b5d2",
   "metadata": {},
   "outputs": [],
   "source": [
    "X_train,X_test,y_train,y_test = train_test_split(X,y,test_size=0.3,random_state=0)"
   ]
  },
  {
   "cell_type": "code",
   "execution_count": 195,
   "id": "aa37e4f3-d490-4e6a-91d2-b1040edc5473",
   "metadata": {},
   "outputs": [
    {
     "data": {
      "text/plain": [
       "(3139, 29)"
      ]
     },
     "execution_count": 195,
     "metadata": {},
     "output_type": "execute_result"
    }
   ],
   "source": [
    "X_test.shape"
   ]
  },
  {
   "cell_type": "code",
   "execution_count": 196,
   "id": "080e40e3-f397-4af7-88dd-45341f3ba208",
   "metadata": {},
   "outputs": [
    {
     "data": {
      "text/html": [
       "<style>#sk-container-id-1 {color: black;background-color: white;}#sk-container-id-1 pre{padding: 0;}#sk-container-id-1 div.sk-toggleable {background-color: white;}#sk-container-id-1 label.sk-toggleable__label {cursor: pointer;display: block;width: 100%;margin-bottom: 0;padding: 0.3em;box-sizing: border-box;text-align: center;}#sk-container-id-1 label.sk-toggleable__label-arrow:before {content: \"▸\";float: left;margin-right: 0.25em;color: #696969;}#sk-container-id-1 label.sk-toggleable__label-arrow:hover:before {color: black;}#sk-container-id-1 div.sk-estimator:hover label.sk-toggleable__label-arrow:before {color: black;}#sk-container-id-1 div.sk-toggleable__content {max-height: 0;max-width: 0;overflow: hidden;text-align: left;background-color: #f0f8ff;}#sk-container-id-1 div.sk-toggleable__content pre {margin: 0.2em;color: black;border-radius: 0.25em;background-color: #f0f8ff;}#sk-container-id-1 input.sk-toggleable__control:checked~div.sk-toggleable__content {max-height: 200px;max-width: 100%;overflow: auto;}#sk-container-id-1 input.sk-toggleable__control:checked~label.sk-toggleable__label-arrow:before {content: \"▾\";}#sk-container-id-1 div.sk-estimator input.sk-toggleable__control:checked~label.sk-toggleable__label {background-color: #d4ebff;}#sk-container-id-1 div.sk-label input.sk-toggleable__control:checked~label.sk-toggleable__label {background-color: #d4ebff;}#sk-container-id-1 input.sk-hidden--visually {border: 0;clip: rect(1px 1px 1px 1px);clip: rect(1px, 1px, 1px, 1px);height: 1px;margin: -1px;overflow: hidden;padding: 0;position: absolute;width: 1px;}#sk-container-id-1 div.sk-estimator {font-family: monospace;background-color: #f0f8ff;border: 1px dotted black;border-radius: 0.25em;box-sizing: border-box;margin-bottom: 0.5em;}#sk-container-id-1 div.sk-estimator:hover {background-color: #d4ebff;}#sk-container-id-1 div.sk-parallel-item::after {content: \"\";width: 100%;border-bottom: 1px solid gray;flex-grow: 1;}#sk-container-id-1 div.sk-label:hover label.sk-toggleable__label {background-color: #d4ebff;}#sk-container-id-1 div.sk-serial::before {content: \"\";position: absolute;border-left: 1px solid gray;box-sizing: border-box;top: 0;bottom: 0;left: 50%;z-index: 0;}#sk-container-id-1 div.sk-serial {display: flex;flex-direction: column;align-items: center;background-color: white;padding-right: 0.2em;padding-left: 0.2em;position: relative;}#sk-container-id-1 div.sk-item {position: relative;z-index: 1;}#sk-container-id-1 div.sk-parallel {display: flex;align-items: stretch;justify-content: center;background-color: white;position: relative;}#sk-container-id-1 div.sk-item::before, #sk-container-id-1 div.sk-parallel-item::before {content: \"\";position: absolute;border-left: 1px solid gray;box-sizing: border-box;top: 0;bottom: 0;left: 50%;z-index: -1;}#sk-container-id-1 div.sk-parallel-item {display: flex;flex-direction: column;z-index: 1;position: relative;background-color: white;}#sk-container-id-1 div.sk-parallel-item:first-child::after {align-self: flex-end;width: 50%;}#sk-container-id-1 div.sk-parallel-item:last-child::after {align-self: flex-start;width: 50%;}#sk-container-id-1 div.sk-parallel-item:only-child::after {width: 0;}#sk-container-id-1 div.sk-dashed-wrapped {border: 1px dashed gray;margin: 0 0.4em 0.5em 0.4em;box-sizing: border-box;padding-bottom: 0.4em;background-color: white;}#sk-container-id-1 div.sk-label label {font-family: monospace;font-weight: bold;display: inline-block;line-height: 1.2em;}#sk-container-id-1 div.sk-label-container {text-align: center;}#sk-container-id-1 div.sk-container {/* jupyter's `normalize.less` sets `[hidden] { display: none; }` but bootstrap.min.css set `[hidden] { display: none !important; }` so we also need the `!important` here to be able to override the default hidden behavior on the sphinx rendered scikit-learn.org. See: https://github.com/scikit-learn/scikit-learn/issues/21755 */display: inline-block !important;position: relative;}#sk-container-id-1 div.sk-text-repr-fallback {display: none;}</style><div id=\"sk-container-id-1\" class=\"sk-top-container\"><div class=\"sk-text-repr-fallback\"><pre>LinearRegression()</pre><b>In a Jupyter environment, please rerun this cell to show the HTML representation or trust the notebook. <br />On GitHub, the HTML representation is unable to render, please try loading this page with nbviewer.org.</b></div><div class=\"sk-container\" hidden><div class=\"sk-item\"><div class=\"sk-estimator sk-toggleable\"><input class=\"sk-toggleable__control sk-hidden--visually\" id=\"sk-estimator-id-1\" type=\"checkbox\" checked><label for=\"sk-estimator-id-1\" class=\"sk-toggleable__label sk-toggleable__label-arrow\">LinearRegression</label><div class=\"sk-toggleable__content\"><pre>LinearRegression()</pre></div></div></div></div></div>"
      ],
      "text/plain": [
       "LinearRegression()"
      ]
     },
     "execution_count": 196,
     "metadata": {},
     "output_type": "execute_result"
    }
   ],
   "source": [
    "lr = LinearRegression()\n",
    "lr.fit(X_train,y_train)"
   ]
  },
  {
   "cell_type": "code",
   "execution_count": 198,
   "id": "cadb564c-939c-41c3-8144-34506dad3826",
   "metadata": {},
   "outputs": [],
   "source": [
    "y_train_pred = lr.predict(X_train)\n",
    "y_test_pred = lr.predict(X_test)"
   ]
  },
  {
   "cell_type": "code",
   "execution_count": 199,
   "id": "8f144e4b-9f0a-4c1a-b086-061c06f01295",
   "metadata": {},
   "outputs": [
    {
     "data": {
      "text/plain": [
       "7848739.71104696"
      ]
     },
     "execution_count": 199,
     "metadata": {},
     "output_type": "execute_result"
    }
   ],
   "source": [
    "mean_squared_error(y_train,y_train_pred)"
   ]
  },
  {
   "cell_type": "code",
   "execution_count": 201,
   "id": "fd380c07-7249-40c7-b79e-1c98cfdd3452",
   "metadata": {},
   "outputs": [
    {
     "data": {
      "text/plain": [
       "2801.560227988497"
      ]
     },
     "execution_count": 201,
     "metadata": {},
     "output_type": "execute_result"
    }
   ],
   "source": [
    "np.sqrt(mean_squared_error(y_train,y_train_pred))"
   ]
  },
  {
   "cell_type": "code",
   "execution_count": 202,
   "id": "10a1c12f-b67c-437f-bbb3-15c62c3a624d",
   "metadata": {},
   "outputs": [],
   "source": [
    "from sklearn.metrics import r2_score"
   ]
  },
  {
   "cell_type": "code",
   "execution_count": 203,
   "id": "defaee55-24c3-40bd-8dde-19353d0ce39a",
   "metadata": {},
   "outputs": [
    {
     "data": {
      "text/plain": [
       "0.6367799086465608"
      ]
     },
     "execution_count": 203,
     "metadata": {},
     "output_type": "execute_result"
    }
   ],
   "source": [
    "r2_score(y_train,y_train_pred)"
   ]
  },
  {
   "cell_type": "code",
   "execution_count": 204,
   "id": "2a983aa9-dbd0-42b8-bc25-aabcb2410815",
   "metadata": {},
   "outputs": [
    {
     "data": {
      "text/plain": [
       "0.5885477874569578"
      ]
     },
     "execution_count": 204,
     "metadata": {},
     "output_type": "execute_result"
    }
   ],
   "source": [
    "r2_score(y_test,y_test_pred)"
   ]
  },
  {
   "cell_type": "code",
   "execution_count": null,
   "id": "4412c633-52a1-48d4-ad83-089fa772c83c",
   "metadata": {},
   "outputs": [],
   "source": []
  },
  {
   "cell_type": "code",
   "execution_count": 205,
   "id": "d18a4e23-331c-4851-8938-2f50293a8e33",
   "metadata": {},
   "outputs": [],
   "source": [
    "models = [LinearRegression(),DecisionTreeRegressor(),RandomForestRegressor()]"
   ]
  },
  {
   "cell_type": "code",
   "execution_count": 239,
   "id": "2a23d5f1-4b0a-4e00-b19a-0068c5bebef6",
   "metadata": {},
   "outputs": [
    {
     "data": {
      "text/html": [
       "<style>#sk-container-id-2 {color: black;background-color: white;}#sk-container-id-2 pre{padding: 0;}#sk-container-id-2 div.sk-toggleable {background-color: white;}#sk-container-id-2 label.sk-toggleable__label {cursor: pointer;display: block;width: 100%;margin-bottom: 0;padding: 0.3em;box-sizing: border-box;text-align: center;}#sk-container-id-2 label.sk-toggleable__label-arrow:before {content: \"▸\";float: left;margin-right: 0.25em;color: #696969;}#sk-container-id-2 label.sk-toggleable__label-arrow:hover:before {color: black;}#sk-container-id-2 div.sk-estimator:hover label.sk-toggleable__label-arrow:before {color: black;}#sk-container-id-2 div.sk-toggleable__content {max-height: 0;max-width: 0;overflow: hidden;text-align: left;background-color: #f0f8ff;}#sk-container-id-2 div.sk-toggleable__content pre {margin: 0.2em;color: black;border-radius: 0.25em;background-color: #f0f8ff;}#sk-container-id-2 input.sk-toggleable__control:checked~div.sk-toggleable__content {max-height: 200px;max-width: 100%;overflow: auto;}#sk-container-id-2 input.sk-toggleable__control:checked~label.sk-toggleable__label-arrow:before {content: \"▾\";}#sk-container-id-2 div.sk-estimator input.sk-toggleable__control:checked~label.sk-toggleable__label {background-color: #d4ebff;}#sk-container-id-2 div.sk-label input.sk-toggleable__control:checked~label.sk-toggleable__label {background-color: #d4ebff;}#sk-container-id-2 input.sk-hidden--visually {border: 0;clip: rect(1px 1px 1px 1px);clip: rect(1px, 1px, 1px, 1px);height: 1px;margin: -1px;overflow: hidden;padding: 0;position: absolute;width: 1px;}#sk-container-id-2 div.sk-estimator {font-family: monospace;background-color: #f0f8ff;border: 1px dotted black;border-radius: 0.25em;box-sizing: border-box;margin-bottom: 0.5em;}#sk-container-id-2 div.sk-estimator:hover {background-color: #d4ebff;}#sk-container-id-2 div.sk-parallel-item::after {content: \"\";width: 100%;border-bottom: 1px solid gray;flex-grow: 1;}#sk-container-id-2 div.sk-label:hover label.sk-toggleable__label {background-color: #d4ebff;}#sk-container-id-2 div.sk-serial::before {content: \"\";position: absolute;border-left: 1px solid gray;box-sizing: border-box;top: 0;bottom: 0;left: 50%;z-index: 0;}#sk-container-id-2 div.sk-serial {display: flex;flex-direction: column;align-items: center;background-color: white;padding-right: 0.2em;padding-left: 0.2em;position: relative;}#sk-container-id-2 div.sk-item {position: relative;z-index: 1;}#sk-container-id-2 div.sk-parallel {display: flex;align-items: stretch;justify-content: center;background-color: white;position: relative;}#sk-container-id-2 div.sk-item::before, #sk-container-id-2 div.sk-parallel-item::before {content: \"\";position: absolute;border-left: 1px solid gray;box-sizing: border-box;top: 0;bottom: 0;left: 50%;z-index: -1;}#sk-container-id-2 div.sk-parallel-item {display: flex;flex-direction: column;z-index: 1;position: relative;background-color: white;}#sk-container-id-2 div.sk-parallel-item:first-child::after {align-self: flex-end;width: 50%;}#sk-container-id-2 div.sk-parallel-item:last-child::after {align-self: flex-start;width: 50%;}#sk-container-id-2 div.sk-parallel-item:only-child::after {width: 0;}#sk-container-id-2 div.sk-dashed-wrapped {border: 1px dashed gray;margin: 0 0.4em 0.5em 0.4em;box-sizing: border-box;padding-bottom: 0.4em;background-color: white;}#sk-container-id-2 div.sk-label label {font-family: monospace;font-weight: bold;display: inline-block;line-height: 1.2em;}#sk-container-id-2 div.sk-label-container {text-align: center;}#sk-container-id-2 div.sk-container {/* jupyter's `normalize.less` sets `[hidden] { display: none; }` but bootstrap.min.css set `[hidden] { display: none !important; }` so we also need the `!important` here to be able to override the default hidden behavior on the sphinx rendered scikit-learn.org. See: https://github.com/scikit-learn/scikit-learn/issues/21755 */display: inline-block !important;position: relative;}#sk-container-id-2 div.sk-text-repr-fallback {display: none;}</style><div id=\"sk-container-id-2\" class=\"sk-top-container\"><div class=\"sk-text-repr-fallback\"><pre>RandomForestRegressor()</pre><b>In a Jupyter environment, please rerun this cell to show the HTML representation or trust the notebook. <br />On GitHub, the HTML representation is unable to render, please try loading this page with nbviewer.org.</b></div><div class=\"sk-container\" hidden><div class=\"sk-item\"><div class=\"sk-estimator sk-toggleable\"><input class=\"sk-toggleable__control sk-hidden--visually\" id=\"sk-estimator-id-2\" type=\"checkbox\" checked><label for=\"sk-estimator-id-2\" class=\"sk-toggleable__label sk-toggleable__label-arrow\">RandomForestRegressor</label><div class=\"sk-toggleable__content\"><pre>RandomForestRegressor()</pre></div></div></div></div></div>"
      ],
      "text/plain": [
       "RandomForestRegressor()"
      ]
     },
     "execution_count": 239,
     "metadata": {},
     "output_type": "execute_result"
    }
   ],
   "source": [
    "models[2]"
   ]
  },
  {
   "cell_type": "code",
   "execution_count": 207,
   "id": "030d8802-3715-4638-ab08-3acc89b43a54",
   "metadata": {},
   "outputs": [
    {
     "name": "stdout",
     "output_type": "stream",
     "text": [
      "LinearRegression(): \n",
      "R2_score_train =  0.6367799086465608\n",
      "R2_score_test =  0.5885477874569578\n",
      "DecisionTreeRegressor(): \n",
      "R2_score_train =  0.9735561267162748\n",
      "R2_score_test =  0.697984336860769\n",
      "RandomForestRegressor(): \n",
      "R2_score_train =  0.9563448472050966\n",
      "R2_score_test =  0.7975557714192485\n"
     ]
    }
   ],
   "source": [
    "for i in range(3):\n",
    "    models[i].fit(X_train,y_train)\n",
    "    print(f'{models[i]}: ' )\n",
    "    y_train_pred = models[i].predict(X_train)\n",
    "    y_test_pred = models[i].predict(X_test)\n",
    "\n",
    "    print('R2_score_train = ',r2_score(y_train,y_train_pred))\n",
    "    print('R2_score_test = ',r2_score(y_test,y_test_pred))\n",
    "\n"
   ]
  },
  {
   "cell_type": "code",
   "execution_count": 208,
   "id": "1728ec0c-31ee-43c5-83cd-297c9aac1bf8",
   "metadata": {},
   "outputs": [
    {
     "data": {
      "text/html": [
       "<div>\n",
       "<style scoped>\n",
       "    .dataframe tbody tr th:only-of-type {\n",
       "        vertical-align: middle;\n",
       "    }\n",
       "\n",
       "    .dataframe tbody tr th {\n",
       "        vertical-align: top;\n",
       "    }\n",
       "\n",
       "    .dataframe thead th {\n",
       "        text-align: right;\n",
       "    }\n",
       "</style>\n",
       "<table border=\"1\" class=\"dataframe\">\n",
       "  <thead>\n",
       "    <tr style=\"text-align: right;\">\n",
       "      <th></th>\n",
       "      <th>Total_Stops</th>\n",
       "      <th>Year</th>\n",
       "      <th>Month</th>\n",
       "      <th>Date</th>\n",
       "      <th>Dep_hrs</th>\n",
       "      <th>Dep_mins</th>\n",
       "      <th>Arrival_hrs</th>\n",
       "      <th>Arrival_mins</th>\n",
       "      <th>Duration_mins</th>\n",
       "      <th>Airline_Air India</th>\n",
       "      <th>...</th>\n",
       "      <th>Airline_Vistara Premium economy</th>\n",
       "      <th>Source_Chennai</th>\n",
       "      <th>Source_Delhi</th>\n",
       "      <th>Source_Kolkata</th>\n",
       "      <th>Source_Mumbai</th>\n",
       "      <th>Destination_Cochin</th>\n",
       "      <th>Destination_Delhi</th>\n",
       "      <th>Destination_Hyderabad</th>\n",
       "      <th>Destination_Kolkata</th>\n",
       "      <th>Destination_New Delhi</th>\n",
       "    </tr>\n",
       "  </thead>\n",
       "  <tbody>\n",
       "    <tr>\n",
       "      <th>8586</th>\n",
       "      <td>0</td>\n",
       "      <td>2019</td>\n",
       "      <td>4</td>\n",
       "      <td>6</td>\n",
       "      <td>20</td>\n",
       "      <td>0</td>\n",
       "      <td>22</td>\n",
       "      <td>50</td>\n",
       "      <td>170</td>\n",
       "      <td>0</td>\n",
       "      <td>...</td>\n",
       "      <td>0</td>\n",
       "      <td>0</td>\n",
       "      <td>0</td>\n",
       "      <td>0</td>\n",
       "      <td>0</td>\n",
       "      <td>0</td>\n",
       "      <td>1</td>\n",
       "      <td>0</td>\n",
       "      <td>0</td>\n",
       "      <td>0</td>\n",
       "    </tr>\n",
       "    <tr>\n",
       "      <th>4535</th>\n",
       "      <td>0</td>\n",
       "      <td>2019</td>\n",
       "      <td>4</td>\n",
       "      <td>24</td>\n",
       "      <td>22</td>\n",
       "      <td>20</td>\n",
       "      <td>0</td>\n",
       "      <td>40</td>\n",
       "      <td>140</td>\n",
       "      <td>0</td>\n",
       "      <td>...</td>\n",
       "      <td>0</td>\n",
       "      <td>0</td>\n",
       "      <td>0</td>\n",
       "      <td>1</td>\n",
       "      <td>0</td>\n",
       "      <td>0</td>\n",
       "      <td>0</td>\n",
       "      <td>0</td>\n",
       "      <td>0</td>\n",
       "      <td>0</td>\n",
       "    </tr>\n",
       "    <tr>\n",
       "      <th>10011</th>\n",
       "      <td>1</td>\n",
       "      <td>2019</td>\n",
       "      <td>3</td>\n",
       "      <td>6</td>\n",
       "      <td>8</td>\n",
       "      <td>55</td>\n",
       "      <td>18</td>\n",
       "      <td>50</td>\n",
       "      <td>595</td>\n",
       "      <td>0</td>\n",
       "      <td>...</td>\n",
       "      <td>0</td>\n",
       "      <td>0</td>\n",
       "      <td>1</td>\n",
       "      <td>0</td>\n",
       "      <td>0</td>\n",
       "      <td>1</td>\n",
       "      <td>0</td>\n",
       "      <td>0</td>\n",
       "      <td>0</td>\n",
       "      <td>0</td>\n",
       "    </tr>\n",
       "    <tr>\n",
       "      <th>4805</th>\n",
       "      <td>0</td>\n",
       "      <td>2019</td>\n",
       "      <td>5</td>\n",
       "      <td>3</td>\n",
       "      <td>20</td>\n",
       "      <td>0</td>\n",
       "      <td>22</td>\n",
       "      <td>50</td>\n",
       "      <td>170</td>\n",
       "      <td>0</td>\n",
       "      <td>...</td>\n",
       "      <td>0</td>\n",
       "      <td>0</td>\n",
       "      <td>0</td>\n",
       "      <td>0</td>\n",
       "      <td>0</td>\n",
       "      <td>0</td>\n",
       "      <td>1</td>\n",
       "      <td>0</td>\n",
       "      <td>0</td>\n",
       "      <td>0</td>\n",
       "    </tr>\n",
       "    <tr>\n",
       "      <th>6837</th>\n",
       "      <td>1</td>\n",
       "      <td>2019</td>\n",
       "      <td>5</td>\n",
       "      <td>9</td>\n",
       "      <td>10</td>\n",
       "      <td>0</td>\n",
       "      <td>20</td>\n",
       "      <td>25</td>\n",
       "      <td>625</td>\n",
       "      <td>1</td>\n",
       "      <td>...</td>\n",
       "      <td>0</td>\n",
       "      <td>0</td>\n",
       "      <td>0</td>\n",
       "      <td>1</td>\n",
       "      <td>0</td>\n",
       "      <td>0</td>\n",
       "      <td>0</td>\n",
       "      <td>0</td>\n",
       "      <td>0</td>\n",
       "      <td>0</td>\n",
       "    </tr>\n",
       "    <tr>\n",
       "      <th>...</th>\n",
       "      <td>...</td>\n",
       "      <td>...</td>\n",
       "      <td>...</td>\n",
       "      <td>...</td>\n",
       "      <td>...</td>\n",
       "      <td>...</td>\n",
       "      <td>...</td>\n",
       "      <td>...</td>\n",
       "      <td>...</td>\n",
       "      <td>...</td>\n",
       "      <td>...</td>\n",
       "      <td>...</td>\n",
       "      <td>...</td>\n",
       "      <td>...</td>\n",
       "      <td>...</td>\n",
       "      <td>...</td>\n",
       "      <td>...</td>\n",
       "      <td>...</td>\n",
       "      <td>...</td>\n",
       "      <td>...</td>\n",
       "      <td>...</td>\n",
       "    </tr>\n",
       "    <tr>\n",
       "      <th>9225</th>\n",
       "      <td>1</td>\n",
       "      <td>2019</td>\n",
       "      <td>3</td>\n",
       "      <td>24</td>\n",
       "      <td>14</td>\n",
       "      <td>35</td>\n",
       "      <td>14</td>\n",
       "      <td>35</td>\n",
       "      <td>1440</td>\n",
       "      <td>1</td>\n",
       "      <td>...</td>\n",
       "      <td>0</td>\n",
       "      <td>0</td>\n",
       "      <td>0</td>\n",
       "      <td>1</td>\n",
       "      <td>0</td>\n",
       "      <td>0</td>\n",
       "      <td>0</td>\n",
       "      <td>0</td>\n",
       "      <td>0</td>\n",
       "      <td>0</td>\n",
       "    </tr>\n",
       "    <tr>\n",
       "      <th>4859</th>\n",
       "      <td>1</td>\n",
       "      <td>2019</td>\n",
       "      <td>3</td>\n",
       "      <td>21</td>\n",
       "      <td>15</td>\n",
       "      <td>0</td>\n",
       "      <td>1</td>\n",
       "      <td>35</td>\n",
       "      <td>635</td>\n",
       "      <td>0</td>\n",
       "      <td>...</td>\n",
       "      <td>0</td>\n",
       "      <td>0</td>\n",
       "      <td>1</td>\n",
       "      <td>0</td>\n",
       "      <td>0</td>\n",
       "      <td>1</td>\n",
       "      <td>0</td>\n",
       "      <td>0</td>\n",
       "      <td>0</td>\n",
       "      <td>0</td>\n",
       "    </tr>\n",
       "    <tr>\n",
       "      <th>3264</th>\n",
       "      <td>0</td>\n",
       "      <td>2019</td>\n",
       "      <td>6</td>\n",
       "      <td>24</td>\n",
       "      <td>17</td>\n",
       "      <td>45</td>\n",
       "      <td>20</td>\n",
       "      <td>5</td>\n",
       "      <td>140</td>\n",
       "      <td>0</td>\n",
       "      <td>...</td>\n",
       "      <td>0</td>\n",
       "      <td>1</td>\n",
       "      <td>0</td>\n",
       "      <td>0</td>\n",
       "      <td>0</td>\n",
       "      <td>0</td>\n",
       "      <td>0</td>\n",
       "      <td>0</td>\n",
       "      <td>1</td>\n",
       "      <td>0</td>\n",
       "    </tr>\n",
       "    <tr>\n",
       "      <th>9845</th>\n",
       "      <td>1</td>\n",
       "      <td>2019</td>\n",
       "      <td>6</td>\n",
       "      <td>24</td>\n",
       "      <td>16</td>\n",
       "      <td>0</td>\n",
       "      <td>19</td>\n",
       "      <td>0</td>\n",
       "      <td>1620</td>\n",
       "      <td>0</td>\n",
       "      <td>...</td>\n",
       "      <td>0</td>\n",
       "      <td>0</td>\n",
       "      <td>1</td>\n",
       "      <td>0</td>\n",
       "      <td>0</td>\n",
       "      <td>1</td>\n",
       "      <td>0</td>\n",
       "      <td>0</td>\n",
       "      <td>0</td>\n",
       "      <td>0</td>\n",
       "    </tr>\n",
       "    <tr>\n",
       "      <th>2732</th>\n",
       "      <td>1</td>\n",
       "      <td>2019</td>\n",
       "      <td>5</td>\n",
       "      <td>15</td>\n",
       "      <td>16</td>\n",
       "      <td>0</td>\n",
       "      <td>1</td>\n",
       "      <td>30</td>\n",
       "      <td>570</td>\n",
       "      <td>0</td>\n",
       "      <td>...</td>\n",
       "      <td>0</td>\n",
       "      <td>0</td>\n",
       "      <td>1</td>\n",
       "      <td>0</td>\n",
       "      <td>0</td>\n",
       "      <td>1</td>\n",
       "      <td>0</td>\n",
       "      <td>0</td>\n",
       "      <td>0</td>\n",
       "      <td>0</td>\n",
       "    </tr>\n",
       "  </tbody>\n",
       "</table>\n",
       "<p>7323 rows × 29 columns</p>\n",
       "</div>"
      ],
      "text/plain": [
       "       Total_Stops  Year  Month  Date  Dep_hrs  Dep_mins  Arrival_hrs  \\\n",
       "8586             0  2019      4     6       20         0           22   \n",
       "4535             0  2019      4    24       22        20            0   \n",
       "10011            1  2019      3     6        8        55           18   \n",
       "4805             0  2019      5     3       20         0           22   \n",
       "6837             1  2019      5     9       10         0           20   \n",
       "...            ...   ...    ...   ...      ...       ...          ...   \n",
       "9225             1  2019      3    24       14        35           14   \n",
       "4859             1  2019      3    21       15         0            1   \n",
       "3264             0  2019      6    24       17        45           20   \n",
       "9845             1  2019      6    24       16         0           19   \n",
       "2732             1  2019      5    15       16         0            1   \n",
       "\n",
       "       Arrival_mins  Duration_mins  Airline_Air India  ...  \\\n",
       "8586             50            170                  0  ...   \n",
       "4535             40            140                  0  ...   \n",
       "10011            50            595                  0  ...   \n",
       "4805             50            170                  0  ...   \n",
       "6837             25            625                  1  ...   \n",
       "...             ...            ...                ...  ...   \n",
       "9225             35           1440                  1  ...   \n",
       "4859             35            635                  0  ...   \n",
       "3264              5            140                  0  ...   \n",
       "9845              0           1620                  0  ...   \n",
       "2732             30            570                  0  ...   \n",
       "\n",
       "       Airline_Vistara Premium economy  Source_Chennai  Source_Delhi  \\\n",
       "8586                                 0               0             0   \n",
       "4535                                 0               0             0   \n",
       "10011                                0               0             1   \n",
       "4805                                 0               0             0   \n",
       "6837                                 0               0             0   \n",
       "...                                ...             ...           ...   \n",
       "9225                                 0               0             0   \n",
       "4859                                 0               0             1   \n",
       "3264                                 0               1             0   \n",
       "9845                                 0               0             1   \n",
       "2732                                 0               0             1   \n",
       "\n",
       "       Source_Kolkata  Source_Mumbai  Destination_Cochin  Destination_Delhi  \\\n",
       "8586                0              0                   0                  1   \n",
       "4535                1              0                   0                  0   \n",
       "10011               0              0                   1                  0   \n",
       "4805                0              0                   0                  1   \n",
       "6837                1              0                   0                  0   \n",
       "...               ...            ...                 ...                ...   \n",
       "9225                1              0                   0                  0   \n",
       "4859                0              0                   1                  0   \n",
       "3264                0              0                   0                  0   \n",
       "9845                0              0                   1                  0   \n",
       "2732                0              0                   1                  0   \n",
       "\n",
       "       Destination_Hyderabad  Destination_Kolkata  Destination_New Delhi  \n",
       "8586                       0                    0                      0  \n",
       "4535                       0                    0                      0  \n",
       "10011                      0                    0                      0  \n",
       "4805                       0                    0                      0  \n",
       "6837                       0                    0                      0  \n",
       "...                      ...                  ...                    ...  \n",
       "9225                       0                    0                      0  \n",
       "4859                       0                    0                      0  \n",
       "3264                       0                    1                      0  \n",
       "9845                       0                    0                      0  \n",
       "2732                       0                    0                      0  \n",
       "\n",
       "[7323 rows x 29 columns]"
      ]
     },
     "execution_count": 208,
     "metadata": {},
     "output_type": "execute_result"
    }
   ],
   "source": [
    "X_train"
   ]
  },
  {
   "cell_type": "code",
   "execution_count": 209,
   "id": "c535f0c6-25d0-401d-ad2a-6b578b8a274a",
   "metadata": {},
   "outputs": [
    {
     "data": {
      "text/html": [
       "<div>\n",
       "<style scoped>\n",
       "    .dataframe tbody tr th:only-of-type {\n",
       "        vertical-align: middle;\n",
       "    }\n",
       "\n",
       "    .dataframe tbody tr th {\n",
       "        vertical-align: top;\n",
       "    }\n",
       "\n",
       "    .dataframe thead th {\n",
       "        text-align: right;\n",
       "    }\n",
       "</style>\n",
       "<table border=\"1\" class=\"dataframe\">\n",
       "  <thead>\n",
       "    <tr style=\"text-align: right;\">\n",
       "      <th></th>\n",
       "      <th>Airline</th>\n",
       "      <th>Date_of_Journey</th>\n",
       "      <th>Source</th>\n",
       "      <th>Destination</th>\n",
       "      <th>Route</th>\n",
       "      <th>Dep_Time</th>\n",
       "      <th>Arrival_Time</th>\n",
       "      <th>Duration</th>\n",
       "      <th>Total_Stops</th>\n",
       "      <th>Additional_Info</th>\n",
       "    </tr>\n",
       "  </thead>\n",
       "  <tbody>\n",
       "    <tr>\n",
       "      <th>0</th>\n",
       "      <td>Jet Airways</td>\n",
       "      <td>6/06/2019</td>\n",
       "      <td>Delhi</td>\n",
       "      <td>Cochin</td>\n",
       "      <td>DEL → BOM → COK</td>\n",
       "      <td>17:30</td>\n",
       "      <td>04:25 07 Jun</td>\n",
       "      <td>10h 55m</td>\n",
       "      <td>1 stop</td>\n",
       "      <td>No info</td>\n",
       "    </tr>\n",
       "    <tr>\n",
       "      <th>1</th>\n",
       "      <td>IndiGo</td>\n",
       "      <td>12/05/2019</td>\n",
       "      <td>Kolkata</td>\n",
       "      <td>Banglore</td>\n",
       "      <td>CCU → MAA → BLR</td>\n",
       "      <td>06:20</td>\n",
       "      <td>10:20</td>\n",
       "      <td>4h</td>\n",
       "      <td>1 stop</td>\n",
       "      <td>No info</td>\n",
       "    </tr>\n",
       "    <tr>\n",
       "      <th>2</th>\n",
       "      <td>Jet Airways</td>\n",
       "      <td>21/05/2019</td>\n",
       "      <td>Delhi</td>\n",
       "      <td>Cochin</td>\n",
       "      <td>DEL → BOM → COK</td>\n",
       "      <td>19:15</td>\n",
       "      <td>19:00 22 May</td>\n",
       "      <td>23h 45m</td>\n",
       "      <td>1 stop</td>\n",
       "      <td>In-flight meal not included</td>\n",
       "    </tr>\n",
       "    <tr>\n",
       "      <th>3</th>\n",
       "      <td>Multiple carriers</td>\n",
       "      <td>21/05/2019</td>\n",
       "      <td>Delhi</td>\n",
       "      <td>Cochin</td>\n",
       "      <td>DEL → BOM → COK</td>\n",
       "      <td>08:00</td>\n",
       "      <td>21:00</td>\n",
       "      <td>13h</td>\n",
       "      <td>1 stop</td>\n",
       "      <td>No info</td>\n",
       "    </tr>\n",
       "    <tr>\n",
       "      <th>4</th>\n",
       "      <td>Air Asia</td>\n",
       "      <td>24/06/2019</td>\n",
       "      <td>Banglore</td>\n",
       "      <td>Delhi</td>\n",
       "      <td>BLR → DEL</td>\n",
       "      <td>23:55</td>\n",
       "      <td>02:45 25 Jun</td>\n",
       "      <td>2h 50m</td>\n",
       "      <td>non-stop</td>\n",
       "      <td>No info</td>\n",
       "    </tr>\n",
       "    <tr>\n",
       "      <th>...</th>\n",
       "      <td>...</td>\n",
       "      <td>...</td>\n",
       "      <td>...</td>\n",
       "      <td>...</td>\n",
       "      <td>...</td>\n",
       "      <td>...</td>\n",
       "      <td>...</td>\n",
       "      <td>...</td>\n",
       "      <td>...</td>\n",
       "      <td>...</td>\n",
       "    </tr>\n",
       "    <tr>\n",
       "      <th>2666</th>\n",
       "      <td>Air India</td>\n",
       "      <td>6/06/2019</td>\n",
       "      <td>Kolkata</td>\n",
       "      <td>Banglore</td>\n",
       "      <td>CCU → DEL → BLR</td>\n",
       "      <td>20:30</td>\n",
       "      <td>20:25 07 Jun</td>\n",
       "      <td>23h 55m</td>\n",
       "      <td>1 stop</td>\n",
       "      <td>No info</td>\n",
       "    </tr>\n",
       "    <tr>\n",
       "      <th>2667</th>\n",
       "      <td>IndiGo</td>\n",
       "      <td>27/03/2019</td>\n",
       "      <td>Kolkata</td>\n",
       "      <td>Banglore</td>\n",
       "      <td>CCU → BLR</td>\n",
       "      <td>14:20</td>\n",
       "      <td>16:55</td>\n",
       "      <td>2h 35m</td>\n",
       "      <td>non-stop</td>\n",
       "      <td>No info</td>\n",
       "    </tr>\n",
       "    <tr>\n",
       "      <th>2668</th>\n",
       "      <td>Jet Airways</td>\n",
       "      <td>6/03/2019</td>\n",
       "      <td>Delhi</td>\n",
       "      <td>Cochin</td>\n",
       "      <td>DEL → BOM → COK</td>\n",
       "      <td>21:50</td>\n",
       "      <td>04:25 07 Mar</td>\n",
       "      <td>6h 35m</td>\n",
       "      <td>1 stop</td>\n",
       "      <td>No info</td>\n",
       "    </tr>\n",
       "    <tr>\n",
       "      <th>2669</th>\n",
       "      <td>Air India</td>\n",
       "      <td>6/03/2019</td>\n",
       "      <td>Delhi</td>\n",
       "      <td>Cochin</td>\n",
       "      <td>DEL → BOM → COK</td>\n",
       "      <td>04:00</td>\n",
       "      <td>19:15</td>\n",
       "      <td>15h 15m</td>\n",
       "      <td>1 stop</td>\n",
       "      <td>No info</td>\n",
       "    </tr>\n",
       "    <tr>\n",
       "      <th>2670</th>\n",
       "      <td>Multiple carriers</td>\n",
       "      <td>15/06/2019</td>\n",
       "      <td>Delhi</td>\n",
       "      <td>Cochin</td>\n",
       "      <td>DEL → BOM → COK</td>\n",
       "      <td>04:55</td>\n",
       "      <td>19:15</td>\n",
       "      <td>14h 20m</td>\n",
       "      <td>1 stop</td>\n",
       "      <td>No info</td>\n",
       "    </tr>\n",
       "  </tbody>\n",
       "</table>\n",
       "<p>2671 rows × 10 columns</p>\n",
       "</div>"
      ],
      "text/plain": [
       "                Airline Date_of_Journey    Source Destination  \\\n",
       "0           Jet Airways       6/06/2019     Delhi      Cochin   \n",
       "1                IndiGo      12/05/2019   Kolkata    Banglore   \n",
       "2           Jet Airways      21/05/2019     Delhi      Cochin   \n",
       "3     Multiple carriers      21/05/2019     Delhi      Cochin   \n",
       "4              Air Asia      24/06/2019  Banglore       Delhi   \n",
       "...                 ...             ...       ...         ...   \n",
       "2666          Air India       6/06/2019   Kolkata    Banglore   \n",
       "2667             IndiGo      27/03/2019   Kolkata    Banglore   \n",
       "2668        Jet Airways       6/03/2019     Delhi      Cochin   \n",
       "2669          Air India       6/03/2019     Delhi      Cochin   \n",
       "2670  Multiple carriers      15/06/2019     Delhi      Cochin   \n",
       "\n",
       "                Route Dep_Time  Arrival_Time Duration Total_Stops  \\\n",
       "0     DEL → BOM → COK    17:30  04:25 07 Jun  10h 55m      1 stop   \n",
       "1     CCU → MAA → BLR    06:20         10:20       4h      1 stop   \n",
       "2     DEL → BOM → COK    19:15  19:00 22 May  23h 45m      1 stop   \n",
       "3     DEL → BOM → COK    08:00         21:00      13h      1 stop   \n",
       "4           BLR → DEL    23:55  02:45 25 Jun   2h 50m    non-stop   \n",
       "...               ...      ...           ...      ...         ...   \n",
       "2666  CCU → DEL → BLR    20:30  20:25 07 Jun  23h 55m      1 stop   \n",
       "2667        CCU → BLR    14:20         16:55   2h 35m    non-stop   \n",
       "2668  DEL → BOM → COK    21:50  04:25 07 Mar   6h 35m      1 stop   \n",
       "2669  DEL → BOM → COK    04:00         19:15  15h 15m      1 stop   \n",
       "2670  DEL → BOM → COK    04:55         19:15  14h 20m      1 stop   \n",
       "\n",
       "                  Additional_Info  \n",
       "0                         No info  \n",
       "1                         No info  \n",
       "2     In-flight meal not included  \n",
       "3                         No info  \n",
       "4                         No info  \n",
       "...                           ...  \n",
       "2666                      No info  \n",
       "2667                      No info  \n",
       "2668                      No info  \n",
       "2669                      No info  \n",
       "2670                      No info  \n",
       "\n",
       "[2671 rows x 10 columns]"
      ]
     },
     "execution_count": 209,
     "metadata": {},
     "output_type": "execute_result"
    }
   ],
   "source": [
    "test_data"
   ]
  },
  {
   "cell_type": "code",
   "execution_count": 211,
   "id": "75f09e18-3f56-455d-9067-5e603ff65c8a",
   "metadata": {},
   "outputs": [
    {
     "data": {
      "text/plain": [
       "Airline            0\n",
       "Date_of_Journey    0\n",
       "Source             0\n",
       "Destination        0\n",
       "Route              0\n",
       "Dep_Time           0\n",
       "Arrival_Time       0\n",
       "Duration           0\n",
       "Total_Stops        0\n",
       "Additional_Info    0\n",
       "dtype: int64"
      ]
     },
     "execution_count": 211,
     "metadata": {},
     "output_type": "execute_result"
    }
   ],
   "source": [
    "test_data.isnull().sum()"
   ]
  },
  {
   "cell_type": "code",
   "execution_count": 219,
   "id": "a6fbacb7-2df4-4309-877a-ae6311306416",
   "metadata": {},
   "outputs": [],
   "source": [
    "test_data_copy = test_data.copy(deep= True)"
   ]
  },
  {
   "cell_type": "code",
   "execution_count": 257,
   "id": "16de2ed4-fee7-4a6d-ba3e-2a6860f0fb80",
   "metadata": {},
   "outputs": [],
   "source": [
    "test_data = test_data_copy.copy(deep = True)"
   ]
  },
  {
   "cell_type": "code",
   "execution_count": null,
   "id": "6ad86f33-0f4f-4a3b-a537-55d16fb80312",
   "metadata": {},
   "outputs": [],
   "source": []
  },
  {
   "cell_type": "code",
   "execution_count": 258,
   "id": "e4090a18-e3d2-4f4f-8369-71c9d3bd67a7",
   "metadata": {},
   "outputs": [],
   "source": [
    "#  Test Data\n",
    "\n",
    "# Date of Journey\n",
    "test_data['Year'] = pd.to_datetime(test_data['Date_of_Journey'],format = '%d/%m/%Y').dt.year\n",
    "test_data['Month'] = pd.to_datetime(test_data['Date_of_Journey'],format = '%d/%m/%Y').dt.month\n",
    "test_data['Date'] = pd.to_datetime(test_data['Date_of_Journey'],format = '%d/%m/%Y').dt.day\n",
    "\n",
    "test_data.drop('Date_of_Journey',axis =1,inplace = True)\n",
    "\n",
    "# Dep_Time\n",
    "test_data['Dep_hour'] = pd.to_datetime(test_data['Dep_Time']).dt.hour\n",
    "test_data['Dep_mins'] = pd.to_datetime(test_data['Dep_Time']).dt.minute\n",
    "test_data.drop('Dep_Time',axis =1,inplace = True)\n",
    "\n",
    "# Arrival Time\n",
    "test_data['Arrival_hrs'] = pd.to_datetime(test_data['Arrival_Time']).dt.hour\n",
    "test_data['Arrival_mins'] = pd.to_datetime(test_data['Arrival_Time']).dt.minute\n",
    "test_data.drop('Arrival_Time',axis =1,inplace = True)\n",
    "\n",
    "# Duration\n",
    "\n",
    "duration = list(test_data['Duration'])\n",
    "\n",
    "duration_hrs = []\n",
    "duration_mins = []\n",
    "\n",
    "for i in range(len(duration)):\n",
    "    if len(duration[i].split()) != 2:\n",
    "        if 'h' in duration[i]:\n",
    "            duration[i] = duration[i].strip() + ' 0m'\n",
    "        else:\n",
    "            duration[i] = '0h ' + duration[i]\n",
    "\n",
    "\n",
    "for i in range(len(duration)):\n",
    "    duration_hrs.append(int(duration[i].split(' ')[0].split('h')[0]))\n",
    "    duration_mins.append(int(duration[i].split(' ')[1].split('m')[0]))\n",
    "\n",
    "duration_hm = []\n",
    "for i in duration_hrs:\n",
    "    duration_hm.append(i*60)\n",
    "    \n",
    "test_data['Duration_mins'] = [i+j  for i,j  in zip(duration_hm, duration_mins)]\n",
    "\n",
    "test_data.drop('Duration',axis =1,inplace = True)\n",
    "\n",
    "\n",
    "# Route\n",
    "test_data.drop('Route',axis =1,inplace = True)\n",
    "\n",
    "# Total_Stops\n",
    "test_data.Total_Stops.replace({'non-stop':0, '2 stops':2, '1 stop':1, '3 stops':3, '4 stops':4},inplace = True)\n",
    "\n",
    "# Additional Info\n",
    "test_data.drop('Additional_Info',axis =1,inplace = True)\n",
    "\n",
    "\n",
    "# Get Dummies\n",
    "test_data = pd.get_dummies(test_data,drop_first = True).astype('int')\n"
   ]
  },
  {
   "cell_type": "code",
   "execution_count": 264,
   "id": "65e778cb-f6f9-40a5-942b-4feb5465740f",
   "metadata": {},
   "outputs": [],
   "source": [
    "test_data['Airline_Trujet']  = 1"
   ]
  },
  {
   "cell_type": "code",
   "execution_count": 235,
   "id": "e15e740e-0c2c-40bb-800b-65af71f425a2",
   "metadata": {},
   "outputs": [
    {
     "data": {
      "text/plain": [
       "(2671, 29)"
      ]
     },
     "execution_count": 235,
     "metadata": {},
     "output_type": "execute_result"
    }
   ],
   "source": [
    "test_data.shape"
   ]
  },
  {
   "cell_type": "code",
   "execution_count": 236,
   "id": "61a09c8e-1075-4c71-8df8-151891f0e387",
   "metadata": {},
   "outputs": [
    {
     "data": {
      "text/plain": [
       "(7323, 29)"
      ]
     },
     "execution_count": 236,
     "metadata": {},
     "output_type": "execute_result"
    }
   ],
   "source": [
    "X_train.shape"
   ]
  },
  {
   "cell_type": "code",
   "execution_count": null,
   "id": "c67a78af-c38d-4bdf-9ac0-0371a8ae6742",
   "metadata": {},
   "outputs": [],
   "source": [
    "RandomForestRegressor"
   ]
  },
  {
   "cell_type": "code",
   "execution_count": 263,
   "id": "6166dc84-7d44-4105-b1e5-d8f5eda2d9e7",
   "metadata": {},
   "outputs": [],
   "source": [
    "test_data.rename(columns = {'Dep_hour':'Dep_hrs'},inplace = True)"
   ]
  },
  {
   "cell_type": "code",
   "execution_count": 260,
   "id": "d13ce652-2dbd-4e19-8a56-ab4581f8bd64",
   "metadata": {},
   "outputs": [
    {
     "data": {
      "text/plain": [
       "Index(['Total_Stops', 'Date', 'Year', 'Month', 'Dep_hour', 'Dep_mins',\n",
       "       'Arrival_hrs', 'Arrival_mins', 'Duration_mins', 'Airline_Air India',\n",
       "       'Airline_GoAir', 'Airline_IndiGo', 'Airline_Jet Airways',\n",
       "       'Airline_Jet Airways Business', 'Airline_Multiple carriers',\n",
       "       'Airline_Multiple carriers Premium economy', 'Airline_SpiceJet',\n",
       "       'Airline_Vistara', 'Airline_Vistara Premium economy', 'Source_Chennai',\n",
       "       'Source_Delhi', 'Source_Kolkata', 'Source_Mumbai', 'Destination_Cochin',\n",
       "       'Destination_Delhi', 'Destination_Hyderabad', 'Destination_Kolkata',\n",
       "       'Destination_New Delhi'],\n",
       "      dtype='object')"
      ]
     },
     "execution_count": 260,
     "metadata": {},
     "output_type": "execute_result"
    }
   ],
   "source": [
    "test_data.columns"
   ]
  },
  {
   "cell_type": "code",
   "execution_count": 261,
   "id": "5ce025ac-3a13-4e6a-aa26-7d14a28d3c2c",
   "metadata": {},
   "outputs": [
    {
     "data": {
      "text/plain": [
       "Index(['Total_Stops', 'Year', 'Month', 'Date', 'Dep_hrs', 'Dep_mins',\n",
       "       'Arrival_hrs', 'Arrival_mins', 'Duration_mins', 'Airline_Air India',\n",
       "       'Airline_GoAir', 'Airline_IndiGo', 'Airline_Jet Airways',\n",
       "       'Airline_Jet Airways Business', 'Airline_Multiple carriers',\n",
       "       'Airline_Multiple carriers Premium economy', 'Airline_SpiceJet',\n",
       "       'Airline_Trujet', 'Airline_Vistara', 'Airline_Vistara Premium economy',\n",
       "       'Source_Chennai', 'Source_Delhi', 'Source_Kolkata', 'Source_Mumbai',\n",
       "       'Destination_Cochin', 'Destination_Delhi', 'Destination_Hyderabad',\n",
       "       'Destination_Kolkata', 'Destination_New Delhi'],\n",
       "      dtype='object')"
      ]
     },
     "execution_count": 261,
     "metadata": {},
     "output_type": "execute_result"
    }
   ],
   "source": [
    "X_train.columns"
   ]
  },
  {
   "cell_type": "code",
   "execution_count": 266,
   "id": "5a4c485b-f108-4cf8-923a-4ebb2eedc185",
   "metadata": {},
   "outputs": [],
   "source": [
    "test_data  = test_data[['Total_Stops', 'Year', 'Month', 'Date', 'Dep_hrs', 'Dep_mins',\n",
    "       'Arrival_hrs', 'Arrival_mins', 'Duration_mins', 'Airline_Air India',\n",
    "       'Airline_GoAir', 'Airline_IndiGo', 'Airline_Jet Airways',\n",
    "       'Airline_Jet Airways Business', 'Airline_Multiple carriers',\n",
    "       'Airline_Multiple carriers Premium economy', 'Airline_SpiceJet',\n",
    "       'Airline_Trujet', 'Airline_Vistara', 'Airline_Vistara Premium economy',\n",
    "       'Source_Chennai', 'Source_Delhi', 'Source_Kolkata', 'Source_Mumbai',\n",
    "       'Destination_Cochin', 'Destination_Delhi', 'Destination_Hyderabad',\n",
    "       'Destination_Kolkata', 'Destination_New Delhi']]"
   ]
  },
  {
   "cell_type": "code",
   "execution_count": 259,
   "id": "c5c280fd-1e47-4304-8fcb-da16cf70793f",
   "metadata": {},
   "outputs": [
    {
     "data": {
      "text/html": [
       "<div>\n",
       "<style scoped>\n",
       "    .dataframe tbody tr th:only-of-type {\n",
       "        vertical-align: middle;\n",
       "    }\n",
       "\n",
       "    .dataframe tbody tr th {\n",
       "        vertical-align: top;\n",
       "    }\n",
       "\n",
       "    .dataframe thead th {\n",
       "        text-align: right;\n",
       "    }\n",
       "</style>\n",
       "<table border=\"1\" class=\"dataframe\">\n",
       "  <thead>\n",
       "    <tr style=\"text-align: right;\">\n",
       "      <th></th>\n",
       "      <th>Total_Stops</th>\n",
       "      <th>Date</th>\n",
       "      <th>Year</th>\n",
       "      <th>Month</th>\n",
       "      <th>Dep_hour</th>\n",
       "      <th>Dep_mins</th>\n",
       "      <th>Arrival_hrs</th>\n",
       "      <th>Arrival_mins</th>\n",
       "      <th>Duration_mins</th>\n",
       "      <th>Airline_Air India</th>\n",
       "      <th>...</th>\n",
       "      <th>Airline_Vistara Premium economy</th>\n",
       "      <th>Source_Chennai</th>\n",
       "      <th>Source_Delhi</th>\n",
       "      <th>Source_Kolkata</th>\n",
       "      <th>Source_Mumbai</th>\n",
       "      <th>Destination_Cochin</th>\n",
       "      <th>Destination_Delhi</th>\n",
       "      <th>Destination_Hyderabad</th>\n",
       "      <th>Destination_Kolkata</th>\n",
       "      <th>Destination_New Delhi</th>\n",
       "    </tr>\n",
       "  </thead>\n",
       "  <tbody>\n",
       "    <tr>\n",
       "      <th>0</th>\n",
       "      <td>1</td>\n",
       "      <td>6</td>\n",
       "      <td>2019</td>\n",
       "      <td>6</td>\n",
       "      <td>17</td>\n",
       "      <td>30</td>\n",
       "      <td>4</td>\n",
       "      <td>25</td>\n",
       "      <td>655</td>\n",
       "      <td>0</td>\n",
       "      <td>...</td>\n",
       "      <td>0</td>\n",
       "      <td>0</td>\n",
       "      <td>1</td>\n",
       "      <td>0</td>\n",
       "      <td>0</td>\n",
       "      <td>1</td>\n",
       "      <td>0</td>\n",
       "      <td>0</td>\n",
       "      <td>0</td>\n",
       "      <td>0</td>\n",
       "    </tr>\n",
       "    <tr>\n",
       "      <th>1</th>\n",
       "      <td>1</td>\n",
       "      <td>12</td>\n",
       "      <td>2019</td>\n",
       "      <td>5</td>\n",
       "      <td>6</td>\n",
       "      <td>20</td>\n",
       "      <td>10</td>\n",
       "      <td>20</td>\n",
       "      <td>240</td>\n",
       "      <td>0</td>\n",
       "      <td>...</td>\n",
       "      <td>0</td>\n",
       "      <td>0</td>\n",
       "      <td>0</td>\n",
       "      <td>1</td>\n",
       "      <td>0</td>\n",
       "      <td>0</td>\n",
       "      <td>0</td>\n",
       "      <td>0</td>\n",
       "      <td>0</td>\n",
       "      <td>0</td>\n",
       "    </tr>\n",
       "    <tr>\n",
       "      <th>2</th>\n",
       "      <td>1</td>\n",
       "      <td>21</td>\n",
       "      <td>2019</td>\n",
       "      <td>5</td>\n",
       "      <td>19</td>\n",
       "      <td>15</td>\n",
       "      <td>19</td>\n",
       "      <td>0</td>\n",
       "      <td>1425</td>\n",
       "      <td>0</td>\n",
       "      <td>...</td>\n",
       "      <td>0</td>\n",
       "      <td>0</td>\n",
       "      <td>1</td>\n",
       "      <td>0</td>\n",
       "      <td>0</td>\n",
       "      <td>1</td>\n",
       "      <td>0</td>\n",
       "      <td>0</td>\n",
       "      <td>0</td>\n",
       "      <td>0</td>\n",
       "    </tr>\n",
       "    <tr>\n",
       "      <th>3</th>\n",
       "      <td>1</td>\n",
       "      <td>21</td>\n",
       "      <td>2019</td>\n",
       "      <td>5</td>\n",
       "      <td>8</td>\n",
       "      <td>0</td>\n",
       "      <td>21</td>\n",
       "      <td>0</td>\n",
       "      <td>780</td>\n",
       "      <td>0</td>\n",
       "      <td>...</td>\n",
       "      <td>0</td>\n",
       "      <td>0</td>\n",
       "      <td>1</td>\n",
       "      <td>0</td>\n",
       "      <td>0</td>\n",
       "      <td>1</td>\n",
       "      <td>0</td>\n",
       "      <td>0</td>\n",
       "      <td>0</td>\n",
       "      <td>0</td>\n",
       "    </tr>\n",
       "    <tr>\n",
       "      <th>4</th>\n",
       "      <td>0</td>\n",
       "      <td>24</td>\n",
       "      <td>2019</td>\n",
       "      <td>6</td>\n",
       "      <td>23</td>\n",
       "      <td>55</td>\n",
       "      <td>2</td>\n",
       "      <td>45</td>\n",
       "      <td>170</td>\n",
       "      <td>0</td>\n",
       "      <td>...</td>\n",
       "      <td>0</td>\n",
       "      <td>0</td>\n",
       "      <td>0</td>\n",
       "      <td>0</td>\n",
       "      <td>0</td>\n",
       "      <td>0</td>\n",
       "      <td>1</td>\n",
       "      <td>0</td>\n",
       "      <td>0</td>\n",
       "      <td>0</td>\n",
       "    </tr>\n",
       "  </tbody>\n",
       "</table>\n",
       "<p>5 rows × 28 columns</p>\n",
       "</div>"
      ],
      "text/plain": [
       "   Total_Stops  Date  Year  Month  Dep_hour  Dep_mins  Arrival_hrs  \\\n",
       "0            1     6  2019      6        17        30            4   \n",
       "1            1    12  2019      5         6        20           10   \n",
       "2            1    21  2019      5        19        15           19   \n",
       "3            1    21  2019      5         8         0           21   \n",
       "4            0    24  2019      6        23        55            2   \n",
       "\n",
       "   Arrival_mins  Duration_mins  Airline_Air India  ...  \\\n",
       "0            25            655                  0  ...   \n",
       "1            20            240                  0  ...   \n",
       "2             0           1425                  0  ...   \n",
       "3             0            780                  0  ...   \n",
       "4            45            170                  0  ...   \n",
       "\n",
       "   Airline_Vistara Premium economy  Source_Chennai  Source_Delhi  \\\n",
       "0                                0               0             1   \n",
       "1                                0               0             0   \n",
       "2                                0               0             1   \n",
       "3                                0               0             1   \n",
       "4                                0               0             0   \n",
       "\n",
       "   Source_Kolkata  Source_Mumbai  Destination_Cochin  Destination_Delhi  \\\n",
       "0               0              0                   1                  0   \n",
       "1               1              0                   0                  0   \n",
       "2               0              0                   1                  0   \n",
       "3               0              0                   1                  0   \n",
       "4               0              0                   0                  1   \n",
       "\n",
       "   Destination_Hyderabad  Destination_Kolkata  Destination_New Delhi  \n",
       "0                      0                    0                      0  \n",
       "1                      0                    0                      0  \n",
       "2                      0                    0                      0  \n",
       "3                      0                    0                      0  \n",
       "4                      0                    0                      0  \n",
       "\n",
       "[5 rows x 28 columns]"
      ]
     },
     "execution_count": 259,
     "metadata": {},
     "output_type": "execute_result"
    }
   ],
   "source": [
    "test_data.head()"
   ]
  },
  {
   "cell_type": "code",
   "execution_count": 256,
   "id": "9f6033d7-5f6f-450c-b42f-f1a17e22fe7a",
   "metadata": {},
   "outputs": [
    {
     "data": {
      "text/html": [
       "<div>\n",
       "<style scoped>\n",
       "    .dataframe tbody tr th:only-of-type {\n",
       "        vertical-align: middle;\n",
       "    }\n",
       "\n",
       "    .dataframe tbody tr th {\n",
       "        vertical-align: top;\n",
       "    }\n",
       "\n",
       "    .dataframe thead th {\n",
       "        text-align: right;\n",
       "    }\n",
       "</style>\n",
       "<table border=\"1\" class=\"dataframe\">\n",
       "  <thead>\n",
       "    <tr style=\"text-align: right;\">\n",
       "      <th></th>\n",
       "      <th>Total_Stops</th>\n",
       "      <th>Year</th>\n",
       "      <th>Month</th>\n",
       "      <th>Date</th>\n",
       "      <th>Dep_hrs</th>\n",
       "      <th>Dep_mins</th>\n",
       "      <th>Arrival_hrs</th>\n",
       "      <th>Arrival_mins</th>\n",
       "      <th>Duration_mins</th>\n",
       "      <th>Airline_Air India</th>\n",
       "      <th>...</th>\n",
       "      <th>Airline_Vistara Premium economy</th>\n",
       "      <th>Source_Chennai</th>\n",
       "      <th>Source_Delhi</th>\n",
       "      <th>Source_Kolkata</th>\n",
       "      <th>Source_Mumbai</th>\n",
       "      <th>Destination_Cochin</th>\n",
       "      <th>Destination_Delhi</th>\n",
       "      <th>Destination_Hyderabad</th>\n",
       "      <th>Destination_Kolkata</th>\n",
       "      <th>Destination_New Delhi</th>\n",
       "    </tr>\n",
       "  </thead>\n",
       "  <tbody>\n",
       "    <tr>\n",
       "      <th>8586</th>\n",
       "      <td>0</td>\n",
       "      <td>2019</td>\n",
       "      <td>4</td>\n",
       "      <td>6</td>\n",
       "      <td>20</td>\n",
       "      <td>0</td>\n",
       "      <td>22</td>\n",
       "      <td>50</td>\n",
       "      <td>170</td>\n",
       "      <td>0</td>\n",
       "      <td>...</td>\n",
       "      <td>0</td>\n",
       "      <td>0</td>\n",
       "      <td>0</td>\n",
       "      <td>0</td>\n",
       "      <td>0</td>\n",
       "      <td>0</td>\n",
       "      <td>1</td>\n",
       "      <td>0</td>\n",
       "      <td>0</td>\n",
       "      <td>0</td>\n",
       "    </tr>\n",
       "    <tr>\n",
       "      <th>4535</th>\n",
       "      <td>0</td>\n",
       "      <td>2019</td>\n",
       "      <td>4</td>\n",
       "      <td>24</td>\n",
       "      <td>22</td>\n",
       "      <td>20</td>\n",
       "      <td>0</td>\n",
       "      <td>40</td>\n",
       "      <td>140</td>\n",
       "      <td>0</td>\n",
       "      <td>...</td>\n",
       "      <td>0</td>\n",
       "      <td>0</td>\n",
       "      <td>0</td>\n",
       "      <td>1</td>\n",
       "      <td>0</td>\n",
       "      <td>0</td>\n",
       "      <td>0</td>\n",
       "      <td>0</td>\n",
       "      <td>0</td>\n",
       "      <td>0</td>\n",
       "    </tr>\n",
       "  </tbody>\n",
       "</table>\n",
       "<p>2 rows × 29 columns</p>\n",
       "</div>"
      ],
      "text/plain": [
       "      Total_Stops  Year  Month  Date  Dep_hrs  Dep_mins  Arrival_hrs  \\\n",
       "8586            0  2019      4     6       20         0           22   \n",
       "4535            0  2019      4    24       22        20            0   \n",
       "\n",
       "      Arrival_mins  Duration_mins  Airline_Air India  ...  \\\n",
       "8586            50            170                  0  ...   \n",
       "4535            40            140                  0  ...   \n",
       "\n",
       "      Airline_Vistara Premium economy  Source_Chennai  Source_Delhi  \\\n",
       "8586                                0               0             0   \n",
       "4535                                0               0             0   \n",
       "\n",
       "      Source_Kolkata  Source_Mumbai  Destination_Cochin  Destination_Delhi  \\\n",
       "8586               0              0                   0                  1   \n",
       "4535               1              0                   0                  0   \n",
       "\n",
       "      Destination_Hyderabad  Destination_Kolkata  Destination_New Delhi  \n",
       "8586                      0                    0                      0  \n",
       "4535                      0                    0                      0  \n",
       "\n",
       "[2 rows x 29 columns]"
      ]
     },
     "execution_count": 256,
     "metadata": {},
     "output_type": "execute_result"
    }
   ],
   "source": [
    "X_train.head(2)"
   ]
  },
  {
   "cell_type": "code",
   "execution_count": 249,
   "id": "5f70e38a-9cf5-4bbf-82c9-c179fdfb2ffb",
   "metadata": {},
   "outputs": [
    {
     "data": {
      "text/plain": [
       "Index(['Total_Stops', 'Date', 'Month', 'Year', 'Dep_hrs', 'Dep_mins',\n",
       "       'Arrival_hrs', 'Arrival_mins', 'Duration_mins', 'Airline_Air India',\n",
       "       'Airline_GoAir', 'Airline_IndiGo', 'Airline_Jet Airways',\n",
       "       'Airline_Jet Airways Business', 'Airline_Multiple carriers',\n",
       "       'Airline_Multiple carriers Premium economy', 'Airline_SpiceJet',\n",
       "       'Airline_Vistara', 'Airline_Vistara Premium economy', 'Source_Chennai',\n",
       "       'Source_Delhi', 'Source_Kolkata', 'Source_Mumbai', 'Destination_Cochin',\n",
       "       'Destination_Delhi', 'Destination_Hyderabad', 'Destination_Kolkata',\n",
       "       'Destination_New Delhi', 'Airline_Trujet'],\n",
       "      dtype='object')"
      ]
     },
     "execution_count": 249,
     "metadata": {},
     "output_type": "execute_result"
    }
   ],
   "source": [
    "test_data.columns"
   ]
  },
  {
   "cell_type": "code",
   "execution_count": 268,
   "id": "daeb3cff-0af3-4a4b-9a4f-fd3ebb2a8d6c",
   "metadata": {},
   "outputs": [],
   "source": [
    "test_data['Predicted_Price'] = models[2].predict(test_data)"
   ]
  },
  {
   "cell_type": "code",
   "execution_count": 271,
   "id": "f4acb021-0a92-4d91-b1c1-d052669ef5f2",
   "metadata": {},
   "outputs": [],
   "source": [
    "test_data['Predicted_Price'].to_csv('predicted_price.csv')"
   ]
  },
  {
   "cell_type": "code",
   "execution_count": 269,
   "id": "46a4f06c-d3a6-42d5-b7b5-ca90f9133360",
   "metadata": {},
   "outputs": [
    {
     "data": {
      "text/html": [
       "<div>\n",
       "<style scoped>\n",
       "    .dataframe tbody tr th:only-of-type {\n",
       "        vertical-align: middle;\n",
       "    }\n",
       "\n",
       "    .dataframe tbody tr th {\n",
       "        vertical-align: top;\n",
       "    }\n",
       "\n",
       "    .dataframe thead th {\n",
       "        text-align: right;\n",
       "    }\n",
       "</style>\n",
       "<table border=\"1\" class=\"dataframe\">\n",
       "  <thead>\n",
       "    <tr style=\"text-align: right;\">\n",
       "      <th></th>\n",
       "      <th>Total_Stops</th>\n",
       "      <th>Year</th>\n",
       "      <th>Month</th>\n",
       "      <th>Date</th>\n",
       "      <th>Dep_hrs</th>\n",
       "      <th>Dep_mins</th>\n",
       "      <th>Arrival_hrs</th>\n",
       "      <th>Arrival_mins</th>\n",
       "      <th>Duration_mins</th>\n",
       "      <th>Airline_Air India</th>\n",
       "      <th>...</th>\n",
       "      <th>Source_Chennai</th>\n",
       "      <th>Source_Delhi</th>\n",
       "      <th>Source_Kolkata</th>\n",
       "      <th>Source_Mumbai</th>\n",
       "      <th>Destination_Cochin</th>\n",
       "      <th>Destination_Delhi</th>\n",
       "      <th>Destination_Hyderabad</th>\n",
       "      <th>Destination_Kolkata</th>\n",
       "      <th>Destination_New Delhi</th>\n",
       "      <th>Predicted_Price</th>\n",
       "    </tr>\n",
       "  </thead>\n",
       "  <tbody>\n",
       "    <tr>\n",
       "      <th>0</th>\n",
       "      <td>1</td>\n",
       "      <td>2019</td>\n",
       "      <td>6</td>\n",
       "      <td>6</td>\n",
       "      <td>17</td>\n",
       "      <td>30</td>\n",
       "      <td>4</td>\n",
       "      <td>25</td>\n",
       "      <td>655</td>\n",
       "      <td>0</td>\n",
       "      <td>...</td>\n",
       "      <td>0</td>\n",
       "      <td>1</td>\n",
       "      <td>0</td>\n",
       "      <td>0</td>\n",
       "      <td>1</td>\n",
       "      <td>0</td>\n",
       "      <td>0</td>\n",
       "      <td>0</td>\n",
       "      <td>0</td>\n",
       "      <td>10458.720000</td>\n",
       "    </tr>\n",
       "    <tr>\n",
       "      <th>1</th>\n",
       "      <td>1</td>\n",
       "      <td>2019</td>\n",
       "      <td>5</td>\n",
       "      <td>12</td>\n",
       "      <td>6</td>\n",
       "      <td>20</td>\n",
       "      <td>10</td>\n",
       "      <td>20</td>\n",
       "      <td>240</td>\n",
       "      <td>0</td>\n",
       "      <td>...</td>\n",
       "      <td>0</td>\n",
       "      <td>0</td>\n",
       "      <td>1</td>\n",
       "      <td>0</td>\n",
       "      <td>0</td>\n",
       "      <td>0</td>\n",
       "      <td>0</td>\n",
       "      <td>0</td>\n",
       "      <td>0</td>\n",
       "      <td>4225.140000</td>\n",
       "    </tr>\n",
       "    <tr>\n",
       "      <th>2</th>\n",
       "      <td>1</td>\n",
       "      <td>2019</td>\n",
       "      <td>5</td>\n",
       "      <td>21</td>\n",
       "      <td>19</td>\n",
       "      <td>15</td>\n",
       "      <td>19</td>\n",
       "      <td>0</td>\n",
       "      <td>1425</td>\n",
       "      <td>0</td>\n",
       "      <td>...</td>\n",
       "      <td>0</td>\n",
       "      <td>1</td>\n",
       "      <td>0</td>\n",
       "      <td>0</td>\n",
       "      <td>1</td>\n",
       "      <td>0</td>\n",
       "      <td>0</td>\n",
       "      <td>0</td>\n",
       "      <td>0</td>\n",
       "      <td>15062.996667</td>\n",
       "    </tr>\n",
       "    <tr>\n",
       "      <th>3</th>\n",
       "      <td>1</td>\n",
       "      <td>2019</td>\n",
       "      <td>5</td>\n",
       "      <td>21</td>\n",
       "      <td>8</td>\n",
       "      <td>0</td>\n",
       "      <td>21</td>\n",
       "      <td>0</td>\n",
       "      <td>780</td>\n",
       "      <td>0</td>\n",
       "      <td>...</td>\n",
       "      <td>0</td>\n",
       "      <td>1</td>\n",
       "      <td>0</td>\n",
       "      <td>0</td>\n",
       "      <td>1</td>\n",
       "      <td>0</td>\n",
       "      <td>0</td>\n",
       "      <td>0</td>\n",
       "      <td>0</td>\n",
       "      <td>12195.753333</td>\n",
       "    </tr>\n",
       "    <tr>\n",
       "      <th>4</th>\n",
       "      <td>0</td>\n",
       "      <td>2019</td>\n",
       "      <td>6</td>\n",
       "      <td>24</td>\n",
       "      <td>23</td>\n",
       "      <td>55</td>\n",
       "      <td>2</td>\n",
       "      <td>45</td>\n",
       "      <td>170</td>\n",
       "      <td>0</td>\n",
       "      <td>...</td>\n",
       "      <td>0</td>\n",
       "      <td>0</td>\n",
       "      <td>0</td>\n",
       "      <td>0</td>\n",
       "      <td>0</td>\n",
       "      <td>1</td>\n",
       "      <td>0</td>\n",
       "      <td>0</td>\n",
       "      <td>0</td>\n",
       "      <td>3752.280000</td>\n",
       "    </tr>\n",
       "    <tr>\n",
       "      <th>...</th>\n",
       "      <td>...</td>\n",
       "      <td>...</td>\n",
       "      <td>...</td>\n",
       "      <td>...</td>\n",
       "      <td>...</td>\n",
       "      <td>...</td>\n",
       "      <td>...</td>\n",
       "      <td>...</td>\n",
       "      <td>...</td>\n",
       "      <td>...</td>\n",
       "      <td>...</td>\n",
       "      <td>...</td>\n",
       "      <td>...</td>\n",
       "      <td>...</td>\n",
       "      <td>...</td>\n",
       "      <td>...</td>\n",
       "      <td>...</td>\n",
       "      <td>...</td>\n",
       "      <td>...</td>\n",
       "      <td>...</td>\n",
       "      <td>...</td>\n",
       "    </tr>\n",
       "    <tr>\n",
       "      <th>2666</th>\n",
       "      <td>1</td>\n",
       "      <td>2019</td>\n",
       "      <td>6</td>\n",
       "      <td>6</td>\n",
       "      <td>20</td>\n",
       "      <td>30</td>\n",
       "      <td>20</td>\n",
       "      <td>25</td>\n",
       "      <td>1435</td>\n",
       "      <td>1</td>\n",
       "      <td>...</td>\n",
       "      <td>0</td>\n",
       "      <td>0</td>\n",
       "      <td>1</td>\n",
       "      <td>0</td>\n",
       "      <td>0</td>\n",
       "      <td>0</td>\n",
       "      <td>0</td>\n",
       "      <td>0</td>\n",
       "      <td>0</td>\n",
       "      <td>10191.600000</td>\n",
       "    </tr>\n",
       "    <tr>\n",
       "      <th>2667</th>\n",
       "      <td>0</td>\n",
       "      <td>2019</td>\n",
       "      <td>3</td>\n",
       "      <td>27</td>\n",
       "      <td>14</td>\n",
       "      <td>20</td>\n",
       "      <td>16</td>\n",
       "      <td>55</td>\n",
       "      <td>155</td>\n",
       "      <td>0</td>\n",
       "      <td>...</td>\n",
       "      <td>0</td>\n",
       "      <td>0</td>\n",
       "      <td>1</td>\n",
       "      <td>0</td>\n",
       "      <td>0</td>\n",
       "      <td>0</td>\n",
       "      <td>0</td>\n",
       "      <td>0</td>\n",
       "      <td>0</td>\n",
       "      <td>5121.790000</td>\n",
       "    </tr>\n",
       "    <tr>\n",
       "      <th>2668</th>\n",
       "      <td>1</td>\n",
       "      <td>2019</td>\n",
       "      <td>3</td>\n",
       "      <td>6</td>\n",
       "      <td>21</td>\n",
       "      <td>50</td>\n",
       "      <td>4</td>\n",
       "      <td>25</td>\n",
       "      <td>395</td>\n",
       "      <td>0</td>\n",
       "      <td>...</td>\n",
       "      <td>0</td>\n",
       "      <td>1</td>\n",
       "      <td>0</td>\n",
       "      <td>0</td>\n",
       "      <td>1</td>\n",
       "      <td>0</td>\n",
       "      <td>0</td>\n",
       "      <td>0</td>\n",
       "      <td>0</td>\n",
       "      <td>15744.093905</td>\n",
       "    </tr>\n",
       "    <tr>\n",
       "      <th>2669</th>\n",
       "      <td>1</td>\n",
       "      <td>2019</td>\n",
       "      <td>3</td>\n",
       "      <td>6</td>\n",
       "      <td>4</td>\n",
       "      <td>0</td>\n",
       "      <td>19</td>\n",
       "      <td>15</td>\n",
       "      <td>915</td>\n",
       "      <td>1</td>\n",
       "      <td>...</td>\n",
       "      <td>0</td>\n",
       "      <td>1</td>\n",
       "      <td>0</td>\n",
       "      <td>0</td>\n",
       "      <td>1</td>\n",
       "      <td>0</td>\n",
       "      <td>0</td>\n",
       "      <td>0</td>\n",
       "      <td>0</td>\n",
       "      <td>13700.040000</td>\n",
       "    </tr>\n",
       "    <tr>\n",
       "      <th>2670</th>\n",
       "      <td>1</td>\n",
       "      <td>2019</td>\n",
       "      <td>6</td>\n",
       "      <td>15</td>\n",
       "      <td>4</td>\n",
       "      <td>55</td>\n",
       "      <td>19</td>\n",
       "      <td>15</td>\n",
       "      <td>860</td>\n",
       "      <td>0</td>\n",
       "      <td>...</td>\n",
       "      <td>0</td>\n",
       "      <td>1</td>\n",
       "      <td>0</td>\n",
       "      <td>0</td>\n",
       "      <td>1</td>\n",
       "      <td>0</td>\n",
       "      <td>0</td>\n",
       "      <td>0</td>\n",
       "      <td>0</td>\n",
       "      <td>7365.930000</td>\n",
       "    </tr>\n",
       "  </tbody>\n",
       "</table>\n",
       "<p>2671 rows × 30 columns</p>\n",
       "</div>"
      ],
      "text/plain": [
       "      Total_Stops  Year  Month  Date  Dep_hrs  Dep_mins  Arrival_hrs  \\\n",
       "0               1  2019      6     6       17        30            4   \n",
       "1               1  2019      5    12        6        20           10   \n",
       "2               1  2019      5    21       19        15           19   \n",
       "3               1  2019      5    21        8         0           21   \n",
       "4               0  2019      6    24       23        55            2   \n",
       "...           ...   ...    ...   ...      ...       ...          ...   \n",
       "2666            1  2019      6     6       20        30           20   \n",
       "2667            0  2019      3    27       14        20           16   \n",
       "2668            1  2019      3     6       21        50            4   \n",
       "2669            1  2019      3     6        4         0           19   \n",
       "2670            1  2019      6    15        4        55           19   \n",
       "\n",
       "      Arrival_mins  Duration_mins  Airline_Air India  ...  Source_Chennai  \\\n",
       "0               25            655                  0  ...               0   \n",
       "1               20            240                  0  ...               0   \n",
       "2                0           1425                  0  ...               0   \n",
       "3                0            780                  0  ...               0   \n",
       "4               45            170                  0  ...               0   \n",
       "...            ...            ...                ...  ...             ...   \n",
       "2666            25           1435                  1  ...               0   \n",
       "2667            55            155                  0  ...               0   \n",
       "2668            25            395                  0  ...               0   \n",
       "2669            15            915                  1  ...               0   \n",
       "2670            15            860                  0  ...               0   \n",
       "\n",
       "      Source_Delhi  Source_Kolkata  Source_Mumbai  Destination_Cochin  \\\n",
       "0                1               0              0                   1   \n",
       "1                0               1              0                   0   \n",
       "2                1               0              0                   1   \n",
       "3                1               0              0                   1   \n",
       "4                0               0              0                   0   \n",
       "...            ...             ...            ...                 ...   \n",
       "2666             0               1              0                   0   \n",
       "2667             0               1              0                   0   \n",
       "2668             1               0              0                   1   \n",
       "2669             1               0              0                   1   \n",
       "2670             1               0              0                   1   \n",
       "\n",
       "      Destination_Delhi  Destination_Hyderabad  Destination_Kolkata  \\\n",
       "0                     0                      0                    0   \n",
       "1                     0                      0                    0   \n",
       "2                     0                      0                    0   \n",
       "3                     0                      0                    0   \n",
       "4                     1                      0                    0   \n",
       "...                 ...                    ...                  ...   \n",
       "2666                  0                      0                    0   \n",
       "2667                  0                      0                    0   \n",
       "2668                  0                      0                    0   \n",
       "2669                  0                      0                    0   \n",
       "2670                  0                      0                    0   \n",
       "\n",
       "      Destination_New Delhi  Predicted_Price  \n",
       "0                         0     10458.720000  \n",
       "1                         0      4225.140000  \n",
       "2                         0     15062.996667  \n",
       "3                         0     12195.753333  \n",
       "4                         0      3752.280000  \n",
       "...                     ...              ...  \n",
       "2666                      0     10191.600000  \n",
       "2667                      0      5121.790000  \n",
       "2668                      0     15744.093905  \n",
       "2669                      0     13700.040000  \n",
       "2670                      0      7365.930000  \n",
       "\n",
       "[2671 rows x 30 columns]"
      ]
     },
     "execution_count": 269,
     "metadata": {},
     "output_type": "execute_result"
    }
   ],
   "source": [
    "test_data"
   ]
  },
  {
   "cell_type": "code",
   "execution_count": null,
   "id": "08ffae8c-b490-401e-8db8-3e8e62eed31b",
   "metadata": {},
   "outputs": [],
   "source": []
  },
  {
   "cell_type": "code",
   "execution_count": null,
   "id": "c17d0153-4883-4163-93cb-690818a798e6",
   "metadata": {},
   "outputs": [],
   "source": []
  },
  {
   "cell_type": "code",
   "execution_count": 231,
   "id": "0b3b1e0d-a07d-4c97-9fee-fb404282d1a1",
   "metadata": {},
   "outputs": [],
   "source": [
    "list1 = test_data.columns\n",
    "list2 = X_train.columns"
   ]
  },
  {
   "cell_type": "code",
   "execution_count": 232,
   "id": "170f70d9-77e6-4351-8d0e-5c496000756a",
   "metadata": {},
   "outputs": [
    {
     "data": {
      "text/plain": [
       "{'Airline_Trujet', 'Dep_hrs'}"
      ]
     },
     "execution_count": 232,
     "metadata": {},
     "output_type": "execute_result"
    }
   ],
   "source": [
    "set(list2) - set(list1)"
   ]
  },
  {
   "cell_type": "code",
   "execution_count": 233,
   "id": "3a9fe988-e737-4d68-a2ad-9dae5f5440e4",
   "metadata": {},
   "outputs": [
    {
     "data": {
      "text/plain": [
       "{'Dep_hour'}"
      ]
     },
     "execution_count": 233,
     "metadata": {},
     "output_type": "execute_result"
    }
   ],
   "source": [
    "set(list1) - set(list2)"
   ]
  },
  {
   "cell_type": "code",
   "execution_count": 221,
   "id": "fdd088f6-e271-4e26-88c4-99cac0a9d78c",
   "metadata": {},
   "outputs": [
    {
     "data": {
      "text/plain": [
       "(2671, 33)"
      ]
     },
     "execution_count": 221,
     "metadata": {},
     "output_type": "execute_result"
    }
   ],
   "source": [
    "test_data.shape"
   ]
  },
  {
   "cell_type": "code",
   "execution_count": 218,
   "id": "be963817-e20d-4f07-9190-e949a95250c9",
   "metadata": {},
   "outputs": [
    {
     "data": {
      "text/html": [
       "<div>\n",
       "<style scoped>\n",
       "    .dataframe tbody tr th:only-of-type {\n",
       "        vertical-align: middle;\n",
       "    }\n",
       "\n",
       "    .dataframe tbody tr th {\n",
       "        vertical-align: top;\n",
       "    }\n",
       "\n",
       "    .dataframe thead th {\n",
       "        text-align: right;\n",
       "    }\n",
       "</style>\n",
       "<table border=\"1\" class=\"dataframe\">\n",
       "  <thead>\n",
       "    <tr style=\"text-align: right;\">\n",
       "      <th></th>\n",
       "      <th>Airline</th>\n",
       "      <th>Date_of_Journey</th>\n",
       "      <th>Source</th>\n",
       "      <th>Destination</th>\n",
       "      <th>Route</th>\n",
       "      <th>Dep_Time</th>\n",
       "      <th>Arrival_Time</th>\n",
       "      <th>Duration</th>\n",
       "      <th>Total_Stops</th>\n",
       "      <th>Additional_Info</th>\n",
       "      <th>Date</th>\n",
       "    </tr>\n",
       "  </thead>\n",
       "  <tbody>\n",
       "    <tr>\n",
       "      <th>0</th>\n",
       "      <td>Jet Airways</td>\n",
       "      <td>6/06/2019</td>\n",
       "      <td>Delhi</td>\n",
       "      <td>Cochin</td>\n",
       "      <td>DEL → BOM → COK</td>\n",
       "      <td>17:30</td>\n",
       "      <td>04:25 07 Jun</td>\n",
       "      <td>10h 55m</td>\n",
       "      <td>1 stop</td>\n",
       "      <td>No info</td>\n",
       "      <td>6</td>\n",
       "    </tr>\n",
       "    <tr>\n",
       "      <th>1</th>\n",
       "      <td>IndiGo</td>\n",
       "      <td>12/05/2019</td>\n",
       "      <td>Kolkata</td>\n",
       "      <td>Banglore</td>\n",
       "      <td>CCU → MAA → BLR</td>\n",
       "      <td>06:20</td>\n",
       "      <td>10:20</td>\n",
       "      <td>4h</td>\n",
       "      <td>1 stop</td>\n",
       "      <td>No info</td>\n",
       "      <td>12</td>\n",
       "    </tr>\n",
       "    <tr>\n",
       "      <th>2</th>\n",
       "      <td>Jet Airways</td>\n",
       "      <td>21/05/2019</td>\n",
       "      <td>Delhi</td>\n",
       "      <td>Cochin</td>\n",
       "      <td>DEL → BOM → COK</td>\n",
       "      <td>19:15</td>\n",
       "      <td>19:00 22 May</td>\n",
       "      <td>23h 45m</td>\n",
       "      <td>1 stop</td>\n",
       "      <td>In-flight meal not included</td>\n",
       "      <td>21</td>\n",
       "    </tr>\n",
       "    <tr>\n",
       "      <th>3</th>\n",
       "      <td>Multiple carriers</td>\n",
       "      <td>21/05/2019</td>\n",
       "      <td>Delhi</td>\n",
       "      <td>Cochin</td>\n",
       "      <td>DEL → BOM → COK</td>\n",
       "      <td>08:00</td>\n",
       "      <td>21:00</td>\n",
       "      <td>13h</td>\n",
       "      <td>1 stop</td>\n",
       "      <td>No info</td>\n",
       "      <td>21</td>\n",
       "    </tr>\n",
       "    <tr>\n",
       "      <th>4</th>\n",
       "      <td>Air Asia</td>\n",
       "      <td>24/06/2019</td>\n",
       "      <td>Banglore</td>\n",
       "      <td>Delhi</td>\n",
       "      <td>BLR → DEL</td>\n",
       "      <td>23:55</td>\n",
       "      <td>02:45 25 Jun</td>\n",
       "      <td>2h 50m</td>\n",
       "      <td>non-stop</td>\n",
       "      <td>No info</td>\n",
       "      <td>24</td>\n",
       "    </tr>\n",
       "  </tbody>\n",
       "</table>\n",
       "</div>"
      ],
      "text/plain": [
       "             Airline Date_of_Journey    Source Destination            Route  \\\n",
       "0        Jet Airways       6/06/2019     Delhi      Cochin  DEL → BOM → COK   \n",
       "1             IndiGo      12/05/2019   Kolkata    Banglore  CCU → MAA → BLR   \n",
       "2        Jet Airways      21/05/2019     Delhi      Cochin  DEL → BOM → COK   \n",
       "3  Multiple carriers      21/05/2019     Delhi      Cochin  DEL → BOM → COK   \n",
       "4           Air Asia      24/06/2019  Banglore       Delhi        BLR → DEL   \n",
       "\n",
       "  Dep_Time  Arrival_Time Duration Total_Stops              Additional_Info  \\\n",
       "0    17:30  04:25 07 Jun  10h 55m      1 stop                      No info   \n",
       "1    06:20         10:20       4h      1 stop                      No info   \n",
       "2    19:15  19:00 22 May  23h 45m      1 stop  In-flight meal not included   \n",
       "3    08:00         21:00      13h      1 stop                      No info   \n",
       "4    23:55  02:45 25 Jun   2h 50m    non-stop                      No info   \n",
       "\n",
       "   Date  \n",
       "0     6  \n",
       "1    12  \n",
       "2    21  \n",
       "3    21  \n",
       "4    24  "
      ]
     },
     "execution_count": 218,
     "metadata": {},
     "output_type": "execute_result"
    }
   ],
   "source": [
    "test_data.head()"
   ]
  },
  {
   "cell_type": "code",
   "execution_count": 217,
   "id": "1a7a4f6c-35d5-4869-a66e-972a8438c921",
   "metadata": {},
   "outputs": [
    {
     "data": {
      "text/plain": [
       "0        4\n",
       "1       10\n",
       "2       19\n",
       "3       21\n",
       "4        2\n",
       "        ..\n",
       "2666    20\n",
       "2667    16\n",
       "2668     4\n",
       "2669    19\n",
       "2670    19\n",
       "Name: Arrival_Time, Length: 2671, dtype: int32"
      ]
     },
     "execution_count": 217,
     "metadata": {},
     "output_type": "execute_result"
    }
   ],
   "source": [
    "pd.to_datetime(test_data['Arrival_Time']).dt.hour"
   ]
  },
  {
   "cell_type": "code",
   "execution_count": 215,
   "id": "3dae78ad-06f3-4419-b20e-52158f1ae6bd",
   "metadata": {},
   "outputs": [
    {
     "data": {
      "text/plain": [
       "0        6\n",
       "1       12\n",
       "2       21\n",
       "3       21\n",
       "4       24\n",
       "        ..\n",
       "2666     6\n",
       "2667    27\n",
       "2668     6\n",
       "2669     6\n",
       "2670    15\n",
       "Name: Date_of_Journey, Length: 2671, dtype: int32"
      ]
     },
     "execution_count": 215,
     "metadata": {},
     "output_type": "execute_result"
    }
   ],
   "source": [
    "pd.to_datetime(test_data['Date_of_Journey'],format = '%d/%m/%Y').dt.day"
   ]
  }
 ],
 "metadata": {
  "kernelspec": {
   "display_name": "Python 3 (ipykernel)",
   "language": "python",
   "name": "python3"
  },
  "language_info": {
   "codemirror_mode": {
    "name": "ipython",
    "version": 3
   },
   "file_extension": ".py",
   "mimetype": "text/x-python",
   "name": "python",
   "nbconvert_exporter": "python",
   "pygments_lexer": "ipython3",
   "version": "3.11.7"
  }
 },
 "nbformat": 4,
 "nbformat_minor": 5
}
